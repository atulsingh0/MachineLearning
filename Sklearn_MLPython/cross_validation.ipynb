{
 "cells": [
  {
   "cell_type": "markdown",
   "metadata": {},
   "source": [
    "#### Cross Validation"
   ]
  },
  {
   "cell_type": "code",
   "execution_count": 77,
   "metadata": {
    "collapsed": false
   },
   "outputs": [],
   "source": [
    "# import\n",
    "from sklearn.datasets import load_iris\n",
    "from sklearn.cross_validation import cross_val_score, KFold, train_test_split, cross_val_predict, LeaveOneOut, LeavePOut\n",
    "from sklearn.cross_validation import ShuffleSplit, StratifiedKFold, StratifiedShuffleSplit\n",
    "from sklearn.metrics import accuracy_score\n",
    "from sklearn.svm import SVC\n",
    "\n",
    "from scipy.stats import sem\n",
    "import numpy as np\n",
    "import matplotlib.pyplot as plt\n",
    "\n",
    "%matplotlib inline"
   ]
  },
  {
   "cell_type": "code",
   "execution_count": 2,
   "metadata": {
    "collapsed": true
   },
   "outputs": [],
   "source": [
    "iris = load_iris()\n",
    "\n",
    "X, y = iris.data, iris.target"
   ]
  },
  {
   "cell_type": "code",
   "execution_count": 5,
   "metadata": {
    "collapsed": false
   },
   "outputs": [
    {
     "name": "stdout",
     "output_type": "stream",
     "text": [
      "(112, 4) (38, 4) 112\n"
     ]
    }
   ],
   "source": [
    "# splotting the data into train and test\n",
    "X_train, X_test, y_train, y_test = train_test_split(X, y, test_size=0.25, random_state=27)\n",
    "\n",
    "print(X_train.shape, X_test.shape, X_train.shape[0])"
   ]
  },
  {
   "cell_type": "markdown",
   "metadata": {},
   "source": [
    "    cross_val_score uses the KFold or StratifiedKFold strategies by default    "
   ]
  },
  {
   "cell_type": "code",
   "execution_count": 49,
   "metadata": {
    "collapsed": false
   },
   "outputs": [],
   "source": [
    "# define cross_val func\n",
    "\n",
    "def xVal_score(clf, X, y, K):\n",
    "    \n",
    "    # creating K using KFold\n",
    "    cv = KFold(n=X.shape[0], n_folds=K, shuffle=True, random_state=True)\n",
    "    \n",
    "    # Can use suffle as well\n",
    "    # cv = ShuffleSplit(n_splits=3, test_size=0.3, random_state=0)\n",
    "    \n",
    "    # doing cross validation\n",
    "    scores = cross_val_score(clf, X, y, cv=cv)\n",
    "    print(scores)\n",
    "    print(\"Accuracy Mean : %0.3f\" %np.mean(scores))\n",
    "    print(\"Std : \", np.std(scores)*2)\n",
    "    print(\"Standard Err : +/- {0:0.3f} \".format(sem(scores)))"
   ]
  },
  {
   "cell_type": "code",
   "execution_count": 50,
   "metadata": {
    "collapsed": false
   },
   "outputs": [
    {
     "name": "stdout",
     "output_type": "stream",
     "text": [
      "[ 0.91666667  0.91666667  1.          1.          0.90909091  1.          1.\n",
      "  0.90909091  1.          1.        ]\n",
      "Accuracy Mean : 0.965\n",
      "Std :  0.0854953695737\n",
      "Standard Err : +/- 0.014 \n"
     ]
    }
   ],
   "source": [
    "svc1 = SVC()\n",
    "xVal_score(svc1, X_train, y_train, 10)"
   ]
  },
  {
   "cell_type": "code",
   "execution_count": 53,
   "metadata": {
    "collapsed": true
   },
   "outputs": [],
   "source": [
    "# define cross_val predict\n",
    "# The function cross_val_predict has a similar interface to cross_val_score, but returns, \n",
    "# for each element in the input, the prediction that was obtained for that element when it \n",
    "# was in the test set. Only cross-validation strategies that assign all elements to a test \n",
    "# set exactly once can be used (otherwise, an exception is raised).\n",
    "\n",
    "def xVal_predict(clf, X, y, K):\n",
    "    \n",
    "    # creating K using KFold\n",
    "    cv = KFold(n=X.shape[0], n_folds=K, shuffle=True, random_state=True)\n",
    "    \n",
    "    # Can use suffle as well\n",
    "    # cv = ShuffleSplit(n_splits=3, test_size=0.3, random_state=0)\n",
    "    \n",
    "    # doing cross validation prediction\n",
    "    predicted = cross_val_predict(clf, X, y, cv=cv)\n",
    "    print(predicted)\n",
    "    print(\"Accuracy Score : %0.3f\" % accuracy_score(y, predicted))"
   ]
  },
  {
   "cell_type": "code",
   "execution_count": 54,
   "metadata": {
    "collapsed": false
   },
   "outputs": [
    {
     "name": "stdout",
     "output_type": "stream",
     "text": [
      "[1 0 0 2 2 2 0 1 2 2 1 0 0 0 1 0 1 0 2 0 0 1 2 2 1 2 2 1 2 2 0 2 0 2 2 0 1\n",
      " 0 0 0 1 1 2 2 0 2 0 1 2 2 1 0 1 2 1 2 1 1 0 1 0 0 0 0 2 2 0 1 1 2 0 1 2 2\n",
      " 0 0 2 1 0 2 1 0 1 1 2 1 0 1 1 1 1 2 0 1 1 0 1 0 2 0 2 2 0 2 2 0 0 0 1 0 2\n",
      " 0]\n",
      "Accuracy Score : 0.964\n"
     ]
    }
   ],
   "source": [
    "xVal_predict(svc1, X_train, y_train, 10)"
   ]
  },
  {
   "cell_type": "markdown",
   "metadata": {},
   "source": [
    "** Cross Validation Iterator **  \n",
    "\n",
    "** K-Fold ** - KFold divides all the samples in k groups of samples, called folds (if k = n, this is equivalent to the Leave One Out strategy), of equal sizes (if possible). The prediction function is learned using k - 1 folds, and the fold left out is used for test."
   ]
  },
  {
   "cell_type": "code",
   "execution_count": 68,
   "metadata": {
    "collapsed": false
   },
   "outputs": [
    {
     "name": "stdout",
     "output_type": "stream",
     "text": [
      "sklearn.cross_validation.KFold(n=5, n_folds=2, shuffle=False, random_state=None)\n",
      "(array([3, 4]), array([0, 1, 2]))\n",
      "(array([0, 1, 2]), array([3, 4]))\n"
     ]
    }
   ],
   "source": [
    "X = [1,2,3,4,5]\n",
    "kf = KFold(n=len(X), n_folds=2)\n",
    "print(kf)\n",
    "for i in kf:\n",
    "    print(i)"
   ]
  },
  {
   "cell_type": "markdown",
   "metadata": {},
   "source": [
    "** Leave One Out (LOO) **  - LeaveOneOut (or LOO) is a simple cross-validation. Each learning set is created by taking all the samples except one, the test set being the sample left out. Thus, for n samples, we have n different training sets and n different tests set. This cross-validation procedure does not waste much data as only one sample is removed from the training set:"
   ]
  },
  {
   "cell_type": "code",
   "execution_count": 70,
   "metadata": {
    "collapsed": false
   },
   "outputs": [
    {
     "name": "stdout",
     "output_type": "stream",
     "text": [
      "sklearn.cross_validation.LeaveOneOut(n=5)\n",
      "(array([1, 2, 3, 4]), array([0]))\n",
      "(array([0, 2, 3, 4]), array([1]))\n",
      "(array([0, 1, 3, 4]), array([2]))\n",
      "(array([0, 1, 2, 4]), array([3]))\n",
      "(array([0, 1, 2, 3]), array([4]))\n"
     ]
    }
   ],
   "source": [
    "X = [1,2,3,4,5]\n",
    "loo = LeaveOneOut(len(X))\n",
    "print(loo)\n",
    "for i in loo:\n",
    "    print(i)"
   ]
  },
  {
   "cell_type": "markdown",
   "metadata": {},
   "source": [
    "** Leave P Out (LPO) ** - LeavePOut is very similar to LeaveOneOut as it creates all the possible training/test sets by removing p samples from the complete set. For n samples, this produces {n \\choose p} train-test pairs. Unlike LeaveOneOut and KFold, the test sets will overlap for p > 1"
   ]
  },
  {
   "cell_type": "code",
   "execution_count": 72,
   "metadata": {
    "collapsed": false
   },
   "outputs": [
    {
     "name": "stdout",
     "output_type": "stream",
     "text": [
      "sklearn.cross_validation.LeavePOut(n=5, p=3)\n",
      "(array([3, 4]), array([0, 1, 2]))\n",
      "(array([2, 4]), array([0, 1, 3]))\n",
      "(array([2, 3]), array([0, 1, 4]))\n",
      "(array([1, 4]), array([0, 2, 3]))\n",
      "(array([1, 3]), array([0, 2, 4]))\n",
      "(array([1, 2]), array([0, 3, 4]))\n",
      "(array([0, 4]), array([1, 2, 3]))\n",
      "(array([0, 3]), array([1, 2, 4]))\n",
      "(array([0, 2]), array([1, 3, 4]))\n",
      "(array([0, 1]), array([2, 3, 4]))\n"
     ]
    }
   ],
   "source": [
    "X = [1,2,3,4,5]\n",
    "loo = LeavePOut(len(X), p=3)\n",
    "print(loo)\n",
    "for i in loo:\n",
    "    print(i)"
   ]
  },
  {
   "cell_type": "markdown",
   "metadata": {},
   "source": [
    "** Random permutations cross-validation a.k.a. Shuffle & Split ** - The ShuffleSplit iterator will generate a user defined number of independent train / test dataset splits. Samples are first shuffled and then split into a pair of train and test sets.\n",
    "\n",
    "It is possible to control the randomness for reproducibility of the results by explicitly seeding the random_state pseudo random number generator."
   ]
  },
  {
   "cell_type": "code",
   "execution_count": 76,
   "metadata": {
    "collapsed": false
   },
   "outputs": [
    {
     "name": "stdout",
     "output_type": "stream",
     "text": [
      "ShuffleSplit(5, n_iter=10, test_size=0.1, random_state=None)\n",
      "(array([1, 2, 3, 0]), array([4]))\n",
      "(array([2, 4, 1, 0]), array([3]))\n",
      "(array([2, 4, 1, 3]), array([0]))\n",
      "(array([3, 4, 0, 1]), array([2]))\n",
      "(array([2, 4, 0, 3]), array([1]))\n",
      "(array([0, 3, 2, 1]), array([4]))\n",
      "(array([0, 3, 1, 2]), array([4]))\n",
      "(array([1, 0, 3, 4]), array([2]))\n",
      "(array([3, 1, 0, 4]), array([2]))\n",
      "(array([0, 3, 4, 1]), array([2]))\n"
     ]
    }
   ],
   "source": [
    "X = [1,2,3,4,5]\n",
    "loo = ShuffleSplit(len(X))\n",
    "print(loo)\n",
    "for i in loo:\n",
    "    print(i)"
   ]
  },
  {
   "cell_type": "markdown",
   "metadata": {},
   "source": [
    "Some classification problems can exhibit a large imbalance in the distribution of the target classes: for instance there could be several times more negative samples than positive samples. In such cases it is recommended to use stratified sampling as implemented in StratifiedKFold and StratifiedShuffleSplit to ensure that relative class frequencies is approximately preserved in each train and validation fold.  \n",
    "\n",
    "** Stratified k-fold **  \n",
    "StratifiedKFold is a variation of k-fold which returns stratified folds: each set contains approximately the same percentage of samples of each target class as the complete set."
   ]
  },
  {
   "cell_type": "code",
   "execution_count": 82,
   "metadata": {
    "collapsed": false
   },
   "outputs": [
    {
     "ename": "SyntaxError",
     "evalue": "positional argument follows keyword argument (<ipython-input-82-4907d06b88d2>, line 4)",
     "output_type": "error",
     "traceback": [
      "\u001b[1;36m  File \u001b[1;32m\"<ipython-input-82-4907d06b88d2>\"\u001b[1;36m, line \u001b[1;32m4\u001b[0m\n\u001b[1;33m    skf = StratifiedKFold(n_folds=3, X)\u001b[0m\n\u001b[1;37m                                    ^\u001b[0m\n\u001b[1;31mSyntaxError\u001b[0m\u001b[1;31m:\u001b[0m positional argument follows keyword argument\n"
     ]
    }
   ],
   "source": [
    "X = np.ones(10)\n",
    "y = [0, 0, 0, 0, 1, 1, 1, 1, 1, 1]\n",
    "\n",
    "skf = StratifiedKFold(n_folds=3)\n",
    "for train, test in skf.split(X, y):\n",
    "    print(\"%s %s\" % (train, test))"
   ]
  },
  {
   "cell_type": "code",
   "execution_count": null,
   "metadata": {
    "collapsed": true
   },
   "outputs": [],
   "source": []
  }
 ],
 "metadata": {
  "kernelspec": {
   "display_name": "Python 3",
   "language": "python",
   "name": "python3"
  },
  "language_info": {
   "codemirror_mode": {
    "name": "ipython",
    "version": 3
   },
   "file_extension": ".py",
   "mimetype": "text/x-python",
   "name": "python",
   "nbconvert_exporter": "python",
   "pygments_lexer": "ipython3",
   "version": "3.5.2"
  }
 },
 "nbformat": 4,
 "nbformat_minor": 0
}
