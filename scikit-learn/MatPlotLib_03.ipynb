{
 "cells": [
  {
   "cell_type": "code",
   "execution_count": 1,
   "metadata": {
    "collapsed": true
   },
   "outputs": [],
   "source": [
    "# import\n",
    "import matplotlib.pyplot as plt"
   ]
  },
  {
   "cell_type": "markdown",
   "metadata": {},
   "source": [
    "#### Figures\n",
    "A “ﬁgure” in matplotlib means the whole window in the user interface. Within this ﬁgure there can be “sub-plots”.\n",
    "A ﬁgure is the windows in the GUI that has “Figure #” as title. Figures are numbered starting from1 as opposed\n",
    "to the normal Python way starting from 0.\n",
    "\n",
    "Argument | Default| Description\n",
    "----|---------|----------------------------\n",
    "num| 1| number of ﬁgure\n",
    "figsize| figure.figsize |ﬁgure size in in inches (width, height)\n",
    "dpi| figure.dpi| resolution in dots per inch\n",
    "facecolor| figure.facecolor| color of the drawing background\n",
    "edgecolor| figure.edgecolor| color of edge around the drawing background\n",
    "frameon| True| draw ﬁgure frame or not"
   ]
  },
  {
   "cell_type": "code",
   "execution_count": null,
   "metadata": {
    "collapsed": true
   },
   "outputs": [],
   "source": []
  }
 ],
 "metadata": {
  "kernelspec": {
   "display_name": "Python [conda root]",
   "language": "python",
   "name": "conda-root-py"
  },
  "language_info": {
   "codemirror_mode": {
    "name": "ipython",
    "version": 3
   },
   "file_extension": ".py",
   "mimetype": "text/x-python",
   "name": "python",
   "nbconvert_exporter": "python",
   "pygments_lexer": "ipython3",
   "version": "3.5.2"
  }
 },
 "nbformat": 4,
 "nbformat_minor": 1
}
