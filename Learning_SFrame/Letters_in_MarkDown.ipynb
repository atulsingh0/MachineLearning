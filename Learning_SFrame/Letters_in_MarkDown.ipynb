{
 "cells": [
  {
   "cell_type": "markdown",
   "metadata": {},
   "source": [
    "Greek Letter | Markdown |  Markdown Way \n",
    "--|--------------------|------------------\n",
    "alpha \t |   $$   \\alpha \t$$  |\n",
    "beta \t |   $$   \\beta \t$$  |\n",
    "gamma \t |   $$   \\gamma \t$$  |\n",
    "delta \t |   $$   \\delta \t$$  |\n",
    "epsilon  |   $$   \\epsilon $$  |\n",
    "zeta \t |   $$   \\zeta \t$$  |\n",
    "eta \t |   $$   \\eta \t$$  |\n",
    "theta \t |   $$   \\theta \t$$  |\n",
    "iota \t |   $$   \\iota \t$$  |\n",
    "kappa \t |   $$   \\kappa \t$$  |\n",
    "lambda \t |   $$   \\lambda \t$$  |\n",
    "mu \t\t |   $$   \\mu \t\t$$  |\n",
    "nu \t\t |   $$   \\nu \t\t$$  |\n",
    "xi \t\t |   $$   \\xi \t\t$$  |\n",
    "[omicron]  |   $$   [omicron] \t$$  |\n",
    "pi \t\t |   $$   \\pi \t\t$$  |\n",
    "rho \t |   $$   \\rho \t$$  |\n",
    "sigma \t |   $$   \\sigma \t$$  |\n",
    "tau \t |   $$   \\tau \t$$  |\n",
    "upsilon  |   $$   \\upsilon $$  |\n",
    "phi \t |   $$   \\phi \t$$  |\n",
    "chi \t |   $$   \\chi \t$$  |\n",
    "psi \t |   $$   \\psi \t$$  |\n",
    "omega \t |   $$   \\omega \t$$  |"
   ]
  },
  {
   "cell_type": "code",
   "execution_count": null,
   "metadata": {
    "collapsed": true
   },
   "outputs": [],
   "source": []
  }
 ],
 "metadata": {
  "kernelspec": {
   "display_name": "Python 3",
   "language": "python",
   "name": "python3"
  },
  "language_info": {
   "codemirror_mode": {
    "name": "ipython",
    "version": 3
   },
   "file_extension": ".py",
   "mimetype": "text/x-python",
   "name": "python",
   "nbconvert_exporter": "python",
   "pygments_lexer": "ipython3",
   "version": "3.5.2"
  }
 },
 "nbformat": 4,
 "nbformat_minor": 0
}
