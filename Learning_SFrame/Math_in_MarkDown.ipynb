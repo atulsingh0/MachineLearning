{
 "cells": [
  {
   "cell_type": "markdown",
   "metadata": {},
   "source": [
    "### Greek Letters"
   ]
  },
  {
   "cell_type": "markdown",
   "metadata": {},
   "source": [
    "MarkDown | Letter  | MarkDown | Letter | MarkDown | Letter |MarkDown | Letter |\n",
    "---------|---------|----------|--------|----------|--------|---------|--------|\n",
    "\\alpha   |$$ \\alpha  $$| \\theta | $$  \\theta $$ |  o | $$ o $$  | \\tau | $$ \\tau $$  \n",
    " \\beta      | $$ \\beta      $$ |    \\vartheta | $$ \\vartheta $$|  \\pi      | $$ \\pi      $$|  \\upsilon | $$ \\upsilon  $$\n",
    " \\gamma     | $$ \\gamma     $$ |    \\gamma    | $$ \\gamma    $$|  \\varpi   | $$ \\varpi   $$|  \\phi     | $$ \\phi      $$\n",
    " \\delta     | $$ \\delta     $$ |    \\kappa    | $$ \\kappa    $$|  \\rho     | $$ \\rho     $$|  \\varphi  | $$ \\varphi   $$\n",
    " \\epsilon   | $$ \\epsilon   $$ |    \\lambda   | $$ \\lambda   $$|  \\varrho  | $$ \\varrho  $$|  \\chi     | $$ \\chi      $$\n",
    " \\varepsilon| $$ \\varepsilon$$ |    \\mu       | $$ \\mu       $$|  \\sigma   | $$ \\sigma   $$|  \\psi     | $$ \\psi      $$\n",
    " \\zeta      | $$ \\zeta      $$ |    \\nu       | $$ \\nu       $$|  \\varsigma| $$ \\varsigma$$|  \\omega   | $$ \\omega    $$\n",
    " \\eta       | $$ \\eta       $$ |    \\xi       | $$ \\xi       $$|  \\Sigma   | $$ \\Sigma   $$|  \\Psi     | $$ \\Psi      $$\n",
    " \\Gamma     | $$ \\Gamma     $$ |    \\Lambda   | $$ \\Lambda   $$|  \\Upsilon | $$ \\Upsilon $$|  \\Omega   | $$ \\Omega    $$\n",
    " \\Delta     | $$ \\Delta     $$ |    \\Xi       | $$ \\Xi       $$|  \\Phi     | $$ \\Phi     $$|           | $$           $$\n",
    " \\Theta     | $$ \\Theta     $$ |    \\Pi       | $$ \\Pi       $$|           | $$          $$|           | $$           $$"
   ]
  },
  {
   "cell_type": "markdown",
   "metadata": {},
   "source": [
    "### Binary Operation Symbols"
   ]
  },
  {
   "cell_type": "markdown",
   "metadata": {},
   "source": [
    " MarkDown | Letter  | MarkDown | Letter | MarkDown | Letter |MarkDown | Letter |\n",
    "---------|---------|----------|--------|----------|--------|---------|--------|\n",
    " \\pm     | $$ \\pm     $$ |   \\cap      | $$ \\cap      $$|  \\diamond        | $$ \\diamond        $$|  \\oplus   | $$ \\oplus   $$\n",
    " \\mp     | $$ \\mp     $$ |   \\cup      | $$ \\cup      $$|  \\bigtriangleup  | $$ \\bigtriangleup  $$|  \\ominus  | $$ \\ominus  $$\n",
    " \\times  | $$ \\times  $$ |   \\uplus    | $$ \\uplus    $$|  \\bigtriangledown| $$ \\bigtriangledown$$|  \\otimes  | $$ \\otimes  $$\n",
    " \\div    | $$ \\div    $$ |   \\sqcap    | $$ \\sqcap    $$|  \\triangleleft   | $$ \\triangleleft   $$|  \\oslash  | $$ \\oslash  $$\n",
    " \\ast    | $$ \\ast    $$ |   \\sqcup    | $$ \\sqcup    $$|  \\triangleright  | $$ \\triangleright  $$|  \\odot    | $$ \\odot    $$\n",
    " \\star   | $$ \\star   $$ |   \\vee      | $$ \\vee      $$|  \\lhd$^b$        | $$ \\lhd$^b$        $$|  \\bigcirc | $$ \\bigcirc $$\n",
    " \\circ   | $$ \\circ   $$ |   \\wedge    | $$ \\wedge    $$|  \\rhd$^b$        | $$ \\rhd$^b$        $$|  \\dagger  | $$ \\dagger  $$\n",
    " \\bullet | $$ \\bullet $$ |   \\setminus | $$ \\setminus $$|  \\unlhd$^b$      | $$ \\unlhd$^b$      $$|  \\ddagger | $$ \\ddagger $$\n",
    " \\cdot   | $$ \\cdot   $$ |   \\wr       | $$ \\wr       $$|  \\unrhd$^b$      | $$ \\unrhd$^b$      $$|  \\amalg   | $$ \\amalg   $$\n",
    " +       | $$ +       $$ |   -         | $$ -         $$|                  | $$                 $$|           | $$          $$"
   ]
  },
  {
   "cell_type": "markdown",
   "metadata": {},
   "source": [
    "### Relation Symbols"
   ]
  },
  {
   "cell_type": "markdown",
   "metadata": {},
   "source": [
    " MarkDown| Letter  | MarkDown | Letter | MarkDown | Letter |MarkDown | Letter |\n",
    "---------|---------|----------|--------|----------|--------|---------|--------|\n",
    " \\leq          | $$ \\leq          $$ |   \\geq          | $$ \\geq         $$|  \\equiv   | $$ \\equiv   $$|  \\models   | $$ \\models   $$\n",
    " \\prec         | $$ \\prec         $$ |   \\succ         | $$ \\succ        $$|  \\sim     | $$ \\sim     $$|  \\perp     | $$ \\perp     $$\n",
    " \\preceq       | $$ \\preceq       $$ |   \\succeq       | $$ \\succeq      $$|  \\simeq   | $$ \\simeq   $$|  \\mid      | $$ \\mid      $$\n",
    " \\ll           | $$ \\ll           $$ |   \\gg           | $$ \\gg          $$|  \\asymp   | $$ \\asymp   $$|  \\parallel | $$ \\parallel $$\n",
    " \\subset       | $$ \\subset       $$ |   \\supset       | $$ \\supset      $$|  \\approx  | $$ \\approx  $$|  \\bowtie   | $$ \\bowtie   $$\n",
    " \\subseteq     | $$ \\subseteq     $$ |   \\supseteq     | $$ \\supseteq    $$|  \\cong    | $$ \\cong    $$|  \\Join$^b$ | $$ \\Join$^b$ $$\n",
    " \\sqsubset$^b$ | $$ \\sqsubset$^b$ $$ |   \\sqsupset$^b$ | $$ \\sqsupset$^b$$$|  \\neq     | $$ \\neq     $$|  \\smile    | $$ \\smile    $$\n",
    " \\sqsubseteq   | $$ \\sqsubseteq   $$ |   \\sqsupseteq   | $$ \\sqsupseteq  $$|  \\doteq   | $$ \\doteq   $$|  \\frown    | $$ \\frown    $$\n",
    " \\in           | $$ \\in           $$ |   \\ni           | $$ \\ni          $$|  \\propto  | $$ \\propto  $$|  =         | $$ =         $$\n",
    " \\vdash        | $$ \\vdash        $$ |   \\dashv        | $$ \\dashv       $$|  <        | $$    <     $$|  >         | $$ >         $$\n",
    " :             | $$    :          $$ |                 | $$              $$|           | $$          $$|            | $$           $$"
   ]
  },
  {
   "cell_type": "markdown",
   "metadata": {},
   "source": [
    "### Punctuation Symbols"
   ]
  },
  {
   "cell_type": "markdown",
   "metadata": {},
   "source": [
    "MarkDown| Letter  | MarkDown | Letter | MarkDown | Letter |MarkDown | Letter| \n",
    "---------|---------|----------|--------|----------|--------|---------|--------|\n",
    " ,          | $$ ,          $$ |   ;          | $$ ;         $$|  \\colon   | $$ \\colon   $$|  \\ldotp   | $$ \\ldotp   $$\n",
    " \\cdotp     | $$ \\cdotp     $$ |              | $$           $$|           | $$          $$|           | $$          $$   "
   ]
  },
  {
   "cell_type": "markdown",
   "metadata": {},
   "source": [
    "### Arrow Symbols"
   ]
  },
  {
   "cell_type": "code",
   "execution_count": null,
   "metadata": {
    "collapsed": true
   },
   "outputs": [],
   "source": []
  }
 ],
 "metadata": {
  "anaconda-cloud": {},
  "kernelspec": {
   "display_name": "Python 3",
   "language": "python",
   "name": "python3"
  },
  "language_info": {
   "codemirror_mode": {
    "name": "ipython",
    "version": 3
   },
   "file_extension": ".py",
   "mimetype": "text/x-python",
   "name": "python",
   "nbconvert_exporter": "python",
   "pygments_lexer": "ipython3",
   "version": "3.5.2"
  }
 },
 "nbformat": 4,
 "nbformat_minor": 1
}
