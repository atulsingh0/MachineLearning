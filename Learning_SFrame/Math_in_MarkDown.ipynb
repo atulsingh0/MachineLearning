{
 "cells": [
  {
   "cell_type": "markdown",
   "metadata": {},
   "source": [
    "## Mathematics in MarkDown  "
   ]
  },
  {
   "cell_type": "markdown",
   "metadata": {},
   "source": [
    "#### Inline Equation :     \n",
    "\n",
    "Pythogorous Theorem : \\$ x^2 + y^2 = 1 \\$  \n",
    "\n",
    "Pythogorous Theorem : $ x^2 + y^2 = 1 $  \n",
    "\n",
    "#### Simple display of Equation : \n",
    "\n",
    "Pythogorous Theorem : \\$\\$ x^2 + y^2 = 1 \\$\\$  \n",
    "\n",
    "Pythogorous Theorem : $$ x^2 + y^2 = 1 $$  "
   ]
  },
  {
   "cell_type": "markdown",
   "metadata": {},
   "source": [
    "## Breckets"
   ]
  },
  {
   "cell_type": "markdown",
   "metadata": {},
   "source": [
    "Markdown|Letter\n",
    "--|--\n",
    "( \\big(  |  $ ( \\big(  $\n",
    "\\Big( \\bigg( \\Bigg( | $ \\Big( \\bigg( \\Bigg( $ \n",
    "\\big] \\Big] \\bigg] \\Bigg]   |   $ \\big] \\Big] \\bigg] \\Bigg] $\n",
    "\\big\\{ \\Big\\{ \\bigg\\{ \\Bigg\\{  |  $  \\big\\{ \\Big\\{ \\bigg\\{ \\Bigg\\{ $\n",
    "\\big \\langle \\Big \\langle \\bigg \\langle \\Bigg \\langle   |   $  \\big \\langle \\Big \\langle \\bigg \\langle \\Bigg \\langle $\n",
    "\\big \\rangle \\Big \\rangle \\bigg \\rangle \\Bigg \\rangle  |  $ \\big \\rangle \\Big \\rangle \\bigg \\rangle \\Bigg \\rangle  $"
   ]
  },
  {
   "cell_type": "markdown",
   "metadata": {},
   "source": [
    "## Integrals\n",
    "\n",
    " MarkDown | &nbsp;&nbsp;&nbsp;&nbsp;&nbsp;&nbsp;Symbol &nbsp;&nbsp;&nbsp;&nbsp;&nbsp;&nbsp;&nbsp;&nbsp;&nbsp;&nbsp;&nbsp;&nbsp;&nbsp;&nbsp;&nbsp;&nbsp;|\n",
    "--------------------------------- |-------------------------------\n",
    " \\int_{lower}^{upper}             |  $ \\int_{lower}^{upper}     $  \n",
    " \\iint_{lower}^{upper}            |  $ \\iint_{lower}^{upper}    $  \n",
    " \\iiint_{lower}^{upper}           |  $ \\iiint_{lower}^{upper}   $  \n",
    "  \n",
    "  **\\int_{a}^{x} x^2 dx**                 $$ \\int_{a}^{x} x^2 dx      $$  \n",
    "  **\\iint_V \\mu(u,v) \\,du\\,dv**           $$ \\iint_V \\mu(u,v) \\,du\\,dv $$  \n",
    "  **\\iiint_V \\mu(u,v,w) \\,du\\,dv\\,dw**    $$ \\iiint_V \\mu(u,v,w) \\,du\\,dv\\,dw $$\n",
    "    "
   ]
  },
  {
   "cell_type": "markdown",
   "metadata": {},
   "source": [
    "## Sums and products  \n",
    "Inline **\\sum_{n=1}^{\\infty} 2^{-n} = 1**  $ \\quad\\quad\\sum_{n=1}^{\\infty} 2^{-n} = 1 $  \n",
    "\n",
    "** \\sum_{n=1}^{\\infty} 2^{-n} = 1 **              $$ \\sum_{n=1}^{\\infty} 2^{-n} = 1  $$   \n",
    "** \\prod_{i=a}^{b} f(i) **                        $$ \\prod_{i=a}^{b} f(i) $$  \n"
   ]
  },
  {
   "cell_type": "code",
   "execution_count": null,
   "metadata": {},
   "outputs": [],
   "source": []
  },
  {
   "cell_type": "markdown",
   "metadata": {},
   "source": [
    "Assume we have the next sets\n",
    "\n",
    "$$`\n",
    "S = \\{ z \\in \\mathbb{C}\\, |\\, |z| < 1 \\} \\quad \\textrm{and} \\quad S_2=\\partial{S}\n",
    "$$"
   ]
  },
  {
   "cell_type": "code",
   "execution_count": null,
   "metadata": {},
   "outputs": [],
   "source": []
  }
 ],
 "metadata": {
  "anaconda-cloud": {},
  "kernelspec": {
   "display_name": "Python 3",
   "language": "python",
   "name": "python3"
  },
  "language_info": {
   "codemirror_mode": {
    "name": "ipython",
    "version": 3
   },
   "file_extension": ".py",
   "mimetype": "text/x-python",
   "name": "python",
   "nbconvert_exporter": "python",
   "pygments_lexer": "ipython3",
   "version": "3.5.4"
  }
 },
 "nbformat": 4,
 "nbformat_minor": 2
}
