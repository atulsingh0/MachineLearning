{
 "cells": [
  {
   "cell_type": "code",
   "execution_count": 2,
   "metadata": {
    "collapsed": true
   },
   "outputs": [],
   "source": [
    "# import\n",
    "import pandas as pd\n",
    "import numpy as np"
   ]
  },
  {
   "cell_type": "code",
   "execution_count": 11,
   "metadata": {
    "collapsed": false
   },
   "outputs": [
    {
     "name": "stdout",
     "output_type": "stream",
     "text": [
      "<class 'pandas.core.frame.DataFrame'>\n"
     ]
    }
   ],
   "source": [
    "# creating a DataFrame\n",
    "titanic = pd.read_table(\"dataset/titanic.txt\", sep=\"|\")\n",
    "print(type(titanic))"
   ]
  },
  {
   "cell_type": "code",
   "execution_count": 13,
   "metadata": {
    "collapsed": false
   },
   "outputs": [
    {
     "name": "stdout",
     "output_type": "stream",
     "text": [
      "<class 'pandas.core.frame.DataFrame'>\n",
      "RangeIndex: 1309 entries, 0 to 1308\n",
      "Data columns (total 14 columns):\n",
      "pclass       1309 non-null int64\n",
      "survived     1309 non-null int64\n",
      "name         1309 non-null object\n",
      "sex          1309 non-null object\n",
      "age          1046 non-null float64\n",
      "sibsp        1309 non-null int64\n",
      "parch        1309 non-null int64\n",
      "ticket       1309 non-null object\n",
      "fare         1308 non-null float64\n",
      "cabin        295 non-null object\n",
      "embarked     1307 non-null object\n",
      "boat         486 non-null object\n",
      "body         121 non-null float64\n",
      "home.dest    745 non-null object\n",
      "dtypes: float64(3), int64(4), object(7)\n",
      "memory usage: 143.2+ KB\n",
      "None\n"
     ]
    }
   ],
   "source": [
    "# printing info\n",
    "print(titanic.info())"
   ]
  },
  {
   "cell_type": "markdown",
   "metadata": {},
   "source": [
    "```\n",
    "Import numpy using the standard alias np.\n",
    "Assign the numerical values in the DataFrame df to an array np_vals using the attribute values.\n",
    "Pass np_vals into the NumPy method log10() and store the results in np_vals_log10.\n",
    "Pass the entire df DataFrame into the NumPy method log10() and store the results in df_log10.\n",
    "Call print() and type() on both df_vals_log10 and df_log10, and compare. This has been done for you.\n",
    "```"
   ]
  },
  {
   "cell_type": "code",
   "execution_count": 20,
   "metadata": {
    "collapsed": false
   },
   "outputs": [],
   "source": [
    "# # Create array of DataFrame values: np_vals\n",
    "# np_vals = df.values\n",
    "\n",
    "# # Create new array of base 10 logarithm values: np_vals_log10\n",
    "# np_vals_log10 = np.log10(np_vals)\n",
    "\n",
    "# # Create array of new DataFrame by passing df to np.log10(): df_log10\n",
    "# df_log10 = np.log10(df)\n",
    "\n",
    "# # Print original and new data containers\n",
    "# print(type(np_vals), type(np_vals_log10))\n",
    "# print(type(df), type(df_log10))"
   ]
  },
  {
   "cell_type": "markdown",
   "metadata": {},
   "source": [
    "### Creating DataFrames"
   ]
  },
  {
   "cell_type": "code",
   "execution_count": 25,
   "metadata": {
    "collapsed": false
   },
   "outputs": [
    {
     "name": "stdout",
     "output_type": "stream",
     "text": [
      "<class 'list'>\n"
     ]
    }
   ],
   "source": [
    "# creating two lists\n",
    "list_keys = ['Country', 'Total']\n",
    "list_values = [['United States', 'Soviet Union', 'United Kingdom'], [1118, 473, 273]]\n",
    "print(type(list_keys))"
   ]
  },
  {
   "cell_type": "code",
   "execution_count": 26,
   "metadata": {
    "collapsed": false
   },
   "outputs": [
    {
     "name": "stdout",
     "output_type": "stream",
     "text": [
      "[('Country', ['United States', 'Soviet Union', 'United Kingdom']), ('Total', [1118, 473, 273])]\n"
     ]
    }
   ],
   "source": [
    "#creating a list which have key, valye touple\n",
    "zipped = list(zip(list_keys, list_values))\n",
    "print(zipped)"
   ]
  },
  {
   "cell_type": "code",
   "execution_count": 27,
   "metadata": {
    "collapsed": false
   },
   "outputs": [
    {
     "name": "stdout",
     "output_type": "stream",
     "text": [
      "{'Total': [1118, 473, 273], 'Country': ['United States', 'Soviet Union', 'United Kingdom']} \n",
      " <class 'dict'>\n"
     ]
    }
   ],
   "source": [
    "# creating a disctionary from zipped values\n",
    "data = dict(zipped)\n",
    "print(data, \"\\n\", type(data))"
   ]
  },
  {
   "cell_type": "code",
   "execution_count": 28,
   "metadata": {
    "collapsed": false
   },
   "outputs": [
    {
     "name": "stdout",
     "output_type": "stream",
     "text": [
      "          Country  Total\n",
      "0   United States   1118\n",
      "1    Soviet Union    473\n",
      "2  United Kingdom    273\n"
     ]
    }
   ],
   "source": [
    "# creating a dataframe\n",
    "df = pd.DataFrame(data)\n",
    "print(df)"
   ]
  },
  {
   "cell_type": "code",
   "execution_count": 31,
   "metadata": {
    "collapsed": false
   },
   "outputs": [
    {
     "name": "stdout",
     "output_type": "stream",
     "text": [
      "     Country_Name  Total_1\n",
      "0   United States     1118\n",
      "1    Soviet Union      473\n",
      "2  United Kingdom      273\n"
     ]
    }
   ],
   "source": [
    "# we can chanage the columns names\n",
    "df.columns = ['Country_Name', 'Total_1']\n",
    "print(df)"
   ]
  },
  {
   "cell_type": "code",
   "execution_count": 32,
   "metadata": {
    "collapsed": false
   },
   "outputs": [
    {
     "name": "stdout",
     "output_type": "stream",
     "text": [
      "    cities state\n",
      "0   Kanpur    UP\n",
      "1     Agra    UP\n",
      "2  Lucknow    UP\n"
     ]
    }
   ],
   "source": [
    "# Broadcasting of a variable in dataframe\n",
    "state = 'UP'\n",
    "cities = ['Kanpur', 'Agra', 'Lucknow']\n",
    "\n",
    "# creating DataFrame\n",
    "df = pd.DataFrame({'state':state, 'cities':cities})\n",
    "print(df)"
   ]
  },
  {
   "cell_type": "code",
   "execution_count": 33,
   "metadata": {
    "collapsed": true
   },
   "outputs": [],
   "source": [
    "# # Read in the file: df1\n",
    "# df1 = pd.read_csv('world_population.csv')\n",
    "\n",
    "# # Create a list of the new column labels: new_labels\n",
    "# new_labels = ['year', 'population']\n",
    "\n",
    "# # Read in the file, specifying the header and names parameters: df2\n",
    "# df2 = pd.read_csv('world_population.csv', header=0, names=new_labels)\n",
    "\n",
    "# # Print both the DataFrames\n",
    "# print(df1)\n",
    "# print(df2)"
   ]
  },
  {
   "cell_type": "markdown",
   "metadata": {},
   "source": [
    "```\n",
    "Use pd.read_csv() without using any keyword arguments to read file_messy into a pandas DataFrame df1.\n",
    "Use .head() to print the first 5 rows of df1 and see how messy it is. Do this in the IPython Shell first so you can see how modifying read_csv() can clean up this mess.\n",
    "Using the keyword arguments delimiter=' ', header=3 and comment='#', use pd.read_csv() again to read file_messy into a new DataFrame df2.\n",
    "Print the output of df2.head() to verify the file was read correctly.\n",
    "Use the DataFrame method .to_csv() to save the DataFrame df2 to the file file_clean. Be sure to specify index=False.\n",
    "Use the DataFrame method .to_excel() to save the DataFrame df2 to the file 'file_clean.xlsx'. Again, remember to specify index=False.\n",
    "```"
   ]
  },
  {
   "cell_type": "markdown",
   "metadata": {
    "collapsed": true
   },
   "source": [
    "```\n",
    "Create the plot with the DataFrame method df.plot(). Specify a color of 'red'.\n",
    "Note: c and color are interchangeable as parameters here, but we ask you to be explicit and specify color.\n",
    "Use plt.title() to give the plot a title of 'Temperature in Austin'.\n",
    "Use plt.xlabel() to give the plot an x-axis label of 'Hours since midnight August 1, 2010'.\n",
    "Use plt.ylabel() to give the plot a y-axis label of 'Temperature (degrees F)'.\n",
    "Finally, display the plot using plt.show().\n",
    "```"
   ]
  },
  {
   "cell_type": "code",
   "execution_count": 1,
   "metadata": {
    "collapsed": false
   },
   "outputs": [
    {
     "ename": "NameError",
     "evalue": "name 'df' is not defined",
     "output_type": "error",
     "traceback": [
      "\u001b[0;31m---------------------------------------------------------------------------\u001b[0m",
      "\u001b[0;31mNameError\u001b[0m                                 Traceback (most recent call last)",
      "\u001b[0;32m<ipython-input-1-9812bfc6d065>\u001b[0m in \u001b[0;36m<module>\u001b[0;34m()\u001b[0m\n\u001b[1;32m      1\u001b[0m \u001b[1;31m# Create a plot with color='red'\u001b[0m\u001b[1;33m\u001b[0m\u001b[1;33m\u001b[0m\u001b[0m\n\u001b[0;32m----> 2\u001b[0;31m \u001b[0mdf\u001b[0m\u001b[1;33m.\u001b[0m\u001b[0mplot\u001b[0m\u001b[1;33m(\u001b[0m\u001b[0mcolor\u001b[0m\u001b[1;33m=\u001b[0m\u001b[1;34m'red'\u001b[0m\u001b[1;33m)\u001b[0m\u001b[1;33m\u001b[0m\u001b[0m\n\u001b[0m\u001b[1;32m      3\u001b[0m \u001b[1;33m\u001b[0m\u001b[0m\n\u001b[1;32m      4\u001b[0m \u001b[1;31m# Add a title\u001b[0m\u001b[1;33m\u001b[0m\u001b[1;33m\u001b[0m\u001b[0m\n\u001b[1;32m      5\u001b[0m \u001b[0mplt\u001b[0m\u001b[1;33m.\u001b[0m\u001b[0mtitle\u001b[0m\u001b[1;33m(\u001b[0m\u001b[1;34m'Temperature in Austin'\u001b[0m\u001b[1;33m)\u001b[0m\u001b[1;33m\u001b[0m\u001b[0m\n",
      "\u001b[0;31mNameError\u001b[0m: name 'df' is not defined"
     ]
    }
   ],
   "source": [
    "# # Create a plot with color='red'\n",
    "# df.plot(color='red')\n",
    "\n",
    "# # Add a title\n",
    "# plt.title('Temperature in Austin')\n",
    "\n",
    "# # Specify the x-axis label\n",
    "# plt.xlabel('Hours since midnight August 1, 2010')\n",
    "\n",
    "# # Specify the y-axis label\n",
    "# plt.ylabel('Temperature (degrees F)')\n",
    "\n",
    "# # Display the plot\n",
    "# plt.show()"
   ]
  },
  {
   "cell_type": "markdown",
   "metadata": {},
   "source": [
    "```\n",
    "Plot all columns together on one figure by calling df.plot(), and noting the vertical scaling problem.\n",
    "Plot all columns as subplots. To do so, you need to specify subplots=True inside .plot().\n",
    "Plot a single column of dew point data. To do this, define a column list containing a single column name 'Dew Point (deg F)', and call df[column_list1].plot().\n",
    "Plot two columns of data, 'Temperature (deg F)' and 'Dew Point (deg F)'. To do this, define a list containing those column names and pass it into df[], as df[column_list2].plot().\n",
    "```"
   ]
  },
  {
   "cell_type": "code",
   "execution_count": 3,
   "metadata": {
    "collapsed": true
   },
   "outputs": [],
   "source": [
    "# # Plot all columns (default)\n",
    "# df.plot()\n",
    "# plt.show()\n",
    "\n",
    "# # Plot all columns as subplots\n",
    "# df.plot(subplots=True)\n",
    "# plt.show()\n",
    "\n",
    "# # Plot just the Dew Point data\n",
    "# column_list1 = [\"Dew Point (deg F)\"]\n",
    "# df[column_list1].plot()\n",
    "# plt.show()\n",
    "\n",
    "# # Plot the Dew Point and Temperature data, but not the Pressure data\n",
    "# column_list2 = ['Temperature (deg F)','Dew Point (deg F)']\n",
    "# df[column_list2].plot()\n",
    "# plt.show()\n"
   ]
  },
  {
   "cell_type": "markdown",
   "metadata": {},
   "source": [
    "```\n",
    "Create a list of y-axis column names called y_columns consisting of 'AAPL' and 'IBM'.\n",
    "Generate a line plot with x='Month' and y=y_columns as inputs.\n",
    "Add a title to the plot.\n",
    "Specify the y-axis label.\n",
    "Display the plot.\n",
    "```"
   ]
  },
  {
   "cell_type": "code",
   "execution_count": null,
   "metadata": {
    "collapsed": true
   },
   "outputs": [],
   "source": [
    "# # Create a list of y-axis column names: y_columns\n",
    "# y_columns = ['AAPL', 'IBM']\n",
    "\n",
    "# # Generate a line plot\n",
    "# df.plot(x='Month', y=y_columns)\n",
    "\n",
    "# # Add the title\n",
    "# plt.title('Monthly stock prices')\n",
    "\n",
    "# # Add the y-axis label\n",
    "# plt.ylabel('Price ($US)')\n",
    "\n",
    "# # Display the plot\n",
    "# plt.show()"
   ]
  }
 ],
 "metadata": {
  "kernelspec": {
   "display_name": "Python [default]",
   "language": "python",
   "name": "python3"
  },
  "language_info": {
   "codemirror_mode": {
    "name": "ipython",
    "version": 3
   },
   "file_extension": ".py",
   "mimetype": "text/x-python",
   "name": "python",
   "nbconvert_exporter": "python",
   "pygments_lexer": "ipython3",
   "version": "3.5.2"
  }
 },
 "nbformat": 4,
 "nbformat_minor": 0
}
