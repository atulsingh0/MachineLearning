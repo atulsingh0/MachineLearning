{
 "cells": [
  {
   "cell_type": "code",
   "execution_count": 14,
   "metadata": {
    "collapsed": true
   },
   "outputs": [],
   "source": [
    "# import\n",
    "import pandas as pd\n",
    "import numpy as np"
   ]
  },
  {
   "cell_type": "code",
   "execution_count": 11,
   "metadata": {
    "collapsed": false
   },
   "outputs": [
    {
     "name": "stdout",
     "output_type": "stream",
     "text": [
      "<class 'pandas.core.frame.DataFrame'>\n"
     ]
    }
   ],
   "source": [
    "# creating a DataFrame\n",
    "titanic = pd.read_table(\"dataset/titanic.txt\", sep=\"|\")\n",
    "print(type(titanic))"
   ]
  },
  {
   "cell_type": "code",
   "execution_count": 13,
   "metadata": {
    "collapsed": false
   },
   "outputs": [
    {
     "name": "stdout",
     "output_type": "stream",
     "text": [
      "<class 'pandas.core.frame.DataFrame'>\n",
      "RangeIndex: 1309 entries, 0 to 1308\n",
      "Data columns (total 14 columns):\n",
      "pclass       1309 non-null int64\n",
      "survived     1309 non-null int64\n",
      "name         1309 non-null object\n",
      "sex          1309 non-null object\n",
      "age          1046 non-null float64\n",
      "sibsp        1309 non-null int64\n",
      "parch        1309 non-null int64\n",
      "ticket       1309 non-null object\n",
      "fare         1308 non-null float64\n",
      "cabin        295 non-null object\n",
      "embarked     1307 non-null object\n",
      "boat         486 non-null object\n",
      "body         121 non-null float64\n",
      "home.dest    745 non-null object\n",
      "dtypes: float64(3), int64(4), object(7)\n",
      "memory usage: 143.2+ KB\n",
      "None\n"
     ]
    }
   ],
   "source": [
    "# printing info\n",
    "print(titanic.info())"
   ]
  },
  {
   "cell_type": "markdown",
   "metadata": {},
   "source": [
    "```\n",
    "Import numpy using the standard alias np.\n",
    "Assign the numerical values in the DataFrame df to an array np_vals using the attribute values.\n",
    "Pass np_vals into the NumPy method log10() and store the results in np_vals_log10.\n",
    "Pass the entire df DataFrame into the NumPy method log10() and store the results in df_log10.\n",
    "Call print() and type() on both df_vals_log10 and df_log10, and compare. This has been done for you.\n",
    "```"
   ]
  },
  {
   "cell_type": "code",
   "execution_count": 20,
   "metadata": {
    "collapsed": false
   },
   "outputs": [],
   "source": [
    "# # Create array of DataFrame values: np_vals\n",
    "# np_vals = df.values\n",
    "\n",
    "# # Create new array of base 10 logarithm values: np_vals_log10\n",
    "# np_vals_log10 = np.log10(np_vals)\n",
    "\n",
    "# # Create array of new DataFrame by passing df to np.log10(): df_log10\n",
    "# df_log10 = np.log10(df)\n",
    "\n",
    "# # Print original and new data containers\n",
    "# print(type(np_vals), type(np_vals_log10))\n",
    "# print(type(df), type(df_log10))"
   ]
  },
  {
   "cell_type": "markdown",
   "metadata": {},
   "source": [
    "### Creating DataFrames"
   ]
  },
  {
   "cell_type": "code",
   "execution_count": 25,
   "metadata": {
    "collapsed": false
   },
   "outputs": [
    {
     "name": "stdout",
     "output_type": "stream",
     "text": [
      "<class 'list'>\n"
     ]
    }
   ],
   "source": [
    "# creating two lists\n",
    "list_keys = ['Country', 'Total']\n",
    "list_values = [['United States', 'Soviet Union', 'United Kingdom'], [1118, 473, 273]]\n",
    "print(type(list_keys))"
   ]
  },
  {
   "cell_type": "code",
   "execution_count": 26,
   "metadata": {
    "collapsed": false
   },
   "outputs": [
    {
     "name": "stdout",
     "output_type": "stream",
     "text": [
      "[('Country', ['United States', 'Soviet Union', 'United Kingdom']), ('Total', [1118, 473, 273])]\n"
     ]
    }
   ],
   "source": [
    "#creating a list which have key, valye touple\n",
    "zipped = list(zip(list_keys, list_values))\n",
    "print(zipped)"
   ]
  },
  {
   "cell_type": "code",
   "execution_count": 27,
   "metadata": {
    "collapsed": false
   },
   "outputs": [
    {
     "name": "stdout",
     "output_type": "stream",
     "text": [
      "{'Total': [1118, 473, 273], 'Country': ['United States', 'Soviet Union', 'United Kingdom']} \n",
      " <class 'dict'>\n"
     ]
    }
   ],
   "source": [
    "# creating a disctionary from zipped values\n",
    "data = dict(zipped)\n",
    "print(data, \"\\n\", type(data))"
   ]
  },
  {
   "cell_type": "code",
   "execution_count": 28,
   "metadata": {
    "collapsed": false
   },
   "outputs": [
    {
     "name": "stdout",
     "output_type": "stream",
     "text": [
      "          Country  Total\n",
      "0   United States   1118\n",
      "1    Soviet Union    473\n",
      "2  United Kingdom    273\n"
     ]
    }
   ],
   "source": [
    "# creating a dataframe\n",
    "df = pd.DataFrame(data)\n",
    "print(df)"
   ]
  },
  {
   "cell_type": "code",
   "execution_count": 31,
   "metadata": {
    "collapsed": false
   },
   "outputs": [
    {
     "name": "stdout",
     "output_type": "stream",
     "text": [
      "     Country_Name  Total_1\n",
      "0   United States     1118\n",
      "1    Soviet Union      473\n",
      "2  United Kingdom      273\n"
     ]
    }
   ],
   "source": [
    "# we can chanage the columns names\n",
    "df.columns = ['Country_Name', 'Total_1']\n",
    "print(df)"
   ]
  },
  {
   "cell_type": "code",
   "execution_count": 32,
   "metadata": {
    "collapsed": false
   },
   "outputs": [
    {
     "name": "stdout",
     "output_type": "stream",
     "text": [
      "    cities state\n",
      "0   Kanpur    UP\n",
      "1     Agra    UP\n",
      "2  Lucknow    UP\n"
     ]
    }
   ],
   "source": [
    "# Broadcasting of a variable in dataframe\n",
    "state = 'UP'\n",
    "cities = ['Kanpur', 'Agra', 'Lucknow']\n",
    "\n",
    "# creating DataFrame\n",
    "df = pd.DataFrame({'state':state, 'cities':cities})\n",
    "print(df)"
   ]
  },
  {
   "cell_type": "code",
   "execution_count": 33,
   "metadata": {
    "collapsed": true
   },
   "outputs": [],
   "source": [
    "# # Read in the file: df1\n",
    "# df1 = pd.read_csv('world_population.csv')\n",
    "\n",
    "# # Create a list of the new column labels: new_labels\n",
    "# new_labels = ['year', 'population']\n",
    "\n",
    "# # Read in the file, specifying the header and names parameters: df2\n",
    "# df2 = pd.read_csv('world_population.csv', header=0, names=new_labels)\n",
    "\n",
    "# # Print both the DataFrames\n",
    "# print(df1)\n",
    "# print(df2)"
   ]
  },
  {
   "cell_type": "markdown",
   "metadata": {},
   "source": [
    "```\n",
    "Use pd.read_csv() without using any keyword arguments to read file_messy into a pandas DataFrame df1.\n",
    "Use .head() to print the first 5 rows of df1 and see how messy it is. Do this in the IPython Shell first so you can see how modifying read_csv() can clean up this mess.\n",
    "Using the keyword arguments delimiter=' ', header=3 and comment='#', use pd.read_csv() again to read file_messy into a new DataFrame df2.\n",
    "Print the output of df2.head() to verify the file was read correctly.\n",
    "Use the DataFrame method .to_csv() to save the DataFrame df2 to the file file_clean. Be sure to specify index=False.\n",
    "Use the DataFrame method .to_excel() to save the DataFrame df2 to the file 'file_clean.xlsx'. Again, remember to specify index=False.\n",
    "```"
   ]
  },
  {
   "cell_type": "code",
   "execution_count": null,
   "metadata": {
    "collapsed": true
   },
   "outputs": [],
   "source": []
  },
  {
   "cell_type": "code",
   "execution_count": null,
   "metadata": {
    "collapsed": true
   },
   "outputs": [],
   "source": []
  },
  {
   "cell_type": "code",
   "execution_count": null,
   "metadata": {
    "collapsed": true
   },
   "outputs": [],
   "source": []
  }
 ],
 "metadata": {
  "kernelspec": {
   "display_name": "Python 3",
   "language": "python",
   "name": "python3"
  },
  "language_info": {
   "codemirror_mode": {
    "name": "ipython",
    "version": 3
   },
   "file_extension": ".py",
   "mimetype": "text/x-python",
   "name": "python",
   "nbconvert_exporter": "python",
   "pygments_lexer": "ipython3",
   "version": "3.5.2"
  }
 },
 "nbformat": 4,
 "nbformat_minor": 0
}
