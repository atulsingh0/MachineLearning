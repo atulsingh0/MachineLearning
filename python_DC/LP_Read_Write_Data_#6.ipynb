{
 "cells": [
  {
   "cell_type": "markdown",
   "metadata": {},
   "source": [
    "## Working with Binary Data, HTML and Web APIs"
   ]
  },
  {
   "cell_type": "code",
   "execution_count": 3,
   "metadata": {
    "collapsed": true
   },
   "outputs": [],
   "source": [
    "import pandas as pd"
   ]
  },
  {
   "cell_type": "code",
   "execution_count": 4,
   "metadata": {
    "collapsed": false
   },
   "outputs": [
    {
     "name": "stdout",
     "output_type": "stream",
     "text": [
      "34218\n"
     ]
    }
   ],
   "source": [
    "# One of the easiest ways to store data efficiently in binary format is using Python’s built-\n",
    "# in pickle serialization. \n",
    "\n",
    "# saving data as pickle\n",
    "fh = pd.read_csv(\"dataset/Emp.csv\")\n",
    "print(len(fh))"
   ]
  },
  {
   "cell_type": "code",
   "execution_count": 7,
   "metadata": {
    "collapsed": false
   },
   "outputs": [],
   "source": [
    "fh.to_pickle(\"dataset/emp1.pickle\")"
   ]
  },
  {
   "cell_type": "code",
   "execution_count": 8,
   "metadata": {
    "collapsed": false
   },
   "outputs": [
    {
     "data": {
      "text/html": [
       "<div>\n",
       "<table border=\"1\" class=\"dataframe\">\n",
       "  <thead>\n",
       "    <tr style=\"text-align: right;\">\n",
       "      <th></th>\n",
       "      <th>LNAME</th>\n",
       "      <th>FNAME</th>\n",
       "    </tr>\n",
       "  </thead>\n",
       "  <tbody>\n",
       "    <tr>\n",
       "      <th>0</th>\n",
       "      <td>AARON</td>\n",
       "      <td>ELVIA J</td>\n",
       "    </tr>\n",
       "    <tr>\n",
       "      <th>1</th>\n",
       "      <td>AARON</td>\n",
       "      <td>JEFFERY M</td>\n",
       "    </tr>\n",
       "    <tr>\n",
       "      <th>2</th>\n",
       "      <td>AARON</td>\n",
       "      <td>KIMBERLEI R</td>\n",
       "    </tr>\n",
       "    <tr>\n",
       "      <th>3</th>\n",
       "      <td>ABAD JR</td>\n",
       "      <td>VICENTE M</td>\n",
       "    </tr>\n",
       "    <tr>\n",
       "      <th>4</th>\n",
       "      <td>ABBATACOLA</td>\n",
       "      <td>ROBERT J</td>\n",
       "    </tr>\n",
       "    <tr>\n",
       "      <th>5</th>\n",
       "      <td>ABBATE</td>\n",
       "      <td>TERRY M</td>\n",
       "    </tr>\n",
       "    <tr>\n",
       "      <th>6</th>\n",
       "      <td>ABBATEMARCO</td>\n",
       "      <td>JAMES J</td>\n",
       "    </tr>\n",
       "    <tr>\n",
       "      <th>7</th>\n",
       "      <td>ABBOTT</td>\n",
       "      <td>BETTY L</td>\n",
       "    </tr>\n",
       "    <tr>\n",
       "      <th>8</th>\n",
       "      <td>ABBOTT</td>\n",
       "      <td>LYNISE M</td>\n",
       "    </tr>\n",
       "    <tr>\n",
       "      <th>9</th>\n",
       "      <td>ABBOTT</td>\n",
       "      <td>SAM J</td>\n",
       "    </tr>\n",
       "    <tr>\n",
       "      <th>10</th>\n",
       "      <td>ABDELHADI</td>\n",
       "      <td>ABDALMAHD</td>\n",
       "    </tr>\n",
       "    <tr>\n",
       "      <th>11</th>\n",
       "      <td>ABDELLATIF</td>\n",
       "      <td>AREF R</td>\n",
       "    </tr>\n",
       "    <tr>\n",
       "      <th>12</th>\n",
       "      <td>ABDELMAJEID</td>\n",
       "      <td>AZIZ</td>\n",
       "    </tr>\n",
       "    <tr>\n",
       "      <th>13</th>\n",
       "      <td>ABDOLLAHZADEH</td>\n",
       "      <td>ALI</td>\n",
       "    </tr>\n",
       "    <tr>\n",
       "      <th>14</th>\n",
       "      <td>ABDUL-KARIM</td>\n",
       "      <td>MUHAMMAD A</td>\n",
       "    </tr>\n",
       "    <tr>\n",
       "      <th>15</th>\n",
       "      <td>ABDULLAH</td>\n",
       "      <td>KEVIN</td>\n",
       "    </tr>\n",
       "    <tr>\n",
       "      <th>16</th>\n",
       "      <td>ABDULLAH</td>\n",
       "      <td>LAKENYA N</td>\n",
       "    </tr>\n",
       "    <tr>\n",
       "      <th>17</th>\n",
       "      <td>ABDULLAH</td>\n",
       "      <td>MOULAY R</td>\n",
       "    </tr>\n",
       "    <tr>\n",
       "      <th>18</th>\n",
       "      <td>ABDULLAH</td>\n",
       "      <td>RASHAD J</td>\n",
       "    </tr>\n",
       "    <tr>\n",
       "      <th>19</th>\n",
       "      <td>ABEJERO</td>\n",
       "      <td>JASON V</td>\n",
       "    </tr>\n",
       "    <tr>\n",
       "      <th>20</th>\n",
       "      <td>ABEJERO</td>\n",
       "      <td>RESTITUTO E</td>\n",
       "    </tr>\n",
       "    <tr>\n",
       "      <th>21</th>\n",
       "      <td>ABELS</td>\n",
       "      <td>KENNETH L</td>\n",
       "    </tr>\n",
       "    <tr>\n",
       "      <th>22</th>\n",
       "      <td>ABERCROMBIE</td>\n",
       "      <td>TIMOTHY</td>\n",
       "    </tr>\n",
       "    <tr>\n",
       "      <th>23</th>\n",
       "      <td>ABNER III</td>\n",
       "      <td>EWART G</td>\n",
       "    </tr>\n",
       "    <tr>\n",
       "      <th>24</th>\n",
       "      <td>ABOUELKHEIR</td>\n",
       "      <td>HASSAN A</td>\n",
       "    </tr>\n",
       "    <tr>\n",
       "      <th>25</th>\n",
       "      <td>ABRAHAM</td>\n",
       "      <td>DALINA D</td>\n",
       "    </tr>\n",
       "    <tr>\n",
       "      <th>26</th>\n",
       "      <td>ABRAHAM</td>\n",
       "      <td>GIRLEY T</td>\n",
       "    </tr>\n",
       "    <tr>\n",
       "      <th>27</th>\n",
       "      <td>ABRAHAM</td>\n",
       "      <td>GODWIN K</td>\n",
       "    </tr>\n",
       "    <tr>\n",
       "      <th>28</th>\n",
       "      <td>ABRAHAM</td>\n",
       "      <td>T M</td>\n",
       "    </tr>\n",
       "    <tr>\n",
       "      <th>29</th>\n",
       "      <td>ABRAMAVICIUS</td>\n",
       "      <td>ANNA A</td>\n",
       "    </tr>\n",
       "    <tr>\n",
       "      <th>...</th>\n",
       "      <td>...</td>\n",
       "      <td>...</td>\n",
       "    </tr>\n",
       "    <tr>\n",
       "      <th>34188</th>\n",
       "      <td>ZUNIGA JR</td>\n",
       "      <td>JAMES</td>\n",
       "    </tr>\n",
       "    <tr>\n",
       "      <th>34189</th>\n",
       "      <td>ZUNIGA</td>\n",
       "      <td>JOSE A</td>\n",
       "    </tr>\n",
       "    <tr>\n",
       "      <th>34190</th>\n",
       "      <td>ZUNIGA</td>\n",
       "      <td>JUAN M</td>\n",
       "    </tr>\n",
       "    <tr>\n",
       "      <th>34191</th>\n",
       "      <td>ZUNIGA</td>\n",
       "      <td>RONALD</td>\n",
       "    </tr>\n",
       "    <tr>\n",
       "      <th>34192</th>\n",
       "      <td>ZUNIGA</td>\n",
       "      <td>VICENTE</td>\n",
       "    </tr>\n",
       "    <tr>\n",
       "      <th>34193</th>\n",
       "      <td>ZUPAN</td>\n",
       "      <td>BILL M</td>\n",
       "    </tr>\n",
       "    <tr>\n",
       "      <th>34194</th>\n",
       "      <td>ZUPAN</td>\n",
       "      <td>VICTORIA J</td>\n",
       "    </tr>\n",
       "    <tr>\n",
       "      <th>34195</th>\n",
       "      <td>ZUPKO</td>\n",
       "      <td>LAURA J</td>\n",
       "    </tr>\n",
       "    <tr>\n",
       "      <th>34196</th>\n",
       "      <td>ZURAWSKI</td>\n",
       "      <td>CAROL A</td>\n",
       "    </tr>\n",
       "    <tr>\n",
       "      <th>34197</th>\n",
       "      <td>ZURAWSKI</td>\n",
       "      <td>JEFFREY</td>\n",
       "    </tr>\n",
       "    <tr>\n",
       "      <th>34198</th>\n",
       "      <td>ZURAWSKI</td>\n",
       "      <td>MAC Z</td>\n",
       "    </tr>\n",
       "    <tr>\n",
       "      <th>34199</th>\n",
       "      <td>ZURAWSKI</td>\n",
       "      <td>MARY E</td>\n",
       "    </tr>\n",
       "    <tr>\n",
       "      <th>34200</th>\n",
       "      <td>ZUREK</td>\n",
       "      <td>FRANCIS</td>\n",
       "    </tr>\n",
       "    <tr>\n",
       "      <th>34201</th>\n",
       "      <td>ZUREK</td>\n",
       "      <td>MARY H</td>\n",
       "    </tr>\n",
       "    <tr>\n",
       "      <th>34202</th>\n",
       "      <td>ZVANJA</td>\n",
       "      <td>TINA M</td>\n",
       "    </tr>\n",
       "    <tr>\n",
       "      <th>34203</th>\n",
       "      <td>ZWARYCZ MANN</td>\n",
       "      <td>IRENE A</td>\n",
       "    </tr>\n",
       "    <tr>\n",
       "      <th>34204</th>\n",
       "      <td>ZWIESLER</td>\n",
       "      <td>MATTHEW</td>\n",
       "    </tr>\n",
       "    <tr>\n",
       "      <th>34205</th>\n",
       "      <td>ZWIT</td>\n",
       "      <td>JEFFREY J</td>\n",
       "    </tr>\n",
       "    <tr>\n",
       "      <th>34206</th>\n",
       "      <td>ZWOLFER</td>\n",
       "      <td>MATTHEW W</td>\n",
       "    </tr>\n",
       "    <tr>\n",
       "      <th>34207</th>\n",
       "      <td>ZWOLSKI</td>\n",
       "      <td>MARY L</td>\n",
       "    </tr>\n",
       "    <tr>\n",
       "      <th>34208</th>\n",
       "      <td>ZYDEK</td>\n",
       "      <td>BRYAN</td>\n",
       "    </tr>\n",
       "    <tr>\n",
       "      <th>34209</th>\n",
       "      <td>ZYGADLO</td>\n",
       "      <td>JOHN P</td>\n",
       "    </tr>\n",
       "    <tr>\n",
       "      <th>34210</th>\n",
       "      <td>ZYGADLO</td>\n",
       "      <td>MICHAEL J</td>\n",
       "    </tr>\n",
       "    <tr>\n",
       "      <th>34211</th>\n",
       "      <td>ZYGOWICZ</td>\n",
       "      <td>PETER J</td>\n",
       "    </tr>\n",
       "    <tr>\n",
       "      <th>34212</th>\n",
       "      <td>ZYMALI</td>\n",
       "      <td>RONALD J</td>\n",
       "    </tr>\n",
       "    <tr>\n",
       "      <th>34213</th>\n",
       "      <td>ZYMANTAS</td>\n",
       "      <td>MARK E</td>\n",
       "    </tr>\n",
       "    <tr>\n",
       "      <th>34214</th>\n",
       "      <td>ZYNIEWICZ</td>\n",
       "      <td>ROBERT J</td>\n",
       "    </tr>\n",
       "    <tr>\n",
       "      <th>34215</th>\n",
       "      <td>ZYRKOWSKI</td>\n",
       "      <td>CARLO E</td>\n",
       "    </tr>\n",
       "    <tr>\n",
       "      <th>34216</th>\n",
       "      <td>ZYSKO</td>\n",
       "      <td>RICHARD</td>\n",
       "    </tr>\n",
       "    <tr>\n",
       "      <th>34217</th>\n",
       "      <td>ZYSKOWSKI</td>\n",
       "      <td>DARIUSZ</td>\n",
       "    </tr>\n",
       "  </tbody>\n",
       "</table>\n",
       "<p>34218 rows × 2 columns</p>\n",
       "</div>"
      ],
      "text/plain": [
       "               LNAME        FNAME\n",
       "0              AARON      ELVIA J\n",
       "1              AARON    JEFFERY M\n",
       "2              AARON  KIMBERLEI R\n",
       "3            ABAD JR    VICENTE M\n",
       "4         ABBATACOLA     ROBERT J\n",
       "5             ABBATE      TERRY M\n",
       "6        ABBATEMARCO      JAMES J\n",
       "7             ABBOTT      BETTY L\n",
       "8             ABBOTT     LYNISE M\n",
       "9             ABBOTT        SAM J\n",
       "10         ABDELHADI    ABDALMAHD\n",
       "11        ABDELLATIF       AREF R\n",
       "12       ABDELMAJEID         AZIZ\n",
       "13     ABDOLLAHZADEH          ALI\n",
       "14       ABDUL-KARIM   MUHAMMAD A\n",
       "15          ABDULLAH        KEVIN\n",
       "16          ABDULLAH    LAKENYA N\n",
       "17          ABDULLAH     MOULAY R\n",
       "18          ABDULLAH     RASHAD J\n",
       "19           ABEJERO      JASON V\n",
       "20           ABEJERO  RESTITUTO E\n",
       "21             ABELS    KENNETH L\n",
       "22       ABERCROMBIE      TIMOTHY\n",
       "23         ABNER III      EWART G\n",
       "24       ABOUELKHEIR     HASSAN A\n",
       "25           ABRAHAM     DALINA D\n",
       "26           ABRAHAM     GIRLEY T\n",
       "27           ABRAHAM     GODWIN K\n",
       "28           ABRAHAM          T M\n",
       "29      ABRAMAVICIUS       ANNA A\n",
       "...              ...          ...\n",
       "34188      ZUNIGA JR        JAMES\n",
       "34189         ZUNIGA       JOSE A\n",
       "34190         ZUNIGA       JUAN M\n",
       "34191         ZUNIGA       RONALD\n",
       "34192         ZUNIGA      VICENTE\n",
       "34193          ZUPAN       BILL M\n",
       "34194          ZUPAN   VICTORIA J\n",
       "34195          ZUPKO      LAURA J\n",
       "34196       ZURAWSKI      CAROL A\n",
       "34197       ZURAWSKI      JEFFREY\n",
       "34198       ZURAWSKI        MAC Z\n",
       "34199       ZURAWSKI       MARY E\n",
       "34200          ZUREK      FRANCIS\n",
       "34201          ZUREK       MARY H\n",
       "34202         ZVANJA       TINA M\n",
       "34203   ZWARYCZ MANN      IRENE A\n",
       "34204       ZWIESLER      MATTHEW\n",
       "34205           ZWIT    JEFFREY J\n",
       "34206        ZWOLFER    MATTHEW W\n",
       "34207        ZWOLSKI       MARY L\n",
       "34208          ZYDEK        BRYAN\n",
       "34209        ZYGADLO       JOHN P\n",
       "34210        ZYGADLO    MICHAEL J\n",
       "34211       ZYGOWICZ      PETER J\n",
       "34212         ZYMALI     RONALD J\n",
       "34213       ZYMANTAS       MARK E\n",
       "34214      ZYNIEWICZ     ROBERT J\n",
       "34215      ZYRKOWSKI      CARLO E\n",
       "34216          ZYSKO      RICHARD\n",
       "34217      ZYSKOWSKI      DARIUSZ\n",
       "\n",
       "[34218 rows x 2 columns]"
      ]
     },
     "execution_count": 8,
     "metadata": {},
     "output_type": "execute_result"
    }
   ],
   "source": [
    "pd.read_pickle(\"dataset/emp1.pickle\")"
   ]
  },
  {
   "cell_type": "markdown",
   "metadata": {},
   "source": [
    "### Reading Microsoft Excel Files"
   ]
  },
  {
   "cell_type": "code",
   "execution_count": 4,
   "metadata": {
    "collapsed": false
   },
   "outputs": [],
   "source": [
    "xls_file = pd.ExcelFile('dataset/Emp.xls')"
   ]
  },
  {
   "cell_type": "code",
   "execution_count": 5,
   "metadata": {
    "collapsed": true
   },
   "outputs": [],
   "source": [
    "table = xls_file.parse('Sheet1')"
   ]
  },
  {
   "cell_type": "code",
   "execution_count": 6,
   "metadata": {
    "collapsed": false
   },
   "outputs": [
    {
     "data": {
      "text/html": [
       "<div>\n",
       "<table border=\"1\" class=\"dataframe\">\n",
       "  <thead>\n",
       "    <tr style=\"text-align: right;\">\n",
       "      <th></th>\n",
       "      <th>LNAME</th>\n",
       "      <th>FNAME</th>\n",
       "      <th>JOB TITLE</th>\n",
       "      <th>DEPARTMENT</th>\n",
       "      <th>EMPLOYEE ANNUAL SALARY</th>\n",
       "      <th>ESTIMATED ANNUAL SALARY MINUS FURLOUGHS</th>\n",
       "    </tr>\n",
       "  </thead>\n",
       "  <tbody>\n",
       "    <tr>\n",
       "      <th>0</th>\n",
       "      <td>AARON</td>\n",
       "      <td>ELVIA J</td>\n",
       "      <td>WATER RATE TAKER</td>\n",
       "      <td>WATER MGMNT</td>\n",
       "      <td>$81000.00</td>\n",
       "      <td>$73862.00</td>\n",
       "    </tr>\n",
       "    <tr>\n",
       "      <th>1</th>\n",
       "      <td>AARON</td>\n",
       "      <td>JEFFERY M</td>\n",
       "      <td>POLICE OFFICER</td>\n",
       "      <td>POLICE</td>\n",
       "      <td>$74628.00</td>\n",
       "      <td>$74628.00</td>\n",
       "    </tr>\n",
       "    <tr>\n",
       "      <th>2</th>\n",
       "      <td>AARON</td>\n",
       "      <td>KIMBERLEI R</td>\n",
       "      <td>CHIEF CONTRACT EXPEDITER</td>\n",
       "      <td>FLEET MANAGEMNT</td>\n",
       "      <td>$77280.00</td>\n",
       "      <td>$70174.00</td>\n",
       "    </tr>\n",
       "    <tr>\n",
       "      <th>3</th>\n",
       "      <td>ABAD JR</td>\n",
       "      <td>VICENTE M</td>\n",
       "      <td>CIVIL ENGINEER IV</td>\n",
       "      <td>WATER MGMNT</td>\n",
       "      <td>$96276.00</td>\n",
       "      <td>$96276.00</td>\n",
       "    </tr>\n",
       "    <tr>\n",
       "      <th>4</th>\n",
       "      <td>ABBATACOLA</td>\n",
       "      <td>ROBERT J</td>\n",
       "      <td>ELECTRICAL MECHANIC</td>\n",
       "      <td>WATER MGMNT</td>\n",
       "      <td>$84032.00</td>\n",
       "      <td>$76627.00</td>\n",
       "    </tr>\n",
       "  </tbody>\n",
       "</table>\n",
       "</div>"
      ],
      "text/plain": [
       "        LNAME        FNAME                 JOB TITLE       DEPARTMENT  \\\n",
       "0       AARON      ELVIA J          WATER RATE TAKER      WATER MGMNT   \n",
       "1       AARON    JEFFERY M            POLICE OFFICER           POLICE   \n",
       "2       AARON  KIMBERLEI R  CHIEF CONTRACT EXPEDITER  FLEET MANAGEMNT   \n",
       "3     ABAD JR    VICENTE M         CIVIL ENGINEER IV      WATER MGMNT   \n",
       "4  ABBATACOLA     ROBERT J       ELECTRICAL MECHANIC      WATER MGMNT   \n",
       "\n",
       "  EMPLOYEE ANNUAL SALARY ESTIMATED ANNUAL SALARY MINUS FURLOUGHS  \n",
       "0              $81000.00                               $73862.00  \n",
       "1              $74628.00                               $74628.00  \n",
       "2              $77280.00                               $70174.00  \n",
       "3              $96276.00                               $96276.00  \n",
       "4              $84032.00                               $76627.00  "
      ]
     },
     "execution_count": 6,
     "metadata": {},
     "output_type": "execute_result"
    }
   ],
   "source": [
    "table.head()"
   ]
  },
  {
   "cell_type": "markdown",
   "metadata": {},
   "source": [
    "### Reading HTML and Web API"
   ]
  },
  {
   "cell_type": "code",
   "execution_count": 14,
   "metadata": {
    "collapsed": false
   },
   "outputs": [],
   "source": [
    "import tweepy\n",
    "\n",
    "# Store OAuth authentication credentials in relevant variables\n",
    "access_token = \"1092294848-aHN7DcRP9B4VMTQIhwqOYiB14YkW92fFO8k8EPy\"\n",
    "access_token_secret = \"X4dHmhPfaksHcQ7SCbmZa2oYBBVSD2g8uIHXsp5CTaksx\"\n",
    "consumer_key = \"nZ6EA0FxZ293SxGNg8g8aP0HM\"\n",
    "consumer_secret = \"fJGEodwe3KiKUnsYJC3VRndj7jevVvXbK2D5EiJ2nehafRgA6i\"\n",
    "\n",
    "# Pass OAuth details to tweepy's OAuth handler\n",
    "auth = tweepy.OAuthHandler(consumer_key, consumer_secret)\n",
    "auth.set_access_token(access_token, access_token_secret)"
   ]
  },
  {
   "cell_type": "code",
   "execution_count": 15,
   "metadata": {
    "collapsed": true
   },
   "outputs": [],
   "source": [
    "import requests\n",
    "\n",
    "url = 'https://api.twitter.com/1.1/search/tweets.json?q=datagenx'\n",
    "\n",
    "resp = requests.get(url)"
   ]
  },
  {
   "cell_type": "code",
   "execution_count": 16,
   "metadata": {
    "collapsed": false
   },
   "outputs": [
    {
     "data": {
      "text/plain": [
       "dict_keys(['errors'])"
      ]
     },
     "execution_count": 16,
     "metadata": {},
     "output_type": "execute_result"
    }
   ],
   "source": [
    "import json\n",
    "\n",
    "data = json.loads(resp.text)\n",
    "data.keys()"
   ]
  },
  {
   "cell_type": "code",
   "execution_count": 17,
   "metadata": {
    "collapsed": false
   },
   "outputs": [
    {
     "name": "stdout",
     "output_type": "stream",
     "text": [
      "{'errors': [{'code': 215, 'message': 'Bad Authentication data.'}]}\n"
     ]
    }
   ],
   "source": [
    "print(data)"
   ]
  },
  {
   "cell_type": "markdown",
   "metadata": {},
   "source": [
    "### Interacting with Databases"
   ]
  },
  {
   "cell_type": "code",
   "execution_count": 18,
   "metadata": {
    "collapsed": true
   },
   "outputs": [],
   "source": [
    "import sqlite3\n",
    "\n",
    "query = \"\"\"\n",
    "CREATE TABLE test\n",
    "(a VARCHAR(20), b VARCHAR(20),\n",
    " c REAL,        d INTEGER\n",
    ");\"\"\""
   ]
  },
  {
   "cell_type": "code",
   "execution_count": 19,
   "metadata": {
    "collapsed": true
   },
   "outputs": [],
   "source": [
    "con = sqlite3.connect(':memory:')\n",
    "con.execute(query)\n",
    "con.commit()"
   ]
  },
  {
   "cell_type": "code",
   "execution_count": 20,
   "metadata": {
    "collapsed": true
   },
   "outputs": [],
   "source": [
    "data = [('Atlanta', 'Georgia', 1.25, 6),\n",
    "        ('Tallahassee', 'Florida', 2.6, 3),\n",
    "        ('Sacramento', 'California', 1.7, 5)]\n",
    "stmt = \"INSERT INTO test VALUES(?, ?, ?, ?)\"\n",
    "con.executemany(stmt, data)\n",
    "con.commit()"
   ]
  },
  {
   "cell_type": "code",
   "execution_count": 21,
   "metadata": {
    "collapsed": false
   },
   "outputs": [
    {
     "name": "stdout",
     "output_type": "stream",
     "text": [
      "[('Atlanta', 'Georgia', 1.25, 6), ('Tallahassee', 'Florida', 2.6, 3), ('Sacramento', 'California', 1.7, 5)]\n"
     ]
    }
   ],
   "source": [
    "cursor = con.execute('select * from test')\n",
    "rows = cursor.fetchall()\n",
    "print(rows)"
   ]
  },
  {
   "cell_type": "code",
   "execution_count": 22,
   "metadata": {
    "collapsed": false
   },
   "outputs": [
    {
     "data": {
      "text/plain": [
       "(('a', None, None, None, None, None, None),\n",
       " ('b', None, None, None, None, None, None),\n",
       " ('c', None, None, None, None, None, None),\n",
       " ('d', None, None, None, None, None, None))"
      ]
     },
     "execution_count": 22,
     "metadata": {},
     "output_type": "execute_result"
    }
   ],
   "source": [
    "cursor.description"
   ]
  },
  {
   "cell_type": "code",
   "execution_count": 23,
   "metadata": {
    "collapsed": false
   },
   "outputs": [
    {
     "ename": "TypeError",
     "evalue": "'zip' object is not subscriptable",
     "output_type": "error",
     "traceback": [
      "\u001b[0;31m---------------------------------------------------------------------------\u001b[0m",
      "\u001b[0;31mTypeError\u001b[0m                                 Traceback (most recent call last)",
      "\u001b[0;32m<ipython-input-23-d5c440ae2e9f>\u001b[0m in \u001b[0;36m<module>\u001b[0;34m()\u001b[0m\n\u001b[0;32m----> 1\u001b[0;31m \u001b[0mpd\u001b[0m\u001b[1;33m.\u001b[0m\u001b[0mDataFrame\u001b[0m\u001b[1;33m(\u001b[0m\u001b[0mrows\u001b[0m\u001b[1;33m,\u001b[0m \u001b[0mcolumns\u001b[0m\u001b[1;33m=\u001b[0m\u001b[0mzip\u001b[0m\u001b[1;33m(\u001b[0m\u001b[1;33m*\u001b[0m\u001b[0mcursor\u001b[0m\u001b[1;33m.\u001b[0m\u001b[0mdescription\u001b[0m\u001b[1;33m)\u001b[0m\u001b[1;33m[\u001b[0m\u001b[1;36m0\u001b[0m\u001b[1;33m]\u001b[0m\u001b[1;33m)\u001b[0m\u001b[1;33m\u001b[0m\u001b[0m\n\u001b[0m",
      "\u001b[0;31mTypeError\u001b[0m: 'zip' object is not subscriptable"
     ]
    }
   ],
   "source": [
    "pd.DataFrame(rows, columns=zip(*cursor.description)[0])"
   ]
  },
  {
   "cell_type": "code",
   "execution_count": 25,
   "metadata": {
    "collapsed": false
   },
   "outputs": [
    {
     "ename": "AttributeError",
     "evalue": "module 'pandas.io.sql' has no attribute 'read_frame'",
     "output_type": "error",
     "traceback": [
      "\u001b[0;31m---------------------------------------------------------------------------\u001b[0m",
      "\u001b[0;31mAttributeError\u001b[0m                            Traceback (most recent call last)",
      "\u001b[0;32m<ipython-input-25-adafe03fddb3>\u001b[0m in \u001b[0;36m<module>\u001b[0;34m()\u001b[0m\n\u001b[1;32m      1\u001b[0m \u001b[1;32mimport\u001b[0m \u001b[0mpandas\u001b[0m\u001b[1;33m.\u001b[0m\u001b[0mio\u001b[0m\u001b[1;33m.\u001b[0m\u001b[0msql\u001b[0m \u001b[1;32mas\u001b[0m \u001b[0msql\u001b[0m\u001b[1;33m\u001b[0m\u001b[0m\n\u001b[1;32m      2\u001b[0m \u001b[1;33m\u001b[0m\u001b[0m\n\u001b[0;32m----> 3\u001b[0;31m \u001b[0msql\u001b[0m\u001b[1;33m.\u001b[0m\u001b[0mread_frame\u001b[0m\u001b[1;33m(\u001b[0m\u001b[1;34m'select * from test'\u001b[0m\u001b[1;33m,\u001b[0m \u001b[0mcon\u001b[0m\u001b[1;33m)\u001b[0m\u001b[1;33m\u001b[0m\u001b[0m\n\u001b[0m",
      "\u001b[0;31mAttributeError\u001b[0m: module 'pandas.io.sql' has no attribute 'read_frame'"
     ]
    }
   ],
   "source": [
    "import pandas.io.sql as sql\n",
    "\n",
    "sql.read_frame('select * from test', con)"
   ]
  },
  {
   "cell_type": "code",
   "execution_count": null,
   "metadata": {
    "collapsed": true
   },
   "outputs": [],
   "source": []
  }
 ],
 "metadata": {
  "anaconda-cloud": {},
  "kernelspec": {
   "display_name": "Python [conda root]",
   "language": "python",
   "name": "conda-root-py"
  },
  "language_info": {
   "codemirror_mode": {
    "name": "ipython",
    "version": 3
   },
   "file_extension": ".py",
   "mimetype": "text/x-python",
   "name": "python",
   "nbconvert_exporter": "python",
   "pygments_lexer": "ipython3",
   "version": "3.5.2"
  }
 },
 "nbformat": 4,
 "nbformat_minor": 1
}
