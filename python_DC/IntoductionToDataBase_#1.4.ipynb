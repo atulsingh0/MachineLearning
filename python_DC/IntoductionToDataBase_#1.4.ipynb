{
 "cells": [
  {
   "cell_type": "markdown",
   "metadata": {},
   "source": [
    "### Creating and Manipulating DataBase"
   ]
  },
  {
   "cell_type": "code",
   "execution_count": 1,
   "metadata": {
    "collapsed": true
   },
   "outputs": [],
   "source": [
    "# import"
   ]
  },
  {
   "cell_type": "markdown",
   "metadata": {},
   "source": [
    "```\n",
    "Import Table, Column, String, Integer, Float, Boolean from sqlalchemy.\n",
    "Build a new table called data with columns 'name' (String(255)), 'count' (Integer), 'amount'(Float), and 'valid' (Boolean) columns. The second argument of Table needs to be metadata, which is already initialized.\n",
    "Create the table in the database by passing data to metadata.create_all().\n",
    "```"
   ]
  },
  {
   "cell_type": "code",
   "execution_count": 2,
   "metadata": {
    "collapsed": true
   },
   "outputs": [],
   "source": [
    "# # Import Table, Column, String, Integer, Float, Boolean from sqlalchemy\n",
    "# from sqlalchemy import Table, Column, String, Integer, Float, Boolean\n",
    "\n",
    "# # Define a new table with a name, count, amount, and valid column: data\n",
    "# data = Table('data', metadata,\n",
    "#              Column('name', String(255)),\n",
    "#              Column('count', Integer()),\n",
    "#              Column('amount', Float()),\n",
    "#              Column('valid', Boolean())\n",
    "# )\n",
    "\n",
    "# # Use the metadata to create the table\n",
    "# metadata.create_all(engine)\n",
    "\n",
    "# # Print table repr\n",
    "# print(repr(data))\n"
   ]
  },
  {
   "cell_type": "markdown",
   "metadata": {},
   "source": [
    "```\n",
    "-Table, Column, String, Integer, Float, Boolean are already imported from sqlalchemy. - Build a new table called data with a unique name (String), count (Integer) defaulted to 1, amount (Float), and valid (Boolean) defaulted to False. - Hit submit to create the table in the database and to print the table details for data.\n",
    "```"
   ]
  },
  {
   "cell_type": "code",
   "execution_count": 3,
   "metadata": {
    "collapsed": true
   },
   "outputs": [],
   "source": [
    "# # Import Table, Column, String, Integer, Float, Boolean from sqlalchemy\n",
    "# from sqlalchemy import Table, Column, String, Integer, Float, Boolean\n",
    "\n",
    "# # Define a new table with a name, count, amount, and valid column: data\n",
    "# data = Table('data', metadata,\n",
    "#              Column('name', String(255), unique=True),\n",
    "#              Column('count', Integer(), default=1),\n",
    "#              Column('amount', Float()),\n",
    "#              Column('valid', Boolean(), default=False)\n",
    "# )\n",
    "\n",
    "# # Use the metadata to create the table\n",
    "# metadata.create_all(engine)\n",
    "\n",
    "# # Print the table details\n",
    "# print(repr(metadata.tables['data']))"
   ]
  },
  {
   "cell_type": "markdown",
   "metadata": {},
   "source": [
    "```\n",
    "Import insert and select from the sqlalchemy module.\n",
    "Build an insert statement for the data table to set name to 'Anna', count to 1, amount to 1000.00, and valid to True. Save the statement as stmt.\n",
    "Execute stmt with the connection and store the results.\n",
    "Print the rowcount attribute of results to see how many records were inserted.\n",
    "Build a select statement to query for the record with the name of Anna.\n",
    "Hit submit to print the results of executing the select statement.\n",
    "```"
   ]
  },
  {
   "cell_type": "code",
   "execution_count": 4,
   "metadata": {
    "collapsed": true
   },
   "outputs": [],
   "source": [
    "# # Import insert and select from sqlalchemy\n",
    "# from sqlalchemy import insert, select\n",
    "\n",
    "# # Build an insert statement to insert a record into the data table: stmt\n",
    "# stmt = insert(data).values(name='Anna', count=1, amount=1000.00, valid=True)\n",
    "\n",
    "# # Execute the statement via the connection: results\n",
    "# results = connection.execute(stmt)\n",
    "\n",
    "# # Print result rowcount\n",
    "# print(results.rowcount)\n",
    "\n",
    "# # Build a select statement to validate the insert\n",
    "# stmt = select([data]).where(data.columns.name == 'Anna')\n",
    "\n",
    "# # Print the result of executing the query.\n",
    "# print(connection.execute(stmt).first())"
   ]
  },
  {
   "cell_type": "markdown",
   "metadata": {},
   "source": [
    "```\n",
    "Build a list of dictionaries called values_list with two dictionaries. In the first dictionary set name to 'Anna', count to 1, amount to 1000.00, and valid to True. In the second dictionary of the list, set name to 'Taylor', count to 1, amount to 750.00, and valid to False.\n",
    "Build an insert statement for the data table for a multiple insert, save it as stmt.\n",
    "Execute stmt with the values_list via connection and store the results.\n",
    "Print the rowcount of the results.\n",
    "```"
   ]
  },
  {
   "cell_type": "code",
   "execution_count": 5,
   "metadata": {
    "collapsed": true
   },
   "outputs": [],
   "source": [
    "# # Build a list of dictionaries: values_list\n",
    "# values_list = [\n",
    "#     {'name': 'Anna', 'count': 1, 'amount': 1000.00, 'valid': True},\n",
    "#     {'name': 'Taylor', 'count': 1, 'amount': 750.00, 'valid': False}\n",
    "# ]\n",
    "\n",
    "# # Build an insert statement for the data table: stmt\n",
    "# stmt = insert(data)\n",
    "\n",
    "# # Execute stmt with the values_list: results\n",
    "# results = connection.execute(stmt, values_list)\n",
    "\n",
    "# # Print rowcount\n",
    "# print(results.rowcount)"
   ]
  },
  {
   "cell_type": "markdown",
   "metadata": {},
   "source": [
    "```\n",
    "Create a statement for bulk insert into the census table and save it as stmt.\n",
    "Create an empty list called values_list, create a variable called total_rowcount set to 0 (an empty list can be created with []).\n",
    "Within the for loop, create a dictionary data for each row and append it to values_list. Within the for loop, row will be a list whose entries are state , sex, age, pop2000 and pop2008 (in that order);\n",
    "Recall that, in the for loop, idx will be the csv line number. If 51 will cleanly divide into the current idx (NOTE: use the % operator and make sure it is 0), execute stmt with the values_list. Save the result as results. The results rowcount is then added to total_rowcount, and values_list is set back to an empty list.\n",
    "Hit submit to print total_rowcount when done with all the records.\n",
    "```"
   ]
  },
  {
   "cell_type": "code",
   "execution_count": 6,
   "metadata": {
    "collapsed": true
   },
   "outputs": [],
   "source": [
    "# # Create a insert statement for census: stmt\n",
    "# stmt = insert(census)\n",
    "\n",
    "# # Create an empty list and zeroed row count: values_list, total_rowcount\n",
    "# values_list = []\n",
    "# total_rowcount = 0\n",
    "\n",
    "# # Enumerate the rows of csv_reader\n",
    "# for idx, row in enumerate(csv_reader):\n",
    "#     #create data and append to values_list\n",
    "#     data = {'state': row[0], 'sex': row[1], 'age': row[2], 'pop2000': row[3],\n",
    "#             'pop2008': row[4]}\n",
    "#     values_list.append(data)\n",
    "\n",
    "#     # Check to see if divisible by 51\n",
    "#     if idx % 51 == 0:\n",
    "#         results = connection.execute(stmt, values_list)\n",
    "#         total_rowcount += results.rowcount\n",
    "#         values_list = []\n",
    "\n",
    "# # Print total rowcount\n",
    "# print(total_rowcount)"
   ]
  },
  {
   "cell_type": "code",
   "execution_count": null,
   "metadata": {
    "collapsed": true
   },
   "outputs": [],
   "source": []
  }
 ],
 "metadata": {
  "kernelspec": {
   "display_name": "Python 3",
   "language": "python",
   "name": "python3"
  },
  "language_info": {
   "codemirror_mode": {
    "name": "ipython",
    "version": 3
   },
   "file_extension": ".py",
   "mimetype": "text/x-python",
   "name": "python",
   "nbconvert_exporter": "python",
   "pygments_lexer": "ipython3",
   "version": "3.5.2"
  }
 },
 "nbformat": 4,
 "nbformat_minor": 0
}
