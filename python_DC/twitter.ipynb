{
 "cells": [
  {
   "cell_type": "code",
   "execution_count": 11,
   "metadata": {
    "collapsed": false
   },
   "outputs": [
    {
     "ename": "ImportError",
     "evalue": "No module named 'oauth2'",
     "output_type": "error",
     "traceback": [
      "\u001b[0;31m---------------------------------------------------------------------------\u001b[0m",
      "\u001b[0;31mImportError\u001b[0m                               Traceback (most recent call last)",
      "\u001b[0;32m<ipython-input-11-dd3674f08e42>\u001b[0m in \u001b[0;36m<module>\u001b[0;34m()\u001b[0m\n\u001b[0;32m----> 1\u001b[0;31m \u001b[1;32mimport\u001b[0m \u001b[0moauth2\u001b[0m \u001b[1;32mas\u001b[0m \u001b[0moauth\u001b[0m\u001b[1;33m\u001b[0m\u001b[0m\n\u001b[0m\u001b[1;32m      2\u001b[0m \u001b[1;32mimport\u001b[0m \u001b[0murllib2\u001b[0m \u001b[1;32mas\u001b[0m \u001b[0murllib\u001b[0m\u001b[1;33m\u001b[0m\u001b[0m\n\u001b[1;32m      3\u001b[0m \u001b[1;33m\u001b[0m\u001b[0m\n\u001b[1;32m      4\u001b[0m \u001b[1;31m# See assignment1.html instructions or README for how to get these credentials\u001b[0m\u001b[1;33m\u001b[0m\u001b[1;33m\u001b[0m\u001b[0m\n\u001b[1;32m      5\u001b[0m \u001b[1;33m\u001b[0m\u001b[0m\n",
      "\u001b[0;31mImportError\u001b[0m: No module named 'oauth2'"
     ]
    }
   ],
   "source": [
    "import oauth2 as oauth\n",
    "import urllib2 as urllib\n",
    "\n",
    "# See assignment1.html instructions or README for how to get these credentials\n",
    "\n",
    "api_key = \"OuaJeWQK4FM8DR97tJxUqp56W\"\n",
    "api_secret = \"7nCQmef95jSeeofa0upm3t0lM9UpOK9SNG6AXSfOcbEent2R1p\"\n",
    "access_token_key = \"2222877248-uUB0zIZ6kYZd8qADB9QYHyKwOmlB7Dg8cZPBV2t\"\n",
    "access_token_secret = \"1VMqhkAav669HrCVyI1L81IyGCxlYIVwfbFlPrafiaRaN\"\n",
    "\n",
    "_debug = 0\n",
    "\n",
    "oauth_token    = oauth.Token(key=access_token_key, secret=access_token_secret)\n",
    "oauth_consumer = oauth.Consumer(key=api_key, secret=api_secret)\n",
    "\n",
    "signature_method_hmac_sha1 = oauth.SignatureMethod_HMAC_SHA1()\n",
    "\n",
    "http_method = \"GET\"\n",
    "\n",
    "\n",
    "http_handler  = urllib.HTTPHandler(debuglevel=_debug)\n",
    "https_handler = urllib.HTTPSHandler(debuglevel=_debug)\n",
    "\n",
    "'''\n",
    "Construct, sign, and open a twitter request\n",
    "using the hard-coded credentials above.\n",
    "'''\n",
    "def twitterreq(url, method, parameters):\n",
    "        req = oauth.Request.from_consumer_and_token(oauth_consumer,\n",
    "                                             token=oauth_token,\n",
    "                                             http_method=http_method,\n",
    "                                             http_url=url, \n",
    "                                             parameters=parameters)\n",
    "\n",
    "        req.sign_request(signature_method_hmac_sha1, oauth_consumer, oauth_token)\n",
    "        headers = req.to_header()\n",
    "\n",
    "        if http_method == \"POST\":\n",
    "                encoded_post_data = req.to_postdata()\n",
    "        else:\n",
    "                encoded_post_data = None\n",
    "                url = req.to_url()\n",
    "        \n",
    "        opener = urllib.OpenerDirector()\n",
    "        opener.add_handler(http_handler)\n",
    "        opener.add_handler(https_handler)\n",
    "        \n",
    "        response = opener.open(url, encoded_post_data)\n",
    "        \n",
    "        return response\n",
    "\n",
    "def fetchsamples():\n",
    "        url = \"https://stream.twitter.com/1/statuses/sample.json\"\n",
    "        parameters = []\n",
    "        response = twitterreq(url, \"GET\", parameters)\n",
    "        for line in response:\n",
    "            print (line.strip())\n",
    "\n",
    "if __name__ == '__main__':\n",
    "        fetchsamples()"
   ]
  },
  {
   "cell_type": "code",
   "execution_count": null,
   "metadata": {
    "collapsed": true
   },
   "outputs": [],
   "source": []
  }
 ],
 "metadata": {
  "anaconda-cloud": {},
  "kernelspec": {
   "display_name": "Python [conda root]",
   "language": "python",
   "name": "conda-root-py"
  },
  "language_info": {
   "codemirror_mode": {
    "name": "ipython",
    "version": 3
   },
   "file_extension": ".py",
   "mimetype": "text/x-python",
   "name": "python",
   "nbconvert_exporter": "python",
   "pygments_lexer": "ipython3",
   "version": "3.5.2"
  }
 },
 "nbformat": 4,
 "nbformat_minor": 1
}
