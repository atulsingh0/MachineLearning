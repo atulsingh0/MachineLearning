{
 "cells": [
  {
   "cell_type": "code",
   "execution_count": null,
   "metadata": {
    "collapsed": true
   },
   "outputs": [],
   "source": [
    "################################################################\n",
    "##  ImportingData #2.1\n",
    "##  Atul Singh\n",
    "##  www.datagenx.net\n",
    "################################################################"
   ]
  },
  {
   "cell_type": "markdown",
   "metadata": {},
   "source": [
    "## Importing Data #2\n",
    "### #2.1 Importing data from internet"
   ]
  },
  {
   "cell_type": "code",
   "execution_count": 2,
   "metadata": {
    "collapsed": true
   },
   "outputs": [],
   "source": [
    "# import \n",
    "import numpy as np\n",
    "import pandas as pd\n",
    "\n",
    "from urllib.request import urlretrieve"
   ]
  },
  {
   "cell_type": "code",
   "execution_count": 3,
   "metadata": {
    "collapsed": false
   },
   "outputs": [
    {
     "name": "stdout",
     "output_type": "stream",
     "text": [
      "   fixed acidity  volatile acidity  citric acid  residual sugar  chlorides  \\\n",
      "0            7.4              0.70         0.00             1.9      0.076   \n",
      "1            7.8              0.88         0.00             2.6      0.098   \n",
      "2            7.8              0.76         0.04             2.3      0.092   \n",
      "3           11.2              0.28         0.56             1.9      0.075   \n",
      "4            7.4              0.70         0.00             1.9      0.076   \n",
      "\n",
      "   free sulfur dioxide  total sulfur dioxide  density    pH  sulphates  \\\n",
      "0                 11.0                  34.0   0.9978  3.51       0.56   \n",
      "1                 25.0                  67.0   0.9968  3.20       0.68   \n",
      "2                 15.0                  54.0   0.9970  3.26       0.65   \n",
      "3                 17.0                  60.0   0.9980  3.16       0.58   \n",
      "4                 11.0                  34.0   0.9978  3.51       0.56   \n",
      "\n",
      "   alcohol  quality  \n",
      "0      9.4        5  \n",
      "1      9.8        5  \n",
      "2      9.8        5  \n",
      "3      9.8        6  \n",
      "4      9.4        5  \n"
     ]
    }
   ],
   "source": [
    "# Assign url of file: url\n",
    "#file = \"https://archive.ics.uci.edu/ml/machine-learning-databases/wine-quality/winequality-red.csv\"\n",
    "\n",
    "# Save file locally\n",
    "#urlretrieve(file, 'winequality-red.csv')\n",
    "\n",
    "# Read file into a DataFrame and print its head\n",
    "df = pd.read_csv('winequality-red.csv', sep=';')\n",
    "# we can directly read the file as well\n",
    "# df = pd.read_csv(file, sep=';')\n",
    "print(df.head())"
   ]
  },
  {
   "cell_type": "markdown",
   "metadata": {
    "collapsed": true
   },
   "source": [
    "### Reading excel from internet"
   ]
  },
  {
   "cell_type": "code",
   "execution_count": 4,
   "metadata": {
    "collapsed": false
   },
   "outputs": [
    {
     "name": "stdout",
     "output_type": "stream",
     "text": [
      "dict_keys(['1700', '1900'])\n",
      "                 country       1700\n",
      "0            Afghanistan  34.565000\n",
      "1  Akrotiri and Dhekelia  34.616667\n",
      "2                Albania  41.312000\n",
      "3                Algeria  36.720000\n",
      "4         American Samoa -14.307000\n"
     ]
    }
   ],
   "source": [
    "# Assign url of file: url\n",
    "url = 'http://s3.amazonaws.com/assets.datacamp.com/course/importing_data_into_r/latitude.xls'\n",
    "\n",
    "# Read in all sheets of Excel file: xl\n",
    "xl = pd.read_excel(url, sheetname=None)\n",
    "\n",
    "# Print the sheetnames to the shell\n",
    "print(xl.keys())\n",
    "\n",
    "# Print the head of the first sheet (using its name, NOT its index)\n",
    "print(pd.read_excel(url, sheetname='1700').head())"
   ]
  },
  {
   "cell_type": "markdown",
   "metadata": {},
   "source": [
    "### Performing HTTP request with urllib"
   ]
  },
  {
   "cell_type": "code",
   "execution_count": 6,
   "metadata": {
    "collapsed": false
   },
   "outputs": [
    {
     "name": "stdout",
     "output_type": "stream",
     "text": [
      "<class 'http.client.HTTPResponse'>\n"
     ]
    }
   ],
   "source": [
    "# Import packages\n",
    "from urllib.request import Request, urlopen\n",
    "\n",
    "# Specify the url\n",
    "url = \"http://www.datacamp.com/teach/documentation\"\n",
    "\n",
    "# This packages the request: request\n",
    "request = Request(url)\n",
    "\n",
    "# Sends the request and catches the response: response\n",
    "response = urlopen(request)\n",
    "\n",
    "# Print the datatype of response\n",
    "print(type(response))"
   ]
  },
  {
   "cell_type": "code",
   "execution_count": 7,
   "metadata": {
    "collapsed": true
   },
   "outputs": [],
   "source": [
    "# Extract the response: html\n",
    "html = response.read()"
   ]
  },
  {
   "cell_type": "code",
   "execution_count": 8,
   "metadata": {
    "collapsed": false
   },
   "outputs": [
    {
     "name": "stdout",
     "output_type": "stream",
     "text": [
      "b'<!DOCTYPE html>\\n<html>\\n\\t<head>\\n\\n\\t\\t<link rel=\"stylesheet\" media=\"all\" href=\"/teach/assets/application-b615af85baed1802e0db221d6a8135b4.css\" />\\n\\t\\t<link rel=\"shortcut icon\" type=\"image/x-icon\" href=\"/teach/assets/favicon-5b50d893ea0894bf9de48997dcc2e11b.ico\" />\\n\\t\\t<meta name=\"csrf-param\" content=\"authenticity_token\" />\\n<meta name=\"csrf-token\" content=\"12wpjpP2INpGLmmyohY+b9Ck4fyK7yZSj79Dqn525c/IJPAB9y/nSGMl8w8SRhXIdLNu2RN0YP/F63jOs1QFEQ==\" />\\n\\n\\t\\t<meta http-equiv=\"X-UA-Compatible\" content=\"IE=edge,chrome=1\">\\n<script type=\"text/javascript\">window.NREUM||(NREUM={});NREUM.info={\"beacon\":\"bam.nr-data.net\",\"errorBeacon\":\"bam.nr-data.net\",\"licenseKey\":\"4795905ee2\",\"applicationID\":\"13547831\",\"transactionName\":\"JlkNEEQLVA0DE0wVFwRCCgdpFFkGAxJMAgwGQw4BWBBZFQ8ODQ==\",\"queueTime\":0,\"applicationTime\":66,\"agent\":\"\"}</script>\\n<script type=\"text/javascript\">window.NREUM||(NREUM={}),__nr_require=function(e,t,n){function r(n){if(!t[n]){var o=t[n]={exports:{}};e[n][0].call(o.exports,function(t){var o=e[n][1][t];return r(o||t)},o,o.exports)}return t[n].exports}if(\"function\"==typeof __nr_require)return __nr_require;for(var o=0;o<n.length;o++)r(n[o]);return r}({1:[function(e,t,n){function r(){}function o(e,t,n){return function(){return i(e,[(new Date).getTime()].concat(u(arguments)),t?null:this,n),t?void 0:this}}var i=e(\"handle\"),a=e(2),u=e(3),c=e(\"ee\").get(\"tracer\"),f=NREUM;\"undefined\"==typeof window.newrelic&&(newrelic=f);var s=[\"setPageViewName\",\"setCustomAttribute\",\"setErrorHandler\",\"finished\",\"addToTrace\",\"inlineHit\"],l=\"api-\",p=l+\"ixn-\";a(s,function(e,t){f[t]=o(l+t,!0,\"api\")}),f.addPageAction=o(l+\"addPageAction\",!0),f.setCurrentRouteName=o(l+\"routeName\",!0),t.exports=newrelic,f.interaction=function(){return(new r).get()};var d=r.prototype={createTracer:function(e,t){var n={},r=this,o=\"function\"==typeof t;return i(p+\"tracer\",[Date.now(),e,n],r),function(){if(c.emit((o?\"\":\"no-\")+\"fn-start\",[Date.now(),r,o],n),o)try{return t.apply(this,arguments)}finally{c.emit(\"fn-end\",[Date.now()],n)}}}};a(\"setName,setAttribute,save,ignore,onEnd,getContext,end,get\".split(\",\"),function(e,t){d[t]=o(p+t)}),newrelic.noticeError=function(e){\"string\"==typeof e&&(e=new Error(e)),i(\"err\",[e,(new Date).getTime()])}},{}],2:[function(e,t,n){function r(e,t){var n=[],r=\"\",i=0;for(r in e)o.call(e,r)&&(n[i]=t(r,e[r]),i+=1);return n}var o=Object.prototype.hasOwnProperty;t.exports=r},{}],3:[function(e,t,n){function r(e,t,n){t||(t=0),\"undefined\"==typeof n&&(n=e?e.length:0);for(var r=-1,o=n-t||0,i=Array(o<0?0:o);++r<o;)i[r]=e[t+r];return i}t.exports=r},{}],ee:[function(e,t,n){function r(){}function o(e){function t(e){return e&&e instanceof r?e:e?c(e,u,i):i()}function n(n,r,o){if(!p.aborted){e&&e(n,r,o);for(var i=t(o),a=v(n),u=a.length,c=0;c<u;c++)a[c].apply(i,r);var f=s[w[n]];return f&&f.push([y,n,r,i]),i}}function d(e,t){b[e]=v(e).concat(t)}function v(e){return b[e]||[]}function g(e){return l[e]=l[e]||o(n)}function m(e,t){f(e,function(e,n){t=t||\"feature\",w[n]=t,t in s||(s[t]=[])})}var b={},w={},y={on:d,emit:n,get:g,listeners:v,context:t,buffer:m,abort:a,aborted:!1};return y}function i(){return new r}function a(){(s.api||s.feature)&&(p.aborted=!0,s=p.backlog={})}var u=\"nr@context\",c=e(\"gos\"),f=e(2),s={},l={},p=t.exports=o();p.backlog=s},{}],gos:[function(e,t,n){function r(e,t,n){if(o.call(e,t))return e[t];var r=n();if(Object.defineProperty&&Object.keys)try{return Object.defineProperty(e,t,{value:r,writable:!0,enumerable:!1}),r}catch(i){}return e[t]=r,r}var o=Object.prototype.hasOwnProperty;t.exports=r},{}],handle:[function(e,t,n){function r(e,t,n,r){o.buffer([e],r),o.emit(e,t,n)}var o=e(\"ee\").get(\"handle\");t.exports=r,r.ee=o},{}],id:[function(e,t,n){function r(e){var t=typeof e;return!e||\"object\"!==t&&\"function\"!==t?-1:e===window?0:a(e,i,function(){return o++})}var o=1,i=\"nr@id\",a=e(\"gos\");t.exports=r},{}],loader:[function(e,t,n){function r(){if(!h++){var e=y.info=NREUM.info,t=l.getElementsByTagName(\"script\")[0];if(setTimeout(f.abort,3e4),!(e&&e.licenseKey&&e.applicationID&&t))return f.abort();c(b,function(t,n){e[t]||(e[t]=n)}),u(\"mark\",[\"onload\",a()],null,\"api\");var n=l.createElement(\"script\");n.src=\"https://\"+e.agent,t.parentNode.insertBefore(n,t)}}function o(){\"complete\"===l.readyState&&i()}function i(){u(\"mark\",[\"domContent\",a()],null,\"api\")}function a(){return(new Date).getTime()}var u=e(\"handle\"),c=e(2),f=e(\"ee\"),s=window,l=s.document,p=\"addEventListener\",d=\"attachEvent\",v=s.XMLHttpRequest,g=v&&v.prototype;NREUM.o={ST:setTimeout,CT:clearTimeout,XHR:v,REQ:s.Request,EV:s.Event,PR:s.Promise,MO:s.MutationObserver},e(1);var m=\"\"+location,b={beacon:\"bam.nr-data.net\",errorBeacon:\"bam.nr-data.net\",agent:\"js-agent.newrelic.com/nr-998.min.js\"},w=v&&g&&g[p]&&!/CriOS/.test(navigator.userAgent),y=t.exports={offset:a(),origin:m,features:{},xhrWrappable:w};l[p]?(l[p](\"DOMContentLoaded\",i,!1),s[p](\"load\",r,!1)):(l[d](\"onreadystatechange\",o),s[d](\"onload\",r)),u(\"mark\",[\"firstbyte\",a()],null,\"api\");var h=0},{}]},{},[\"loader\"]);</script>\\n\\t\\t<base href=\"/\">\\n\\t\\t<meta name=\"viewport\" content=\"width=device-width, initial-scale=1, maximum-scale=1\">\\n\\t\\t<meta name=\"fragment\" content=\"!\">\\n\\n\\t\\t<link rel=\"stylesheet\" href=\"//maxcdn.bootstrapcdn.com/font-awesome/4.5.0/css/font-awesome.min.css\">\\n\\n\\t\\t<script src=\"https://use.typekit.net/pjc4zfc.js\"></script>\\n\\t\\t<script>try{Typekit.load({ async: false });}catch(e){}</script>\\n\\t\\t<script>\\n\\t\\t  (function(i,s,o,g,r,a,m){i[\\'GoogleAnalyticsObject\\']=r;i[r]=i[r]||function(){\\n\\t\\t  (i[r].q=i[r].q||[]).push(arguments)},i[r].l=1*new Date();a=s.createElement(o),\\n\\t\\t  m=s.getElementsByTagName(o)[0];a.async=1;a.src=g;m.parentNode.insertBefore(a,m)\\n\\t\\t  })(window,document,\\'script\\',\\'//www.google-analytics.com/analytics.js\\',\\'ga\\');\\n\\n\\t\\t  ga(\\'create\\', \\'UA-39297847-4\\', \\'auto\\');\\n\\t\\t  ga(\\'send\\', \\'pageview\\');\\n\\n\\t\\t</script>\\n\\t\\t<title>DataCamp - Documentation for Teaching</title>\\n\\t</head>\\n\\n\\t<body>\\n\\t\\t<script src=\"/teach/assets/top-2aaa5229d75931fc0c2b27abf04fc7f3.js\"></script>\\n\\t\\t<div class=\"site-wrap\">\\n\\t\\t\\t<div class=\"mask hide\"></div>\\n\\t\\t\\t<div class=\"popup-window hide\"></div>\\n\\t\\t\\t\\n\\t\\t\\t\\n<section class=\"bg bg-navigation\">\\n  <div class=\"container-fluid\">\\n    <nav class=\"clearfix row\">\\n  <div class=\"col-md-3\">\\n    <a class=\"navbar--title\" href=\"https://www.datacamp.com\">\\n      <div class=\"logo\"></div>\\n      <h1 class=\"logo-title\">DataCamp</h1>\\n</a>  </div>\\n\\n\\n  <ul class=\"nav\">\\n    <li>\\n      <a href=\"/teach\">My Courses</a>\\n    </li>\\n    <li>\\n      <a href=\"/teach/documentation\">Documentation</a>\\n    </li>\\n  </ul>\\n</nav>\\n\\n  </div>\\n</section>\\n<div class=\"container\">\\n  <div class=\"row documentation\">\\n\\n    <div class=\"col-sm-3 col-sm-push-9\">\\n      <div class=\"side-nav\">\\n        <ul class=\"nav-tabs\" role=\"tablist\">\\n\\n          <li class=\"tab-section\">Getting Started</li>\\n          <li role=\"presentation\" class=\"active\"><a href=\"#welcome\" aria-controls=\"welcome\" role=\"tab\" data-toggle=\"tab\">Welcome</a></li>\\n          <li role=\"presentation\"><a href=\"#getting_started\" aria-controls=\"getting_started\" role=\"tab\" data-toggle=\"tab\">Getting Started</a></li>\\n\\n          <li class=\"tab-section\">Your Courses</li>\\n          <li role=\"presentation\"><a href=\"#dashboard\" aria-controls=\"dashboard\" role=\"tab\" data-toggle=\"tab\">Dashboard</a></li>\\n          <li role=\"presentation\"><a href=\"#repository_overview\" aria-controls=\"repository_overview\" role=\"tab\" data-toggle=\"tab\">Repository Overview</a></li>\\n          <li role=\"presentation\"><a href=\"#teach_editor\" aria-controls=\"teach_editor\" role=\"tab\" data-toggle=\"tab\">Teach Editor</a></li>\\n\\n          <li class=\"tab-section\">Course Content</li>\\n          <li role=\"presentation\"><a href=\"#course_structure\" aria-controls=\"course_structure\" role=\"tab\" data-toggle=\"tab\">Course Structure</a></li>\\n          <li role=\"presentation\"><a href=\"#code_exercises\" aria-controls=\"code_exercises\" role=\"tab\" data-toggle=\"tab\">Code Exercises</a></li>\\n          <li role=\"presentation\"><a href=\"#upload_assets\" aria-controls=\"upload_assets\" role=\"tab\" data-toggle=\"tab\">Upload Assets</a></li>\\n          <li role=\"presentation\"><a href=\"#gamification\" aria-controls=\"gamification\" role=\"tab\" data-toggle=\"tab\">Gamification</a></li>\\n          <li class=\"tab-section\">Style Guides</li>\\n          <li role=\"presentation\"><a href=\"#style_guide_general\" aria-controls=\"style_guide_general\" role=\"tab\" data-toggle=\"tab\">General</a></li>\\n          <li role=\"presentation\"><a href=\"#style_guide_r\" aria-controls=\"style_guide_r\" role=\"tab\" data-toggle=\"tab\">R</a></li>\\n          <li role=\"presentation\"><a href=\"#style_guide_python\" aria-controls=\"style_guide_python\" role=\"tab\" data-toggle=\"tab\">Python</a></li>\\n\\n          <li class=\"tab-section\">Miscellaneous</li>\\n          <li role=\"presentation\"><a href=\"#faq\" aria-controls=\"faq\" role=\"tab\" data-toggle=\"tab\">FAQ</a></li>\\n          <li role=\"presentation\"><a href=\"#related_projects\" aria-controls=\"related_projects\" role=\"tab\" data-toggle=\"tab\">Related Projects</a></li>\\n\\n        </ul>\\n      </div>\\n    </div>\\n\\n    <div class=\"col-sm-9 col-sm-pull-3 vertical-nav-border\">\\n      <div class=\"tab-content\">\\n        <div role=\"tabpanel\" class=\"tab-pane active\" id=\"welcome\">\\n          <h2>Welcome</h2>\\n\\n<p>Everybody can teach on the DataCamp platform. This documentation aims to be a comprehensive guide to creating your own course on DataCamp. We\\'ll go over the structure of a DataCamp course, how to upload and update your content and information on coding up all elements of the different types of DataCamp exercises.</p>\\n\\n<h4>What is a DataCamp course?</h4>\\n\\n<p>An example of a DataCamp course is <a href=\"{#DATACAMP_APP}/courses/free-intro-to-r\" target=\"_blank\">Introduction to R</a>. The course consists of 6 chapters, each of which in turn consists of different exercises. This course is represented by a set of text files, that you can <a href=\"https://github.com/datacamp/courses-intro-to-r\" target=\"_blank\">find on GitHub</a>: The course details such as its title and its description, are contained in <code>course.yml</code>. Each chapter is represented by a markdown file: general chapter information, as well as all required elements of the chapter\\'s exercises are coded up in a readable format.</p>\\n\\n<h4>A DataCamp course</h4>\\n\\n<p>The <code>course.yml</code> and chapter markdown files together represent an entire DataCamp course. We allow you to \"upload\" this information to DataCamp\\'s databases, so that people around the world can take your course. It does this through <a href=\"https://github.com\" target=\"_blank\">GitHub</a>, the Git repository hosting service.</p>\\n\\n<p><a href=\"https://github.com/datacamp/courses-intro-to-r\" target=\"_blank\">A GitHub repository containing the course files</a> can be linked to DataCamp. Every time the GitHub repository is updated, DataCamp notices, and updates the corresponding course. There is a course specific overview where you can follow up with your changes to your course files, see which commits caused a particular build, whether these builds passed or failed and why.</p>\\n\\n<p>As such, DataCamp bridges the gap between the textual representation of a DataCamp course in the form of files and the actual course on DataCamp. By relying on GitHub version control, reproducibility and collaboration are baked into the process.</p>\\n\\n\\n\\n\\n        </div>\\n        <div role=\"tabpanel\" class=\"tab-pane\" id=\"getting_started\">\\n          <h2>Getting Started</h2>\\n\\n<div class=\"video-container\">\\n  <iframe src=\"https://player.vimeo.com/video/153250442\" width=\"100%\" height=\"900\" frameborder=\"0\" webkitallowfullscreen mozallowfullscreen allowfullscreen></iframe>\\n</div>\\n\\n<h4>1. Create account and link to GitHub</h4>\\n\\n\\n\\n<p>Visit <a href=\"/teach\">www.datacamp.com/teach</a>. If you are not yet logged in to DataCamp, click on Get Started. DataCamp will ask you to log in and connect your GitHub account to DataCamp. In order for things to work properly, you have to grant DataCamp several permissions, such as access to your public and private repositories on GitHub.</p>\\n\\n<h4>2. Create or link repository</h4>\\n\\n<p><strong>Starting from scratch?</strong> Use the \"Create a DataCamp course\" dialog to create a GitHub repository for you with template course files. Next, this repository is automatically linked to DataCamp and built for you. In the dialog, simply mention under which GitHub account or organization you want to create a repository and choose an appropriate title for the repository (this repository title doesn\\'t have to bear the name of the actual DataCamp course title). Also make sure to specify whether you want to create an R or a Python course.</p>\\n\\n<p><strong>Already have a GitHub repository with DataCamp course files?</strong> Click the \"link existing GitHub repository\" link in the \"Create a DataCamp course\" dialog, and hit the \"Link repository\" button for the repository you want to link to DataCamp.</p>\\n\\n<h4>3. Start developing your course</h4>\\n\\n<p>That\\'s it! A GitHub repository has been created for you, and it has been linked to DataCamp. You can check out your <a href=\"/teach\">course dashboard</a> with all your courses. You can click on a course for an overview about the changes you made. If something went wrong, you get meaningful error messages so that you can make things right again. <strong>Every time you make a change to the GitHub repository, the corresponding DataCamp course will be updated accordingly.</strong></p>\\n\\n<p>To make changes to the source files in your repository, you can head over to your repository on GitHub, click a file and make and commit the changes there. Alternatively, you can clone the repository to your local system. After making the changes, you can commit and push your changes to the repository. In both cases, DataCamp is notified about changes to the repository and you can check your updated course on DataCamp.</p>\\n        </div>\\n        <div role=\"tabpanel\" class=\"tab-pane\" id=\"dashboard\">\\n          <h2>Dashboard</h2>\\n\\n<p>If you\\'re logged in on DataCamp with an account that is successfully linked to a GitHub account and you visit <a href=\"https://www.datacamp.com/teach\">www.datacamp.com/teach</a>, you get to see the Teach Dashboard. Here, you can create a new DataCamp course, link existing GitHub repositories with course files that represent a DataCamp course and browse through the GitHub repositories that you\\'ve linked to DataCamp.</p>\\n\\n<h4>Create a DataCamp course dialog</h4>\\n\\n<p><strong>Starting from scratch?</strong> Use the \"Create a DataCamp course\" dialog to create a GitHub repository for you with template course files. Next, this repository is automatically linked to DataCamp and built for you. In the dialog, simply mention under which GitHub account or organization you want to create a repository and choose an appropriate title for the repository (this repository title doesn\\'t have to bear the name of the actual DataCamp course title). Also make sure to specify whether you want to create an R or a Python course.</p>\\n\\n<p><strong>Already have a GitHub repository with DataCamp course files?</strong> Click the \"link existing GitHub repository\" link in the \"Create a DataCamp course\" dialog, and hit the \"Link repository\" button for the repository you want to link to DataCamp.</p>\\n\\n<p>From this point onwards, changes to the repository in question will cause the corresponding DataCamp course to update.</p>\\n\\n<h4>GitHub repositories linked to DataCamp</h4>\\n\\n<p>The dashboard also gives an overview of all GitHub repositories that are linked to DataCamp. Details about the last build, such as the time, the commit messages and the build results with possibly additional information are shown. If you click the repository title or the \"More Details\" link, you are redirected to a detailed overview of the repository. For more information about this view, visit the <em>Repository Overview</em> article.</p>\\n\\n\\n        </div>\\n        <div role=\"tabpanel\" class=\"tab-pane\" id=\"repository_overview\">\\n          <h2>Repository Overview</h2>\\n\\n<p>You can access the repository overview by clicking the name of the repository on the Dashboard. This overview contains all the information to inspect and manage your repository. The overview pane features a tab for every branch in your GitHub repository. Every branch has its own overview. This is because <strong>each branch on GitHub corresponds to a different course on DataCamp</strong>. The master branch always corresponds to the \\'production\\' version of your course. By making a separate course for each branch, it becomes easy to work on big updates and to collaborate on a course: you simply create a new branch and make changes on the branch. You can add a new branch via the repository overview by clicking on the <strong>+</strong> sign at the top of your repository window. Once the new branch is created, you can start making updates to that branch. That way, you can share a \\'development version\\' of your course with a test audience, before merging those changes into the master branch, corresponding to the \\'production\\' version of the course.</p>\\n\\n<p>Each \\'branch overview\\' shows you the title, author, course image and author badge of the course. If you click the course title, you are redirected to the course corresponding to the selected branch on DataCamp. Next to this general information, the branch overview contains tabs with the most recent build, the build history and the settings. All of this information - title, images, builds, settings - is <strong>branch-specific</strong>.</p>\\n\\n<h4>Build Information</h4>\\n\\n<p>Whenever you make a change to a particular branch on your GitHub repository, DataCamp notices and starts a build attempt. It fetches all the course files from the branch, parses them, performs validity checks on them, and uploads them to DataCamp\\'s databases, so that they are available on the learning platform.</p>\\n\\n<p>Each such build attempts is listed in the Build History tab. The collapsed view shows the state of the attempt (in progress, warning, passed or failed), the time and last contributor to the changes. You can click the \"Show Details\" link to display all commit messages (you can click the commit hashes to inspect them on GitHub) and the build logs that are produced by building the course. If something went wrong during the build, it is here that you can figure out what went wrong and make appropriate changes. Some of the build logs will be clickable and will guide you towards the place where you should correct your markdown files.</p>\\n\\n<p>The \"Most Recent Build\" tab is simply an already expanded version of the last build attempt you\\'ve made, with the exact same information.</p>\\n\\n<h4>Settings</h4>\\n\\n<p>Under the \"Settings\" tab, you can adapt the settings of a particular repository\\'s branch.</p>\\n\\n<p>On every build attempt, all exercises in your chapters can be tested for correctness: it checks whether running the exercise\\'s solution happens without errors and whether the Submission Correctness Test passes, presenting the success message to the student. When you push changes to a branch, by default only the chapters that are updated are tested. This setting can be updated to test all chapters whenever a change is made, or to test no chapters whatsoever. It is suggested to not test chapters when your course is still in early development, and you don\\'t expect the exercises to all work. Later, when your course becomes ready for production, you can switch back to testing the chapters that are updated. Note: Your changes will be updated in the corresponding DataCamp course, even though some exercises might fail.</p>\\n\\n<p>The \\'force\\' setting decides whether or not to directly remove exercises that are no longer in your chapter. If force is disabled, and you remove an exercise from a chapter file, the exercise you\\'ve removed will still appear on DataCamp. If you enable force, exercises that are no longer in your chapter file, will also be removed from DataCamp\\'s databases.</p>\\n\\n<p>Finally, you can also decide to unlink your repository. If you do this, DataCamp will no longer listen to changes that are made on the repository, and no more builds will be triggered whenever you make updates. After unlinking, you can always link your course again through the <a href=/teach/repositories>Dashboard</a> with the courses you\\'ve made (link existing repository).</p>\\n\\n        </div>\\n        <div role=\"tabpanel\" class=\"tab-pane\" id=\"teach_editor\">\\n          <h2>Teach Editor</h2>\\n\\nCourses can be edited using the Teach Editor, an editor specifically built to create\\nDataCamp courses. This editor can be reached by clicking the <strong>Edit this Course</strong>\\nbutton on the course overview <strong>Repository Overview</strong> page.\\n\\n<h3>Features Overview</h3>\\n\\nFeatures of the editor include:\\n\\n<ul>\\n  <li><strong>Edit:</strong> edit your chapter files in a markdown editor. The editor\\n  includes syntax highlighting, autocomplete, undo/redo, ...</li>\\n  <li><strong>Preview:</strong> preview your course. This allows you to take a\\n  look at how your changes will look on DataCamp, before actually pushing the content\\n  live.</li>\\n  <li><strong>Save:</strong> save your progress directly to GitHub. Saving in the editor\\n  triggers a commit in the GitHub repository.</li>\\n  <li><strong>Add datasets:</strong> add datasets by clicking on the <strong>Datasets</strong>\\n  button and using the Dataset Manager to upload your file or choose to copy the link to a\\n  dataset that has already been uploaded to our servers.</li>\\n  <li>And many more...</li>\\n</ul>\\n\\n<h3>GitHub synchronization</h3>\\n\\nWith the Teach Editor, you edit markdown files that are also on GitHub. While using the editor,\\na version of the file is kept on the Teach Editor server. This means that when you accidentally\\nclose your browser window, your changes will not be lost. They\\'re saved to our Teach Editor\\nserver! However they will be thrown away eventually (after a while). So if you\\'re done working,\\nit\\'s always best to save your progress to GitHub.<br><br>\\n\\nHolding a temporary version (or cache) of the markdown files on our server has as a side effect that these version can start diverging from the version of the files that are on GitHub. As an example, suppose you\\'re editing the first chapter file in the Editor, and while you\\'re doing that someone else commits a change on GitHub. The 2 versions will start diverging, and when you save the progress you made in the Teach Editor, you might overwrite the changes made via the GitHub commit.\\n\\nThe editor has some counter measures against several bad situations like the one above.\\n\\n<ul>\\n  <li>\\n    <strong>Situation:</strong> there\\'s a commit on GitHub while,\\n    <ul>\\n      <li><strong>No one</strong> is using the editor for this course</li>\\n      <li>Last time editor was used for this course, everything got <strong>saved</strong></li>\\n    </ul>\\n    <strong>Steps: </strong>\\n    <ol>\\n      <li>No steps have to be taken, the cache is invalidated by the GitHub push and next time a user uses the editor for this course, the new content will be pulled from GitHub.</li>\\n    </ol>\\n  </li>\\n  <li>\\n    <strong>Situation:</strong> there\\'s a commit on GitHub while,\\n    <ul>\\n      <li><strong>Someone</strong> is using the editor for this course</li>\\n      <li>All changes just got <strong>saved</strong></li>\\n    </ul>\\n    This can happen when someone uses the editor, saves and leaves the editor browser open.<br>\\n    <strong>Steps: </strong>\\n    <ol>\\n      <li>While the user is working in the editor, the following popup appears (this can take up to 20 seconds)\\n        <img width=\"500px\" src=\"/teach/assets/documentation/editor_green_notification-755a87b118639e74f315ae1b65a1056e.png\" alt=\"Editor green notification\" />\\n      </li>\\n      <li>User chooses:\\n        <ul>\\n          <li><strong>Sync with newest version</strong> will pull the latest version from GitHub, this action is advised as the green notification means you have no cached changes that will be lost.</li>\\n          <li><strong>Keep this version</strong> will let the user keep working with this version, no content will be pulled from GitHub. Next time you save, you could overwrite changes that were made on GitHub. If this is the case, a conflict branch will be created. The previous changes on GitHub will be saved n the conflict branch.</li>\\n        </ul>\\n      </li>\\n    </ol>\\n  </li>\\n  <li>\\n    <strong>Situation:</strong> there\\'s a commit on GitHub while,\\n    <ul>\\n      <li><strong>No one</strong> is using the editor for course</li>\\n      <li><strong>Not</strong> all changes are <strong>saved</strong> in the editor</li>\\n    </ul>\\n    <strong>Steps: </strong>\\n    <ol>\\n      <li>The cached changes can not just be invalidated like in the first situation, because this would mean losing content</li>\\n      <li>The next time when someone opens up the course, the following popup appears\\n        <img width=\"500px\" src=\"/teach/assets/documentation/editor_red_notification-55a8c7af844b5628dcd137d2fcb2e200.png\" alt=\"Editor red notification\" />\\n      </li>\\n      <li>User chooses:\\n        <ul>\\n          <li><strong>Sync with newest version</strong> will pull the latest version from GitHub, this will cause the user to lose the changes that are currently only made on the temporary files on the Teach Editor server.</li>\\n          <li><strong>Keep this version</strong> will let the user keep working with this version, no content will be pulled from GitHub. Next time you save, you could overwrite changes that were made on GitHub. If this is the case, a conflict branch will be created. The previous changes on GitHub will be saved n the conflict branch.</li>\\n        </ul>\\n      </li>\\n    </ol>\\n  </li>\\n  <li>\\n    When the last situation happens if someone is using the editor, the red notification won\\'t be shown automatically without a refresh (in contrast to the green notification). It will only show after a refresh.\\n  </li>\\n</ul>\\n\\n        </div>\\n        <div role=\"tabpanel\" class=\"tab-pane\" id=\"course_structure\">\\n          <h2>Course Structure</h2>\\n<p>A DataCamp course, such as <a href=\"https://www.datacamp.com/courses/free-introduction-to-r\">Introduction to R</a> consists of chapters; each chapter in its turn consists of exercises.\\n\\n<p>If you used DataCamp to create a repository for you, this repository will contain three files:</p>\\n\\n<ul>\\n\\t<li><strong>README.md</strong>: A readme file with a list of resources and some more explanation to get you started.</li>\\n\\t<li><strong>course.yml</strong>: A YAML-formatted file that contains general information about your course.</li>\\n\\t<li><strong>chapter1.Rmd</strong>: A chapter file with some exercise templates.</li>\\n</ul>\\n\\n<h4>Course file: course.yml</h4>\\n<p>All general information concerning the course is contained in the YAML-formatted <code>course.yml</code> file.</p>\\n<ul>\\n\\t<li><strong>title</strong>: Title of the course.</li>\\n\\t<li>\\n\\t\\t<strong>instructors</strong>: A <a href=\"http://docs.ansible.com/ansible/YAMLSyntax.html#yaml-basics\" target=\"_blank\">YAML-formatted list</a> of instructors of this course. This should be a list of email addresses of users on DataCamp. The biography and picture of these instructors can be edited through their profile settings page on DataCamp.\\n\\n\\t\\tFor example:\\n<pre><code>instructors:\\n  - email@datacamp.com</pre></code>\\n\\t</li>\\n\\t<li>\\n\\t\\t<strong>collaborators</strong>: Same principle as <strong>instructors</strong>. Collaborators are people who assisted in creating the course.\\n\\n\\t\\tFor example:\\n<pre><code>collaborators:\\n  - email@datacamp.com</pre></code>\\n\\t</li>\\n\\t<li><strong>university</strong>: Organization, university or company the author is linked to.</li>\\n\\t<li><strong>description</strong>: Description of the course.</li>\\n\\t<li><strong>programming_language</strong>: Programming language of the course (r or python).</li>\\n\\t<li><strong>difficulty_level</strong>: 1, 2 or 3, depending on the difficulty of the course. 1 corresponds to beginner, 2 to intermediate and 3 to advanced.\\n\\t<li><strong>time_needed</strong>: time_needed: The time needed to finish the course. Use small caps. \"4 hours\", for example.\\n</ul>\\n\\n<p>You can update the course.yml at all times: simply commit your changes to the GitHub repository and the DataCamp course will be updated accordingly</p>\\n\\n<h4>Chapter files: chapterX.(R)md</h4>\\n<p>A course can contain multiple chapters. These chapters should be named chapter1.Rmd, chapter2.Rmd, chapter3.Rmd etc for R courses, and chapter1.md, chapter2.md and chapter3.md for Python courses. The number in the file name determines the order in which the chapters appear in the course.</p>\\n\\n<p>The chapter file consists of two parts: the chapter-specific information, and the exercises.</p>\\n\\n<h5>Chapter-specific information</h5>\\n<p>Similar to the <code>course.yml</code> file, chapter files start with a YAML header containing information about the chapter:</p>\\n\\n<ul>\\n\\t<li><strong>title</strong>: Title of the chapter.</li>\\n\\t<li><strong>description</strong>: Description of the chapter.</li>\\n\\t<li><strong>free_preview</strong>: If it\\'s a paying course, whether this chapter is a free preview (typically the first chapter of a premium course is a free preview).</li>\\n\\t<li>\\n\\t\\t<strong>attachments</strong>: Generic way to include attachments. Typically used to include slides for the chapter, through <code>slides_link</code>.\\n\\n\\t\\tFor example:\\n<pre><code>attachments:\\n  slides_link: http://link.to.slides/</pre></code>\\n\\t</li>\\n</ul>\\n\\n<h5>Exercises</h5>\\nAfter the YAML header inside the chapterX.(R)md files, you can add different exercises, one after the other. There are three types of exercises:\\n<ul>\\n\\t<li><strong>VideoExercise</strong>: A tutorial video, explaining concepts and code that will be used in the exercises that follow. VideoExercises are typically only part of premium courses that require a subscription.\\n\\t<li><strong>NormalExercise</strong>: An interactive exercise, where the student is expected to submit code based on the assignment and instructions provided. The student\\xe2\\x80\\x99s submission is compared to the ideal solution with DataCamp\\xe2\\x80\\x99s autograder and appropriate feedback is generated.\\n\\t<li><strong>MultipleChoiceExercise</strong>: Provides the student with a set of possible answers. Based on the exercise information and the instruction, the student is expected to select one (and only one) answer. During a multiple choice exercise, the user can still experiment in the R console.</li>\\n</ul>\\n\\n<p>For more details on how these exercises can be coded, check the <em>Code Exercises</em> article.</p>\\n\\n<h5>Making changes</h5>\\n\\n<p>You can update the different chapterX.(R)md files in your repositories at all times: simply commit your changes to the GitHub repository and the corresponding DataCamp course will be updated accordingly. Want to remove a chapter? Simply remove the chapter file from the repository. Want to change the order of the chapters? Simply rename the chapters to adapt the numbering, and the chapters will be reordered in the corresponding DataCamp course.</p>\\n\\n\\n        </div>\\n        <div role=\"tabpanel\" class=\"tab-pane\" id=\"code_exercises\">\\n          <h2>Code Exercises</h2>\\n\\n<p>If you\\'ve created a course repository through <a href=\"/teach\">www.datacamp.com/teach</a>, your chapter file will already contain some DataCamp exercises to start from. There\\'s three types of exercises: a NormalExercise, a MultipleChoiceExercise and a VideoExercise. These different types of exercises have some elements in common; other elements are type-specific.</p>\\n\\n<h5>Submission Correctness Tests</h5>\\n\\n<p>Both NormalExercises and MultipleChoiceExercises require you to write so-called Submission Correctness Tests, to assess whether the student gave the correct answer Writing good SCTs is a challenge; that\\'s why programming language-specific packages have been written to make this process as easy as possible. For R, there\\'s the <a href=\"https://github.com/datacamp/testwhat\">testwhat</a> package (<a href=\"https://github.com/datacamp/testwhat/wiki\">GitHub wiki</a>). For Python, there\\'s the  <a href=\"https://github.com/datacamp/pythonwhat\">pythonwhat</a> package (<a href=\"https://github.com/datacamp/pythonwhat/wiki\">GitHub wiki</a>).\\n\\n<h5>Making Changes</h5>\\n\\n<p>Changes you make are automatically reflected in the corresponding chapter on DataCamp once you commit and push the changes to the GitHub repository. Because DataCamp needs a way to know which exercises in the chapter files correspond to which exercises in DataCamp\\'s databases, so-called exercise keys are used. Whenever you add a new exercise to a chapter, DataCamp will add a key to the chapter file on your behalf. From then on, this key acts as a unique identifier of that exercise. As soon as there is a key, you can safely change the title and type of the exercise, without risking to lose any progress that students might have made.</p>\\n\\n<h4>Exercise Examples</h4>\\n\\n<h5>NormalExercise</h5>\\n\\n<p>The NormalExercise, which is the traditional interactive exercise, is a chapter component where the student is expected to write code. Additional information regarding the exercise or the data set that is used is stated in the <em>assignment</em> part; the actual tasks the student has to solve through code are outlined in the <em>instructions</em>. Behind the scene, the workspace is prepared for the student\\xe2\\x80\\x99s actions using the <em>pre-exercise code</em>. The student starts to code in the editor that is initialized with the <em>sample code</em>. When the student is not able to solve the exercise, he or she can refer to the hint or, ultimately, can peek at the <em>solution</em>. Every time the student hits the \\xe2\\x80\\x98Submit Code\\xe2\\x80\\x99 button, his or her code is checked for correctness using the <em>submission correctness testing code</em>. This <em>SCT</em> generates a feedback message that depends on the input of the student.</p>\\n\\n<p>The example code below pre-sets a variable <code>y</code> with the value 3, before the exercise even starts. The sample code acts as a \\xe2\\x80\\x98fill-in form\\xe2\\x80\\x99 where students can write code. Notice from the exercise header that you can specify two skills, 1 (R) and 3 (Data Handling) in this case. To learn more about skills and xp, check out the Gamification article.</p>\\n\\n<pre><code>\\n--- type:NormalExercise lang:r xp:100 skills:1,3\\n## Interactive Exercise Title\\n\\nThis basic exercise will challenge you to assign a variable in R.\\n\\n*** =instructions\\n- Assign `5` to the variable `x` in the editor on the right.\\n\\n*** =hint\\nUse `&lt;-` for assignment.\\n\\n*** =pre_exercise_code\\n```{r}\\ny &lt;- 3\\n```\\n\\n*** =sample_code\\n```{r}\\n# Assign 5 to the variable x\\n```\\n\\n*** =solution\\n```{r}\\n# Assign 5 to the variable x\\nx &lt;- 5\\n```\\n\\n*** =sct\\n```{r}\\ntest_error()\\ntest_object(\"x\",\\n            undefined_msg = \"Make sure to define `x`!\",\\n            incorrect_msg = \"Have you correctly assigned 5 to `x`!\")\\nsuccess_msg(\"Good job! Head over to the next exercise\")\\n```\\n</code></pre>\\n\\n<p>If you need entire data sets in your exercise, it doesn\\'t make sense to include them as text in the pre-exercise code. Moreover, if you\\'re using the same dataset across different exercises, this would imply extreme code duplication. What you can do instead, is saving your dataset as a flat file and store it in the `datasets` folder to make it available online. Read through the Upload Assets article to learn more.</p>\\n\\n<h5>Multiple Choice Exercise</h5>\\n\\n<p>Multiple choice exercises offer the student a number of options from which he/she has to choose. The assignment introduces the exercise and asks a question. The instructions consist of a unnumbered list of options, which are compiled to radio buttons in the DataCamp environment. As in interactive exercises, the pre exercise code and the submission correctness tests have to be specified. Unlike interactive exercises, there is no sample nor solution code for this type of exercises.</p>\\n\\n<pre><code>\\n--- type:MultipleChoiceExercise lang:r xp:50 skills:3\\n## Multiple Choice Exercise Title\\n\\nThis is the assignment.\\nHow much is `2 + 2`?\\n\\n*** =instructions\\n- 2\\n- 3\\n- 4\\n\\n*** =hint\\nHere\\'s a hint: think about your time in primary school.\\n\\n*** =pre_exercise_code\\n```{r}\\n# no pec\\n```\\n\\n*** =sct\\n```{r}\\nmsg1 = \"Try again! Think about your time in school.\"\\nmsg2 = \"Summing two even numbers always leads to another even number. Try again.\"\\nmsg3 = \"Well done. Proceed to the next exercise\"\\ntest_mc(correct = 3, feedback_msgs = c(msg1,msg2,msg3))\\n```\\n</code></pre>\\n\\n<h5>VideoExercise</h5>\\n\\n<p>Video exercises feature an instructional video. The finished video shows the instructor explaining concepts with slides that are rendered in the background. The video files are uploaded to Vimeo and the embed link is added to the video exercise. Inside a chapter file (e.g. <code>chapter1.md</code>) a video lecture is added as follows:</p>\\n\\n<pre><code>\\n--- type:VideoExercise lang:r aspect_ratio:62.5 xp:50 skills:1\\n## Video Exercise Title\\n\\n*** =video_link\\n//player.vimeo.com/video/108225030\\n</code></pre>\\n\\n<p>This code will generate a video exercise that is titled \\xe2\\x80\\x9cVideo Exercise Title\\xe2\\x80\\x9d. It refers to the Vimeo video with id 108225030 and has an aspect ratio of 62.5 percent, which corresponds to a 1728x1080 video; the default ration is 16:9. Notice the exercise identifier (<code>--- type:VideoExercise</code>). This video, if watched, leads to 50 experience points for the R skill (id = 1). To learn more about skills and xp, check out the Gamification article.</p>\\n\\n\\n<h4>Python or R?</h4>\\n\\n<p>On DataCamp, you can teach both R and Python. The different parts of the exercises are all the same, with the only difference that you include Python code in the code blocks instead of R code.</p>\\n\\n<p>To code a python exercise, you need to do three things:</p>\\n\\n<ul>\\n  <li>In the <code>course.yml</code> file, add <code>programming_language: python</code> to the YAML.</li>\\n  <li>In the exercise header (<code>--- type:...</code>) set <code>lang:python</code> instead of <code>lang:r</code>.</li>\\n  <li>The language specification inside curly brackets for all code blocks (<code>{r}</code>) should be changed to <code>{python}</code>.</li>\\n</ul>\\n\\n<p>As a comparison of R and Python exercise, check the two short snippets below. Typically, the skills will be different too (Python has skill id 2).</p>\\n\\n<p>Example of R exercise:</p>\\n\\n<pre><code>\\n--- type:NormalExercise lang:r xp:100 skills:1\\n\\n... _assignment and instructions omitted_\\n\\n*** =pre_exercise_code\\n```{r}\\n# this it the pre_exercise_code\\nlibrary(dplyr)\\n```\\n\\n... _rest of exercise omitted_\\n</code></pre>\\n\\n<p>Example of Python exercise:</p>\\n\\n<pre><code>\\n--- type:PythonExercise lang:python xp:100 skills:2\\n\\n... _assignment and instructions omitted_\\n\\n*** =pre_exercise_code\\n```{python}\\n# this it the pre_exercise_code\\nimport numpy as np\\n```\\n\\n... _rest of exercise omitted_\\n</code></pre>\\n\\n\\n<h4>Summary of exercise elements</h4>\\n\\n<div style=\"padding:0px 0px 30px 0px\">\\n\\t<table>\\n\\t  <thead>\\n\\t    <tr>\\n\\t      <th style=\"text-align: left\">Property</th>\\n\\t      <th style=\"text-align: center\">Video</th>\\n\\t      <th style=\"text-align: center\">Normal</th>\\n\\t      <th style=\"text-align: center\">Multiple</th>\\n\\t    </tr>\\n\\t  </thead>\\n\\t  <tbody>\\n\\t    <tr>\\n\\t      <td style=\"text-align: left\"><strong>type</strong>: exercise type.</td>\\n\\t      <td style=\"text-align: center\"><font color=\"green\">&#x2713;</font></td>\\n\\t      <td style=\"text-align: center\"><font color=\"green\">&#x2713;</font></td>\\n\\t      <td style=\"text-align: center\"><font color=\"green\">&#x2713;</font></td>\\n\\t    </tr>\\n\\t    <tr>\\n\\t      <td style=\"text-align: left\"><strong>key</strong>: exercise key (don\\'t change or set this manually)</td>\\n\\t      <td style=\"text-align: center\"><font color=\"green\">&#x2713;</font></td>\\n\\t      <td style=\"text-align: center\"><font color=\"green\">&#x2713;</font></td>\\n\\t      <td style=\"text-align: center\"><font color=\"green\">&#x2713;</font></td>\\n\\t    </tr>\\n\\t    <tr>\\n\\t      <td style=\"text-align: left\"><strong>lang</strong>: Programming language of the exercise.</td>\\n\\t      <td style=\"text-align: center\"><font color=\"green\">&#x2713;</font></td>\\n\\t      <td style=\"text-align: center\"><font color=\"green\">&#x2713;</font></td>\\n\\t      <td style=\"text-align: center\"><font color=\"green\">&#x2713;</font></td>\\n\\t    </tr>\\n\\t    <tr>\\n\\t      <td style=\"text-align: left\"><strong>title</strong>: Title of the exercise</td>\\n\\t      <td style=\"text-align: center\"><font color=\"green\">&#x2713;</font></td>\\n\\t      <td style=\"text-align: center\"><font color=\"green\">&#x2713;</font></td>\\n\\t      <td style=\"text-align: center\"><font color=\"green\">&#x2713;</font></td>\\n\\t    </tr>\\n\\t    <tr>\\n\\t      <td style=\"text-align: left\"><strong>assignment</strong>: Text that clarifies or introduces the exercises.</td>\\n\\t      <td style=\"text-align: center\"><font color=\"red\">&#x2717;</font></td>\\n\\t      <td style=\"text-align: center\"><font color=\"green\">&#x2713;</font></td>\\n\\t      <td style=\"text-align: center\"><font color=\"green\">&#x2713;</font></td>\\n\\t    </tr>\\n\\t    <tr>\\n\\t      <td style=\"text-align: left\"><strong>instructions</strong>: The actual question or task for the student. In the case of a multiple choice exercise, the instructions list the options from which the student can choose.</td>\\n\\t      <td style=\"text-align: center\"><font color=\"red\">&#x2717;</font></td>\\n\\t      <td style=\"text-align: center\"><font color=\"green\">&#x2713;</font></td>\\n\\t      <td style=\"text-align: center\"><font color=\"green\">&#x2713;</font></td>\\n\\t    </tr>\\n\\t    <tr>\\n\\t      <td style=\"text-align: left\"><strong>hint</strong>: Hint that can help the student to correctly solve the exercise.</td>\\n\\t      <td style=\"text-align: center\"><font color=\"red\">&#x2717;</font></td>\\n\\t      <td style=\"text-align: center\"><font color=\"green\">&#x2713;</font></td>\\n\\t      <td style=\"text-align: center\"><font color=\"green\">&#x2713;</font></td>\\n\\t    </tr>\\n\\t    <tr>\\n\\t      <td style=\"text-align: left\"><strong>pre_exercise_code</strong>: Code that is run in the background when the exercise is loaded. It typically loads the necessary libraries and defines variables to allow the student to start solving the exercise right away.</td>\\n\\t      <td style=\"text-align: center\"><font color=\"red\">&#x2717;</font></td>\\n\\t      <td style=\"text-align: center\"><font color=\"green\">&#x2713;</font></td>\\n\\t      <td style=\"text-align: center\"><font color=\"green\">&#x2713;</font></td>\\n\\t    </tr>\\n\\t    <tr>\\n\\t      <td style=\"text-align: left\"><strong>sample_code</strong>: Initial code that is available to the user at the onset of the exercise, to better guide the student to a solution or to limit typing efforts.</td>\\n\\t      <td style=\"text-align: center\"><font color=\"red\">&#x2717;</font></td>\\n\\t      <td style=\"text-align: center\"><font color=\"green\">&#x2713;</font></td>\\n\\t      <td style=\"text-align: center\"><font color=\"red\">&#x2717;</font></td>\\n\\t    </tr>\\n\\t    <tr>\\n\\t      <td style=\"text-align: left\"><strong>solution</strong>: Correct solution to an interactive exercise. How the exercise should have been solved ideally. However, other approaches that also lead to a correct result should be selected.</td>\\n\\t      <td style=\"text-align: center\"><font color=\"red\">&#x2717;</font></td>\\n\\t      <td style=\"text-align: center\"><font color=\"green\">&#x2713;</font></td>\\n\\t      <td style=\"text-align: center\"><font color=\"red\">&#x2717;</font></td>\\n\\t    </tr>\\n\\t    <tr>\\n\\t      <td style=\"text-align: left\"><strong>sct</strong>: code that is executed to test the correctness of the student\\xe2\\x80\\x99s submission.</td>\\n\\t      <td style=\"text-align: center\"><font color=\"red\">&#x2717;</font></td>\\n\\t      <td style=\"text-align: center\"><font color=\"green\">&#x2713;</font></td>\\n\\t      <td style=\"text-align: center\"><font color=\"green\">&#x2713;</font></td>\\n\\t    </tr>\\n\\t    <tr>\\n\\t      <td style=\"text-align: left\"><strong>video_link</strong>: link to the video lecture on <a href=\"https://vimeo.com\">Vimeo</a>.</td>\\n\\t      <td style=\"text-align: center\"><font color=\"green\">&#x2713;</font></td>\\n\\t      <td style=\"text-align: center\"><font color=\"red\">&#x2717;</font></td>\\n\\t      <td style=\"text-align: center\"><font color=\"red\">&#x2717;</font></td>\\n\\t    </tr>\\n\\t    <tr>\\n\\t      <td style=\"text-align: left\"><strong>aspect_ratio</strong>: The aspect ratio of a video lecture, as a percentage, calculated as <code>height / width * 100</code>.</td>\\n\\t      <td style=\"text-align: center\"><font color=\"green\">&#x2713;</font></td>\\n\\t      <td style=\"text-align: center\"><font color=\"red\">&#x2717;</font></td>\\n\\t      <td style=\"text-align: center\"><font color=\"red\">&#x2717;</font></td>\\n\\t    </tr>\\n\\t  </tbody>\\n\\t</table>\\n</div>\\n\\n\\n        </div>\\n        <div role=\"tabpanel\" class=\"tab-pane\" id=\"upload_assets\">\\n          <h2>Upload Assets</h2>\\n\\n<p>A DataCamp course has a course badge, and your exercises will typically use datasets. The DataCamp allows you to add these assets to your course, also through GitHub.</p>\\n\\n<h4>Images</h4>\\n\\n<p>When you create a course with the \"Create a DataCamp Course\" dialog, DataCamp will create the course files and an <code>img</code> folder with a template course shield and author image. The course shield is named <code>shield_image.png</code>, the author image is called <code>author_image.png</code>. You can replace these files with your own images, just make sure to use the same names and files under 1Mb. As soon as you push the changes to GitHub, the images of your course will be updated.</p>\\n\\n<h4>Datasets</h4>\\n\\n<p>To use a dataset in your exercises, create a <code>datasets</code> folder on the root level of the repository. Every file in the `datasets` folder with a typical dataset extension, will be uploaded whenever you push the changes to GitHub. The build logs that you can find in the repository overview will inform abou the upload of these datasets to DataCamp\\'s Amazon S3 servers, and provide a link. You can then use this link in the <code>pre_exercise_code</code> chunk of your exercises to initialize the workspace for the student.\\n\\n<p>Example for loading in an RData file in an R exercise:</p>\\n\\n<pre><code>\\n*** =pre_exercise_code\\n```{r}\\nload(url(\"http://assets.datacamp.com/production/course_123/my_file.RData\"))\\n```\\n</code></pre>\\n\\n<p>Example pre exercise code for loading in a CSV file in an R exercise:</p>\\n\\n<pre><code>\\n*** =pre_exercise_code\\n```{r}\\nmovies <- read.csv(\"http://assets.datacamp.com/production/course_123/movies.csv, stringsAsFactors = FALSE)\\n```\\n</code></pre>\\n\\n<p>Example pre exercise code for loading in a CSV file in a Python exercise (with Pandas):</p>\\n\\n<pre><code>\\n*** =pre_exercise_code\\n```{python}\\nimport pandas as pd\\ndf = pd.read_csv(\\'http://assets.datacamp.com/production/course_234/gapminder.csv\\', index_col = 0)\\n```\\n</code></pre>\\n\\n\\n<p>To limit the resource usage of the exercises, you can upload datasets up to 10Mb in size. In addition, to guard against misuse, only files with extensions csv, xlsx, RData, Rds, Rda, hdf5, dta, p, sas7bdat, mat, sqlite3 and db3 are supported. If there are other file extensions that you want to upload, please contact support.</p>\\n\\n<p>If you want to make available self-defined functions in your R exercise, don\\'t use an RData file to store these functions. Because of the way our submission checking system works (the student and solution code are executed in separate environments), storing functions that have been assigned in the global R environment, to later use them in an RData file causes issues. Instead, write the functions in a script that you store in your <code>datasets</code> folder and use <code>eval(parse(\"link_to_script_url\"))</code> in your pre exercise code to make the functions available.</p>\\n\\n<h4>Slides and Videos</h4>\\n\\n<p>Premium DataCamp courses feature videos and corresponding slides. To upload slides, you can work in the same way as for datasets. This time though, make sure you upload PDF files to a folder <code>slides</code> in the repository\\'s root directory. Again, the build logs will generate a link that you can use to specify the <code>slides_link</code> in the chapter header, as detailed in the <em>Course Structure</em> article of this documentation.</p>\\n\\n<p>Because videos are typically very big files, they should not be added to your GitHub repository. Contact support if there are videos that you want to add to your course, and we can help you to add them to your course.</p>\\n\\n        </div>\\n        <div role=\"tabpanel\" class=\"tab-pane\" id=\"gamification\">\\n          <h2>Gamification</h2>\\n\\n<p>To enable DataCamp\\xe2\\x80\\x99s gamification features, you have to specify one or more skills and a number of experience points for each exercise. A <code>MultipleChoiceExercise</code> or <code>VideoExercise</code> typically gets 50 xp points, a <code>NormalExercise</code> normally gets 100 experience points. The skill that you attribute to your exercise depends on its contents. Have a look at the header of this interactive R exercise:\\n\\n<pre><code>\\n--- type:NormalExercise lang:r xp:100 skills:1,4\\n## Scatter plot\\n\\n... _rest of exercise omitted_\\n\\n</code></pre>\\n\\n<p>This interactive exercise earns the student 100 xp for the R skill (1) and the visualization skill (4) after successfully completing the exercise. The student can check the earned XP on his or her personal profile.</p>\\n\\n<p>If the student asks for the hint, 30 percent of the exercise\\'s XP will be deducted; if the student asks for the solution, all XP will be deducted. The student can come back after 24 hours to try again and earn full XP again. As soon as you finish an exercise, DataCamp\\'s databases will consider it completed, irrespective of the xp that you earn. It\\'s hence perfectly possible to finish an entire course and earn a certificate, but to earn no experience points.</p> \\n\\n<p>At the moment, the following skills, with their corresponding skills ids are available on DataCamp:</p>\\n\\n<div style=\"padding:0px 0px 30px 0px\">\\n\\t<table>\\n\\t  <thead>\\n\\t    <tr>\\n\\t      <th style=\"text-align: left\">Skill</th>\\n\\t      <th style=\"text-align: center\">Skill id</th>\\n\\t    </tr>\\n\\t  </thead>\\n\\t  <tbody>\\n\\t    <tr>\\n\\t      <td style=\"text-align: left\">R Programming</td>\\n\\t      <td style=\"text-align: center\">1</td>\\n\\t    </tr>\\n\\t    <tr>\\n\\t      <td style=\"text-align: left\">Python Programming</td>\\n\\t      <td style=\"text-align: center\">2</td>\\n\\t    </tr>\\n\\t    <tr>\\n\\t      <td style=\"text-align: left\">Data Handling</td>\\n\\t      <td style=\"text-align: center\">3</td>\\n\\t    </tr>\\n\\t    <tr>\\n\\t      <td style=\"text-align: left\">Data Manipulation</td>\\n\\t      <td style=\"text-align: center\">4</td>\\n\\t    </tr>\\n\\t    <tr>\\n\\t      <td style=\"text-align: left\">Reporting</td>\\n\\t      <td style=\"text-align: center\">5</td>\\n\\t    </tr>\\n\\t    <tr>\\n\\t      <td style=\"text-align: left\">Machine Learning</td>\\n\\t      <td style=\"text-align: center\">6</td>\\n\\t    </tr>\\n\\t    <tr>\\n\\t      <td style=\"text-align: left\">Statistical Modeling</td>\\n\\t      <td style=\"text-align: center\">7</td>\\n\\t    </tr>\\n\\t    <tr>\\n\\t      <td style=\"text-align: left\">Importing &amp; Cleaning Data</td>\\n\\t      <td style=\"text-align: center\">8</td>\\n\\t    </tr>\\n\\t  </tbody>\\n\\t</table>\\n</div>\\n        </div>\\n        <div role=\"tabpanel\" class=\"tab-pane\" id=\"style_guide_general\">\\n          <h2>General Style Guide</h2>\\n\\n<h4>Writing Style</h4>\\n\\n<ul>\\n  <li>Use American English for public courses.</li>\\n  <li>Correct punctuation should be present in: Assignment, Hint, Instructions, Submission Correctness Tests.</li>\\n  <li>Use the \\xe2\\x80\\x9cyou\\xe2\\x80\\x9d-form to give chapters a personal touch. Limit the we-ing.</li>\\n  <li>Do a double check on spelling mistakes.</li>\\n</ul>\\n\\n<h4>Assignment, Instructions, Hint</h4>\\n\\n<ul>\\n  <li>Code is placed in backticks, to give code formatting: <code>my_var</code>, <code>my_fun()</code>)</li>\\n  <li>Package names are written in code style, using backticks.</li>\\n  <li>Functions and methods are written inside backticks, and with trailing <code>()</code>: <code>my_fun()</code>.</li>\\n  <li>Blocks of code are formatted using three backticks:</li>\\n</ul>\\n\\n<pre><code># Good\\n```\\nprint(\"This is a complex sum:\")\\nprint(3 + 5)\\n```\\n\\n# Bad\\n`\\nprint(\"This is a complex sum:\")\\nprint(3 + 5)\\n`\\n</code></pre>\\n\\n<ul>\\n  <li>Emphasize works with <em>italics</em>. Use <strong>bold</strong> to introduce new concepts.</li>\\n  <li>Place mathematical expressions between <code>$</code> signs. It will be compiled as LaTeX output.</li>\\n</ul>\\n\\n<pre><code># Good\\n$ a_1 = b_1 + c_1 $\\n\\n# Bad\\na_1 = b_1 + c_1\\n</code></pre>\\n\\n<h4>Commenting guidelines</h4>\\n\\n<ul>\\n  <li>Keep comments short and sweet, ideally 60 characters or less. They don\\'t need to repeat an entire instruction and shouldn\\'t introduce any new information. Think of them as placeholders in the editor, which generally map 1-1 to instructions.</li>\\n  <li>To refer to variables or functions inside comments, don\\xe2\\x80\\x99t use backticks or quotes:</li>\\n</ul>\\n\\n<pre><code># Good way to refer to a variable x or the function my_fun()\\n\\n# Bad way to refer to a variable `x` or the function \\'my_fun()\\'\\n</code></pre>\\n\\n<h4>Submission Correctness Test</h4>\\n\\n<ul>\\n  <li>You can use markdown syntax inside the R strings of the SCT feedback, for function names, variable names, package names etc. <code>testwhat</code> converts the strings to HTML so that they are correctly rendered.</li>\\n</ul>\\n\\n<pre><code># Good\\ntest_object(\"x\",incorrect_msg = \"Have you specified the variable `x` correctly?\")\\nsuccess_msg(\"Well done. `x` is a variable.\")\\nsuccess_msg(\"Well done. `mean()` is a function.\")\\n\\n# Bad\\ntest_object(\"x\",incorrect_msg = \"Have you specified the variable x correctly?\")\\nsuccess_msg(\"Well done. \\'x\\' is a variable.\")\\nsuccess_msg(\"Well done. \\\\\"mean()\\\\\" is a function.\")\\n</code></pre>\\n\\n        </div>\\n        <div role=\"tabpanel\" class=\"tab-pane\" id=\"style_guide_r\">\\n          <h2>R Style Guide</h2>\\n<p>The R style guide is largely based on the <a href=\"http://r-pkgs.had.co.nz/style.html\" target=\"_blank\">style guide put together by Hadley Wickham</a>. It shows small differences to better match educational needs, and introduces some new elements that are specifically relevant for content in the DataCamp format.</p>\\n\\n\\n<table class=\"style_guide\">\\n  <tr>\\n    <td colspan=\"3\">\\n      <h5>Assignment</h5>\\n    </td>\\n  </tr>\\n  <tr>\\n    <td>Use <code>&lt;-</code> for assignment</td>\\n    <td>\\n      <pre><code>x &lt;- 3</code></pre>\\n    </td>\\n    <td>\\n      <pre><code>x = 3</code></pre>\\n    </td>\\n  </tr>\\n  <tr>\\n    <td colspan=\"3\">\\n      <h5>String Quotes</h5>\\n    </td>\\n  </tr>\\n  <tr>\\n    <td>Pick either single or double quotes and stick with it</td>\\n    <td>\\n      <pre><code>x &lt;- c(\"a\", \"b\")</code></pre>\\n    </td>\\n    <td>\\n      <pre><code>x &lt;- c(\"a\", \\'b\\')</code></pre>\\n    </td>\\n  </tr>\\n  <tr>\\n    <td>Choose alteration over escaping</td>\\n    <td>\\n      <pre><code>print(\\'She said: \"nice\"\\')</code></pre>\\n    </td>\\n    <td>\\n      <pre><code>print(\"She said: \\\\\"nice\\\\\"\")</code></pre>\\n    </td>\\n  </tr>\\n  <tr>\\n    <td colspan=\"3\">\\n      <h5>Whitespace</h5>\\n    </td>\\n  </tr>\\n  <tr>\\n    <td colspan=\"3\">\\n      <p>Always surround infix operators with a single space on either side</p>\\n    </td>\\n  </tr>\\n  <tr>\\n    <td>Assignment</td>\\n    <td>\\n      <pre><code>y &lt;- 2</code></pre>\\n    </td>\\n    <td>\\n      <pre><code>y&lt;-2</code></pre>\\n    </td>\\n  </tr>\\n  <tr>\\n    <td>Comparisons</td>\\n    <td>\\n      <pre><code>y &lt;= 2</code></pre>\\n    </td>\\n    <td>\\n      <pre><code>y&lt;=2</code></pre>\\n    </td>\\n  </tr>\\n  <tr>\\n    <td>Boolean</td>\\n    <td>\\n      <pre><code>(x &gt; 2) || (y &lt; 5)</code></pre>\\n    </td>\\n    <td>\\n      <pre><code>(x &gt; 2)||(y &lt; 5)</code></pre>\\n    </td>\\n  </tr>\\n  <tr>\\n    <td>Arithmetic</td>\\n    <td>\\n      <pre><code>y &lt;- x + 1</code></pre>\\n    </td>\\n    <td>\\n      <pre><code>y &lt;- x+1</code></pre>\\n    </td>\\n  </tr>\\n  <tr>\\n    <td colspan=\"3\">\\n      <p>Special cases</p>\\n    </td>\\n  </tr>\\n  <tr>\\n    <td>Always place a space after a comma, never before</td>\\n    <td>\\n      <pre><code>mean(c(1, 2, 3))</code></pre>\\n    </td>\\n    <td>\\n      <pre><code>mean(c(1,2,3))</code></pre>\\n    </td>\\n  </tr>\\n  <tr>\\n    <td><code>:</code>, <code>::</code> and <code>:::</code> do not need spaces</td>\\n    <td>\\n      <pre><code>base::mean(1:3)</code></pre>\\n    </td>\\n    <td>\\n      <pre><code>base :: mean(1 : 3)</code></pre>\\n    </td>\\n  </tr>\\n  <tr>\\n    <td>Place a space before left parentheses, expect in a function call</td>\\n    <td>\\n      <pre><code>if (debug) do(x)</code></pre>\\n    </td>\\n    <td>\\n      <pre><code>if(debug) do (x)</code></pre>\\n    </td>\\n  </tr>\\n\\n  <tr>\\n    <td>No spaces around code in parenthese or square brackets (unless there\\'s a comma)</td>\\n    <td>\\n      <pre><code>mtcars[5, ]</code></pre>\\n    </td>\\n    <td>\\n      <pre><code>mtcars[5,]</code></pre>\\n    </td>\\n  </tr>\\n\\n  <tr>\\n    <td colspan=\"3\">\\n      <h5>Curly braces</h5>\\n    </td>\\n  </tr>\\n\\n  <tr>\\n    <td>Curly braces don\\'t mix in with code.</td>\\n    <td>\\n      <pre><code>if (grade > 10) {\\n  message(\\'passed\\')\\n}</code></pre>\\n    </td>\\n    <td>\\n      <pre><code>if (grade > 10)\\n{ message(\\'passed\\') }</code></pre>\\n    </td>\\n  </tr>\\n\\n  <tr>\\n    <td>It\\'s ok to leave very short statements on the same line</td>\\n    <td>\\n      <pre><code>if (y &lt; 0) message(\"negative\")</code></pre>\\n    </td>\\n    <td>\\n    </td>\\n  </tr>\\n  <tr>\\n    <td colspan=\"3\">\\n      <h5>Indentation</h5>\\n    </td>\\n  </tr>\\n  <tr>\\n    <td>Use 2 spaces inside curly brackets</td>\\n    <td>\\n      <pre><code>if ( var == 3 ) {\\n  print(\"nice\")\\n}</code></pre>\\n    </td>\\n    <td>\\n      <pre><code>if ( var == 3 ) {\\nprint(\"nice\")\\n}</code></pre>\\n    </td>\\n  </tr>\\n  <tr>\\n    <td>Keep aligned with opening delimiter</td>\\n    <td>\\n      <pre><code>foo &lt;- fun(one, two,\\n           three, four)</code></pre>\\n    </td>\\n    <td>\\n      <pre><code>foo &lt;- fun(one, two,\\n    three, four)</code></pre>\\n    </td>\\n  </tr>\\n  <tr>\\n    <td colspan=\"3\">\\n      <h5>Naming Styles and Conventions</h5>\\n    </td>\\n  </tr>\\n  <tr>\\n    <td>Variable and function names are lowercase</td>\\n    <td>\\n      <pre><code>datacamp</code></pre>\\n    </td>\\n    <td>\\n      <pre><code>DataCamp</code></pre>\\n    </td>\\n  </tr>\\n  <tr>\\n    <td>Use an underscore to separate words within a name</td>\\n    <td>\\n      <pre><code>is_valid</code></pre>\\n    </td>\\n    <td>\\n      <pre><code>isValid\\nis.valid</code></pre>\\n    </td>\\n  </tr>\\n  <tr>\\n    <td>Variable names are nouns, function names are verbs</td>\\n    <td>\\n      <pre><code>my_val &lt;- 5\\ncheck_validity(my_val)</code></pre>\\n    </td>\\n    <td>\\n      <pre><code>check_validity &lt;- 5\\nmy_val(check_validity)</code></pre>\\n    </td>\\n  </tr>\\n  <tr>\\n    <td colspan=\"3\">\\n      <h5>Function calls</h5>\\n    </td>\\n  </tr>\\n  <tr>\\n    <td>The first argument shall not be called by its name, typically other arguments should be named</td>\\n    <td>\\n      <pre><code>points(point,\\n       cex = .5,\\n       col = \"red\")</code></pre>\\n    </td>\\n    <td>\\n      <pre><code>points(x = point,\\n       cex = .5,\\n       col = \"red\")</code></pre>\\n    </td>\\n  </tr>\\n  <tr>\\n    <td colspan=\"3\">\\n      <h5>Comments</h5>\\n    </td>\\n  </tr>\\n  <tr>\\n    <td>Use a single hashtag</td>\\n    <td>\\n      <pre><code># This is a good comment</code></pre>\\n    </td>\\n    <td>\\n      <pre><code>## Avoid multiple hashtags</code></pre>\\n    </td>\\n  </tr>\\n  <tr>\\n    <td>Use one space after hashtag</td>\\n    <td>\\n      <pre><code># This is a good comment</code></pre>\\n    </td>\\n    <td>\\n      <pre><code>#Avoid this</code></pre>\\n    </td>\\n  </tr>\\n  <tr>\\n    <td>Start every sentence with a capital letter</td>\\n    <td>\\n      <pre><code># This is nice</code></pre>\\n    </td>\\n    <td>\\n      <pre><code># this is nasty</code></pre>\\n    </td>\\n  </tr>\\n  <tr>\\n    <td>Single sentences don\\'t require period. Multiple sentences do.</td>\\n    <td>\\n      <pre><code># Sentence\\ndo_something()\\n\\n# Sentence1. Sentence2.\\ndo_stuff()</code></pre>\\n    </td>\\n    <td>\\n      <pre><code># Sentence.\\ndo_something()\\n\\n# Sentence1. Sentence2\\ndo_stuff()</code></pre>\\n    </td>\\n  </tr>\\n</table>\\n\\n\\n        </div>\\n        <div role=\"tabpanel\" class=\"tab-pane\" id=\"style_guide_python\">\\n          <h2>Python Style Guide</h2>\\n<p>The Python style guide you see below is a concise and slightly altered version of the <a href=\"https://www.python.org/dev/peps/pep-0008/\" target=\"_blank\">PEP 8</a>, the widely accepted style guide for Python code. Some guidelines are added to improve the educational value and clarity of the code on DataCamp. If you can\\'t find an answer to your styling questions in this document, please <a href=\"https://www.python.org/dev/peps/pep-0008/\" target=\"_blank\">refer to the PEP8 webpage.</a>\\n\\n<table class=\"style_guide\">\\n  <tr>\\n    <td colspan=\"3\">\\n      <h5>Indentation</h5>\\n    </td>\\n  </tr>\\n  <tr>\\n    <td colspan=\"3\">\\n      <p>Spaces are preferred over tabs and max line length is 79 characters\\n    </td>\\n  </tr>\\n  <tr>\\n    <td>Use 4 spaces</td>\\n    <td>\\n      <pre><code>if var == 3 :\\n    print(\"nice\")</code></pre>\\n    </td>\\n    <td>\\n      <pre><code>if var == 3 :\\n  print(\"nice\")</code></pre>\\n    </td>\\n  </tr>\\n  <tr>\\n    <td>Keep aligned with opening delimiter</td>\\n    <td>\\n      <pre><code>foo = func(one, two,\\n           three, four)</code></pre>\\n    </td>\\n    <td>\\n      <pre><code>foo = func(one, two,\\n    three, four)</code></pre>\\n    </td>\\n  </tr>\\n  <tr>\\n    <td>Add more indentation to distinguish</td>\\n    <td>\\n      <pre><code>if (condition1\\n        and condition2):\\n    do_something()</code></pre>\\n    </td>\\n    <td>\\n      <pre><code>if (condition1\\n    and condition2):\\n    do_something()</code></pre>\\n    </td>\\n  </tr>\\n  <tr>\\n    <td>Close under the first character of the starting line</td>\\n    <td>\\n      <pre><code>my_list = [\\n    1, 2, 3,\\n    4, 5, 6\\n]</code></pre>\\n    </td>\\n    <td>\\n      <pre><code>my_list = [\\n    1, 2, 3,\\n    4, 5, 6\\n    ]</code></pre>\\n    </td>\\n  </tr>\\n  <tr>\\n    <td colspan=\"3\">\\n      <h5>Imports</h5>\\n    </td>\\n  </tr>\\n  <tr>\\n    <td colspan=\"3\">\\n      <p>Put imports on top of the file</p>\\n    </td>\\n  </tr>\\n  <tr>\\n    <td>Imports should be on separate lines</td>\\n    <td>\\n      <pre><code>import os\\nimport sys</code></pre>\\n    </td>\\n    <td>\\n      <pre><code>import os, sys</code></pre>\\n    </td>\\n  </tr>\\n  <tr>\\n    <td>Avoid wildcard imports</td>\\n    <td>\\n    </td>\\n    <td>\\n      <pre><code>from pythonwhat import *</code></pre>\\n    </td>\\n  </tr>\\n  <tr>\\n    <td>It\\'s best to use import only for packages and modules</td>\\n    <td>\\n      <pre><code>import math\\nprint(math.pi)</code></pre>\\n    </td>\\n    <td>\\n      <pre><code>from math import pi\\nprint(pi)</code></pre>\\n    </td>\\n  </tr>\\n  <tr>\\n    <td colspan=\"3\">\\n      <h5>String Quotes</h5>\\n    </td>\\n  </tr>\\n  <tr>\\n    <td>Pick either single or double quotes and stick with it</td>\\n    <td>\\n      <pre><code>x = [\"a\", \"b\"]</code></pre>\\n    </td>\\n    <td>\\n      <pre><code>x = [\"a\", \\'b\\']</code></pre>\\n    </td>\\n  </tr>\\n  <tr>\\n    <td>Choose alteration over escaping</td>\\n    <td>\\n      <pre><code>print(\\'She said: \"nice\"\\')</code></pre>\\n    </td>\\n    <td>\\n      <pre><code>print(\"She said: \\\\\"nice\\\\\"\")</code></pre>\\n    </td>\\n  </tr>\\n  <tr>\\n    <td colspan=\"3\">\\n      <h5>Whitespace</h5>\\n    </td>\\n  </tr>\\n  <tr>\\n    <td colspan=\"3\">\\n      <p>Always surround binary operators with a single space on either side</p>\\n    </td>\\n  </tr>\\n  <tr>\\n    <td>Assignment</td>\\n    <td>\\n      <pre><code>y = 2</code></pre>\\n    </td>\\n    <td>\\n      <pre><code>y=2</code></pre>\\n    </td>\\n  </tr>\\n  <tr>\\n    <td>Comparisons</td>\\n    <td>\\n      <pre><code>y &lt;= 2</code></pre>\\n    </td>\\n    <td>\\n      <pre><code>y&lt;=2</code></pre>\\n    </td>\\n  </tr>\\n  <tr>\\n    <td>Boolean</td>\\n    <td>\\n      <pre><code>(x &gt; 2) and (y &lt; 5)</code></pre>\\n    </td>\\n    <td>\\n      <pre><code>(x &gt; 2)and(y &lt; 5)</code></pre>\\n    </td>\\n  </tr>\\n  <tr>\\n    <td>Arithmetic</td>\\n    <td>\\n      <pre><code>y = x + 1</code></pre>\\n    </td>\\n    <td>\\n      <pre><code>y = x+1</code></pre>\\n    </td>\\n  </tr>\\n  <tr>\\n    <td colspan=\"3\">\\n      <p>Special cases</p>\\n    </td>\\n  </tr>\\n  <tr>\\n    <td>No space before comma, semicolon or colon</td>\\n    <td>\\n      <pre><code>def func(one, two):\\n    print(one + two);</code></pre>\\n    </td>\\n    <td>\\n        <pre><code>def func(one , two) :\\n      print(one + two) ;</code></pre>    </td>\\n  </tr>\\n  <tr>\\n    <td>No space around equal sign for default parameter</td>\\n    <td>\\n      <pre><code>def func(one=1, two=3):\\n    print(one + two)</code></pre>\\n    </td>\\n    <td>\\n      <pre><code>def func(one = 1, two = 3):\\n      print(one + two)</code></pre>    </td>\\n  </tr>\\n  <tr>\\n    <td colspan=\"3\">\\n      <h5>Naming Styles and Conventions</h5>\\n    </td>\\n  </tr>\\n  <tr>\\n    <td>Variable and function names are lowercase</td>\\n    <td>\\n      <pre><code>datacamp</code></pre>\\n    </td>\\n    <td>\\n      <pre><code>DataCamp</code></pre>\\n    </td>\\n  </tr>\\n  <tr>\\n    <td>Use an underscore to separate words within a name</td>\\n    <td>\\n      <pre><code>is_valid\\ndef check_validity():\\n    return(True)</code></pre>\\n    </td>\\n    <td>\\n      <pre><code>isValid\\ndef checkValidity():\\n    return(True)</code></pre>\\n    </td>\\n  </tr>\\n  <tr>\\n    <td>Variable names are nouns, function names are verbs</td>\\n    <td>\\n      <pre><code>my_val = 5\\ncheck_validity(my_val)</code></pre>\\n    </td>\\n    <td>\\n      <pre><code>check_validity = 5\\nmy_val(check_validity)</code></pre>\\n    </td>\\n  </tr>\\n  <tr>\\n    <td colspan=\"3\">\\n      <h5>Comments</h5>\\n    </td>\\n  </tr>\\n  <tr>\\n    <td>Use a single hashtag</td>\\n    <td>\\n      <pre><code># This is a good comment</code></pre>\\n    </td>\\n    <td>\\n      <pre><code>## Avoid multiple hashtags</code></pre>\\n    </td>\\n  </tr>\\n  <tr>\\n    <td>Use one space after hashtag</td>\\n    <td>\\n      <pre><code># This is a good comment</code></pre>\\n    </td>\\n    <td>\\n      <pre><code>#Avoid this</code></pre>\\n    </td>\\n  </tr>\\n  <tr>\\n    <td>Start every sentence with a capital letter</td>\\n    <td>\\n      <pre><code># This is nice</code></pre>\\n    </td>\\n    <td>\\n      <pre><code># this is nasty</code></pre>\\n    </td>\\n  </tr>\\n  <tr>\\n    <td>Single sentences don\\'t require period. Multiple sentences do.</td>\\n    <td>\\n      <pre><code># Sentence\\ndo_something()\\n\\n# Sentence1. Sentence2.\\ndo_stuff()</code></pre>\\n    </td>\\n    <td>\\n      <pre><code># Sentence.\\ndo_something()\\n\\n# Sentence1. Sentence2\\ndo_stuff()</code></pre>\\n    </td>\\n  </tr>\\n</table>\\n\\n\\n        </div>\\n        <div role=\"tabpanel\" class=\"tab-pane\" id=\"faq\">\\n          <h2>Frequently Asked Questions</h2>\\n\\n<p>This FAQ section will grow over time, as questions come in.</p>\\n\\n\\n<h5>DataCamp commits to my repository on my behalf, why?</h5>\\n\\n<p>Before you can create a course, you have to log in to DataCamp, and link your account to GitHub. From that moment on, DataCamp is able to make changes to the repositories you\\'ve linked on your behalf. For example, when you create a new course with the \"Create a DataCamp Course\" dialog, we will create a repository for you, and pre-fill it with course and chapter files with several commits. That way, the build process for your course is automatically triggered and a DataCamp course results.</p>\\n\\n<p>Another point where DataCamp does commits on your behalf, is for setting \\'exercise keys\\'. These keys are meant to make the link between your exercises in the GitHub repository and the exercises on DataCamp\\'s databases.</p>\\n\\n<h5>Is GitHub necessary to teach on DataCamp? Can we use our own tools?</h5>\\n\\n<p>We are currently depending heavily on GitHub, but we\\'re exploring other possibilities for private and proprietary content. More specifically, we\\'re looking at GitLab to host our own premium courses. During development, we may also explore ways to allowing other GitLab instances to connect to DataCamp.</p>\\n\\n<h5>How are courses hosted? Is it possible to have courses only available to a select group of people?</h5>\\n\\n<p>Courses are always hosted on datacamp.com. There are different states for a course: development and published. Development courses are only available to those who have the link to the course. Published courses are available through a human-readable slug (www.datacamp.com/courses/my-awesome-course), but not findable by Google. Currently, we do not have a system in place to grant access to a particular number of people; it\\'s just the people with the link that have access.</p>\\n\\n<h5>I added a dataset to my <code>datasets</code> folder on git, why isn\\'t it uploading?</h5>\\n\\n<p>Datasets or slides have a maximum size of 10 Megabytes. Bigger datasets won\\'t be uploaded and thus will not generate a link. The build logs will tell you your dataset is too big. We need this security built in because we don\\'t want anyone to upload massive datasets onto our servers.</p>\\n\\n<h5>I need a package but it\\'s not installed on your servers, what can I do?</h5>\\n\\n<p>At the moment a lot of packages that can be used for Data Science are installed on our servers. There\\'s no easy way to install packages yourself, however if you come accross a package you think should really be installed, you can mail <a href=\"mailto:content-engineering@datacamp.com\">content-engineering@datacamp.com</a>. Please note that there is no guarantee that we will install the package.</p>\\n\\n\\n        </div>\\n        <div role=\"tabpanel\" class=\"tab-pane\" id=\"related_projects\">\\n          <h2>Related Projects</h2>\\n\\nNext to making teaching on DataCamp as easy as possible. There are many other projects that we are working on. Some of these are vital to making DataCamp courses work properly, other are side projects to support the Data Science community.\\n\\n<ul>\\n\\t<li><a href=\"https://www.rdocumentation.org\" target=\"_blank\"><strong>RDocumentation</strong></a>: Website that groups documentation for all R packages on CRAN, GitHub and Bioconductor. The interface makes it easy to browse package, see package dependencies and see popularity of packages over time.</li>\\n\\t<li><a href=\"https://www.github.com/datacamp/testwhat\" target=\"_blank\"><strong>testwhat</strong></a>: R package that contains a wide range of functions to write Submission Correctness Tests (SCTs) for interactive R exercises on DataCamp. Make sure to check out the <a href=\"https://www.github.com/datacamp/pythonwhat/wiki\" target=\"_blank\">wiki pages</a> for more details about when, how and why to use the different functions. More details about the role of SCTs in a DataCamp exercise can be found at the <em>Code Exercises</em> article.</li>\\n\\t<li><a href=\"https://www.github.com/datacamp/pythonwhat\" target=\"_blank\"><strong>pythonwhat</strong></a>: Python package that contains a wide range of functions to write Submission Correctness Tests (SCTs) for interactive Python exercises on DataCamp. Make sure to check out the <a href=\"https://www.github.com/datacamp/pythonwhat/wiki\" target=\"_blank\">wiki pages</a> for more details about when, how and why to use the different functions. More details about the role of SCTs in a DataCamp exercise can be found at the <em>Code Exercises</em> article.</li>\\n\\t<li><a href=\"https://www.github.com/datacamp/datacamp-light\" target=\"_blank\"><strong>DataCamp Light</strong></a>: JavaScript library to embed interactive R and Python playgrounds in your own HTML pages. Similar to how JSFiddle works, but for R and Python.</li>\\n\\t<li><a href=\"https://www.github.com/datacamp/tutorial\" target=\"_blank\"><strong>Tutorial</strong></a>: R package that acts as a wrapper around the famous <a href=\"https://www.github.com/yihui/knitr\" target=\"_blank\"><code>knitr</code> R package</a> that enables you to easily add DataCamp Light powered code chunks in your reports, blog posts and vignettes.</li>\\n</ul>\\n\\n<p>These are all <strong>open-source projects</strong> projects; contact us if you want to contribute!</p>\\n\\n        </div>\\n      </div>\\n    </div>\\n\\n  </div>\\n</div>\\n\\n\\t\\t\\t<div class=\"bottom-navigation\">\\n  <div class=\"container clearfix\">\\n    <div class=\"navbar--title--footer\">\\n      <a class=\"clearfix no-link-style\" href=\"https://www.datacamp.com\">\\n        <div class=\"logo\"></div>\\n        <div class=\"logo-title\">DataCamp</div>\\n</a>      <a class=\"small-link\" href=\"https://www.datacamp.com/careers\">We&#39;re hiring!</a>\\n    </div>\\n      <div class=\"footer-links-container hidden-xs\">\\n        <ul class=\"footer-links-list\">\\n          <li>DataCamp</li>\\n            <li><a href=\"https://www.datacamp.com/users/sign_up\">Create free account</a></li>\\n            <li><a href=\"https://www.datacamp.com/users/sign_in\">Sign-in</a></li>\\n          <li><a href=\"https://www.datacamp.com/about\">About</a></li>\\n          <li><a href=\"https://www.datacamp.com/pricing\">Pricing</a></li>\\n          <li><a href=\"https://www.datacamp.com/brand\">Press</a></li>\\n          <li><a href=\"https://www.datacamp.com/careers\">Jobs</a></li>\\n        </ul>\\n        <ul class=\"footer-links-list\">\\n          <li>Resources</li>\\n          <li><a href=\"https://www.datacamp.com/courses\">View All Courses</a></li>\\n          <li><a href=\"https://www.datacamp.com/community\">Community</a></li>\\n          <li><a href=\"https://www.datacamp.com/groups\">DataCamp for Groups</a></li>\\n          <li><a href=\"/teach\">Become a Teacher</a></li>\\n          <li><a target=\"_blank\" href=\"http://www.r-fiddle.org/\">R Fiddle</a></li>\\n          <li><a target=\"_blank\" href=\"http://www.rdocumentation.org\">RDocumentation</a></li>\\n        </ul>\\n        <ul class=\"footer-links-list\">\\n          <li>Support</li>\\n          <li><a href=\"https://www.datacamp.com/contact-us\">Contact Us</a></li>\\n          <li><a href=\"https://www.datacamp.com/terms-of-use\">Terms of Use</a></li>\\n          <li><a href=\"https://www.datacamp.com/privacy-policy\">Privacy Policy</a></li>\\n        </ul>\\n      </div>\\n    <div class=\"social-icons clearfix\">\\n      <a target=\"_blank\" href=\"https://twitter.com/datacamp\"><i class=\"fa fa-twitter fa-2x\"></i></a>\\n      <a target=\"_blank\" href=\"https://www.facebook.com/pages/DataCamp/726282547396228\"><i class=\"fa fa-facebook fa-2x\"></i></a>\\n      <a target=\"_blank\" href=\"https://www.linkedin.com/company/datamind-org\"><i class=\"fa fa-linkedin fa-2x\"></i></a>\\n      <a target=\"_blank\" href=\"https://www.youtube.com/channel/UC79Gv3mYp6zKiSwYemEik9A\"><i class=\"fa fa-youtube fa-2x\"></i></a>\\n    </div>\\n  </div>\\n</div>\\n\\n\\t\\t</div>\\n\\t\\t<script src=\"/teach/assets/bottom-63f2877c963bbb1ea67887e39430f5d2.js\"></script>\\n\\t</body>\\n</html>\\n'\n"
     ]
    }
   ],
   "source": [
    "# printing the response\n",
    "print(html)"
   ]
  },
  {
   "cell_type": "code",
   "execution_count": 9,
   "metadata": {
    "collapsed": true
   },
   "outputs": [],
   "source": [
    "# Be polite and close the response!\n",
    "response.close()"
   ]
  },
  {
   "cell_type": "markdown",
   "metadata": {},
   "source": [
    "### Using Requests pkg to extract the data"
   ]
  },
  {
   "cell_type": "code",
   "execution_count": 14,
   "metadata": {
    "collapsed": false
   },
   "outputs": [
    {
     "name": "stdout",
     "output_type": "stream",
     "text": [
      "<HTML>\n",
      "\n",
      "<HEAD>\n",
      "<TITLE>Guido's Personal Home Page</TITLE>\n",
      "</HEAD>\n",
      "\n",
      "<BODY BGCOLOR=\"#FFFFFF\" TEXT=\"#000000\">\n",
      "\n",
      "<H1>\n",
      "<a href=\"pics.html\"><img border=\"0\" src=\"images/IMG_2192.jpg\"></a>\n",
      "Guido van Rossum - Personal Home Page</H1>\n",
      "\n",
      "<P><A\n",
      "HREF=\"http://www.washingtonpost.com/wp-srv/business/longterm/microsoft/stories/1998/raymond120398.htm\" \n",
      "><i>\"Gawky and proud of it.\"</i></A>\n",
      "\n",
      "\n",
      "<H3><a\n",
      "href=\"http://metalab.unc.edu/Dave/Dr-Fun/df200004/df20000406.jpg\" >Who\n",
      "I Am</a></H3>\n",
      "\n",
      "<p>Read\n",
      "my <a href=\"http://neopythonic.blogspot.com/2016/04/kings-day-speech.html\">\"King's\n",
      "Day Speech\"</a> for some inspiration.\n",
      "\n",
      "<P>I am the author of the <A HREF=\"http://www.python.org\" >Python</A>\n",
      "programming language.  See also my <A HREF=\"Resume.html\">resume</A>\n",
      "and my <A HREF=\"Publications.html\">publications list</A>, a <A\n",
      "HREF=\"bio.html\" >brief bio</A>, assorted <a\n",
      "href=\"http://legacy.python.org/doc/essays/\">writings</a>, <a\n",
      "href=\"http://legacy.python.org/doc/essays/ppt/\">presentations</a> and <a\n",
      "href=\"interviews.html\">interviews</a> (all about Python), some\n",
      "<a href=\"pics.html\">pictures of me</a>,\n",
      "<a href=\"http://neopythonic.blogspot.com\">my new blog</a>, and\n",
      "my <a href=\"http://www.artima.com/weblogs/index.jsp?blogger=12088\">old\n",
      "blog</a> on Artima.com.  I am\n",
      "<a href=https://twitter.com/gvanrossum>@gvanrossum</a> on Twitter.  I\n",
      "also have\n",
      "a <a href=\"https://plus.google.com/u/0/115212051037621986145/posts\">G+\n",
      "profile</a>.\n",
      "\n",
      "<p>In January 2013 I joined\n",
      "<a href=http://www.dropbox.com>Dropbox</a>.  I work on various Dropbox\n",
      "products and have 50% for my Python work, no strings attached.\n",
      "Previously, I have worked for Google, Elemental Security, Zope\n",
      "Corporation, BeOpen.com, CNRI, CWI, and SARA.  (See\n",
      "my <a href=Resume.html>resume</a>.)  I created Python while at CWI.\n",
      "\n",
      "<H3>How to Reach Me</H3>\n",
      "\n",
      "<P>You can send email for me to guido (at) python.org.\n",
      "I read everything sent there, but if you ask\n",
      "me a question about using Python, it's likely that I won't have time\n",
      "to answer it, and will instead refer you to\n",
      "help (at) python.org,\n",
      "<a href=\"http://groups.google.com/groups?q=comp.lang.python\"\n",
      ">comp.lang.python</a> or\n",
      "<a href=http://stackoverflow.com>StackOverflow</a>.  If you need to\n",
      "talk to me on the phone or send me something by snail mail, send me an\n",
      "email and I'll gladly email you instructions on how to reach me.\n",
      "\n",
      "<H3>My Name</H3>\n",
      "\n",
      "<P>My name often poses difficulties for Americans.\n",
      "\n",
      "<P><b>Pronunciation:</b> in Dutch, the \"G\" in Guido is a hard G,\n",
      "pronounced roughly like the \"ch\" in Scottish \"loch\".  (Listen to the\n",
      "<A HREF=\"guido.au\">sound clip</A>.)  However, if you're\n",
      "American, you may also pronounce it as the Italian \"Guido\".  I'm not\n",
      "too worried about the associations with mob assassins that some people\n",
      "have. :-)\n",
      "\n",
      "<P><b>Spelling:</b> my last name is two words, and I'd like keep it\n",
      "that way, the spelling on some of my credit cards notwithstanding.\n",
      "Dutch spelling rules dictate that when used in combination with my\n",
      "first name, \"van\" is not capitalized: \"Guido van Rossum\".  But when my\n",
      "last name is used alone to refer to me, it is capitalized, for\n",
      "example: \"As usual, Van Rossum was right.\"\n",
      "\n",
      "<P><b>Alphabetization:</b> in America, I show up in the alphabet under\n",
      "\"V\".  But in Europe, I show up under \"R\".  And some of my friends put\n",
      "me under \"G\" in their address book...\n",
      "\n",
      "\n",
      "<H3>More Hyperlinks</H3>\n",
      "\n",
      "<UL>\n",
      "\n",
      "<LI>Here's a collection of <A HREF =\n",
      "\"http://legacy.python.org/doc/essays/\" >essays</A> relating to Python\n",
      "that I've written, including the foreword I wrote for Mark Lutz' book\n",
      "\"Programming Python\".<P>\n",
      "\n",
      "<li>I own the official <a href=\"images/license.jpg\"><img align=\"center\"\n",
      "border=\"0\" width=\"100\" height=\"75\" src=\"images/license_thumb.jpg\">\n",
      "Python license.</a><p>\n",
      "\n",
      "</UL>\n",
      "\n",
      "<H3>The Audio File Formats FAQ</H3>\n",
      "\n",
      "<P>I was the original creator and maintainer of the Audio File Formats\n",
      "FAQ.  It is now maintained by Chris Bagwell\n",
      "at <A HREF=\"http://www.cnpbagwell.com/audio-faq\"\n",
      ">http://www.cnpbagwell.com/audio-faq</A>.  And here is a link to\n",
      "<a href=http://sox.sourceforge.net/>SOX</a>, to which I contributed\n",
      "some early code.\n",
      "\n",
      "</UL>\n",
      "\n",
      "<HR>\n",
      "\n",
      "<A HREF=\"images/internetdog.gif\">\"On the Internet, nobody knows you're\n",
      "a dog.\"</A>\n",
      "\n",
      "<HR>\n",
      "\n",
      "</BODY>\n",
      "\n"
     ]
    }
   ],
   "source": [
    "import requests\n",
    "\n",
    "# Specify the url: url\n",
    "url = \"https://www.python.org/~guido/\"\n",
    "\n",
    "# Packages the request, send the request and catch the response: r\n",
    "r = requests.get(url)\n",
    "\n",
    "# Extract the response: text\n",
    "text = r.text\n",
    "\n",
    "# Print the html\n",
    "print(text)"
   ]
  },
  {
   "cell_type": "markdown",
   "metadata": {},
   "source": [
    "### WebScrapping with Python Pkg BeautifulSoup"
   ]
  },
  {
   "cell_type": "code",
   "execution_count": 15,
   "metadata": {
    "collapsed": false
   },
   "outputs": [
    {
     "name": "stdout",
     "output_type": "stream",
     "text": [
      "<html>\n",
      " <head>\n",
      "  <title>\n",
      "   Guido's Personal Home Page\n",
      "  </title>\n",
      " </head>\n",
      " <body bgcolor=\"#FFFFFF\" text=\"#000000\">\n",
      "  <h1>\n",
      "   <a href=\"pics.html\">\n",
      "    <img border=\"0\" src=\"images/IMG_2192.jpg\"/>\n",
      "   </a>\n",
      "   Guido van Rossum - Personal Home Page\n",
      "  </h1>\n",
      "  <p>\n",
      "   <a href=\"http://www.washingtonpost.com/wp-srv/business/longterm/microsoft/stories/1998/raymond120398.htm\">\n",
      "    <i>\n",
      "     \"Gawky and proud of it.\"\n",
      "    </i>\n",
      "   </a>\n",
      "  </p>\n",
      "  <h3>\n",
      "   <a href=\"http://metalab.unc.edu/Dave/Dr-Fun/df200004/df20000406.jpg\">\n",
      "    Who\n",
      "I Am\n",
      "   </a>\n",
      "  </h3>\n",
      "  <p>\n",
      "   Read\n",
      "my\n",
      "   <a href=\"http://neopythonic.blogspot.com/2016/04/kings-day-speech.html\">\n",
      "    \"King's\n",
      "Day Speech\"\n",
      "   </a>\n",
      "   for some inspiration.\n",
      "  </p>\n",
      "  <p>\n",
      "   I am the author of the\n",
      "   <a href=\"http://www.python.org\">\n",
      "    Python\n",
      "   </a>\n",
      "   programming language.  See also my\n",
      "   <a href=\"Resume.html\">\n",
      "    resume\n",
      "   </a>\n",
      "   and my\n",
      "   <a href=\"Publications.html\">\n",
      "    publications list\n",
      "   </a>\n",
      "   , a\n",
      "   <a href=\"bio.html\">\n",
      "    brief bio\n",
      "   </a>\n",
      "   , assorted\n",
      "   <a href=\"http://legacy.python.org/doc/essays/\">\n",
      "    writings\n",
      "   </a>\n",
      "   ,\n",
      "   <a href=\"http://legacy.python.org/doc/essays/ppt/\">\n",
      "    presentations\n",
      "   </a>\n",
      "   and\n",
      "   <a href=\"interviews.html\">\n",
      "    interviews\n",
      "   </a>\n",
      "   (all about Python), some\n",
      "   <a href=\"pics.html\">\n",
      "    pictures of me\n",
      "   </a>\n",
      "   ,\n",
      "   <a href=\"http://neopythonic.blogspot.com\">\n",
      "    my new blog\n",
      "   </a>\n",
      "   , and\n",
      "my\n",
      "   <a href=\"http://www.artima.com/weblogs/index.jsp?blogger=12088\">\n",
      "    old\n",
      "blog\n",
      "   </a>\n",
      "   on Artima.com.  I am\n",
      "   <a href=\"https://twitter.com/gvanrossum\">\n",
      "    @gvanrossum\n",
      "   </a>\n",
      "   on Twitter.  I\n",
      "also have\n",
      "a\n",
      "   <a href=\"https://plus.google.com/u/0/115212051037621986145/posts\">\n",
      "    G+\n",
      "profile\n",
      "   </a>\n",
      "   .\n",
      "  </p>\n",
      "  <p>\n",
      "   In January 2013 I joined\n",
      "   <a href=\"http://www.dropbox.com\">\n",
      "    Dropbox\n",
      "   </a>\n",
      "   .  I work on various Dropbox\n",
      "products and have 50% for my Python work, no strings attached.\n",
      "Previously, I have worked for Google, Elemental Security, Zope\n",
      "Corporation, BeOpen.com, CNRI, CWI, and SARA.  (See\n",
      "my\n",
      "   <a href=\"Resume.html\">\n",
      "    resume\n",
      "   </a>\n",
      "   .)  I created Python while at CWI.\n",
      "  </p>\n",
      "  <h3>\n",
      "   How to Reach Me\n",
      "  </h3>\n",
      "  <p>\n",
      "   You can send email for me to guido (at) python.org.\n",
      "I read everything sent there, but if you ask\n",
      "me a question about using Python, it's likely that I won't have time\n",
      "to answer it, and will instead refer you to\n",
      "help (at) python.org,\n",
      "   <a href=\"http://groups.google.com/groups?q=comp.lang.python\">\n",
      "    comp.lang.python\n",
      "   </a>\n",
      "   or\n",
      "   <a href=\"http://stackoverflow.com\">\n",
      "    StackOverflow\n",
      "   </a>\n",
      "   .  If you need to\n",
      "talk to me on the phone or send me something by snail mail, send me an\n",
      "email and I'll gladly email you instructions on how to reach me.\n",
      "  </p>\n",
      "  <h3>\n",
      "   My Name\n",
      "  </h3>\n",
      "  <p>\n",
      "   My name often poses difficulties for Americans.\n",
      "  </p>\n",
      "  <p>\n",
      "   <b>\n",
      "    Pronunciation:\n",
      "   </b>\n",
      "   in Dutch, the \"G\" in Guido is a hard G,\n",
      "pronounced roughly like the \"ch\" in Scottish \"loch\".  (Listen to the\n",
      "   <a href=\"guido.au\">\n",
      "    sound clip\n",
      "   </a>\n",
      "   .)  However, if you're\n",
      "American, you may also pronounce it as the Italian \"Guido\".  I'm not\n",
      "too worried about the associations with mob assassins that some people\n",
      "have. :-)\n",
      "  </p>\n",
      "  <p>\n",
      "   <b>\n",
      "    Spelling:\n",
      "   </b>\n",
      "   my last name is two words, and I'd like keep it\n",
      "that way, the spelling on some of my credit cards notwithstanding.\n",
      "Dutch spelling rules dictate that when used in combination with my\n",
      "first name, \"van\" is not capitalized: \"Guido van Rossum\".  But when my\n",
      "last name is used alone to refer to me, it is capitalized, for\n",
      "example: \"As usual, Van Rossum was right.\"\n",
      "  </p>\n",
      "  <p>\n",
      "   <b>\n",
      "    Alphabetization:\n",
      "   </b>\n",
      "   in America, I show up in the alphabet under\n",
      "\"V\".  But in Europe, I show up under \"R\".  And some of my friends put\n",
      "me under \"G\" in their address book...\n",
      "  </p>\n",
      "  <h3>\n",
      "   More Hyperlinks\n",
      "  </h3>\n",
      "  <ul>\n",
      "   <li>\n",
      "    Here's a collection of\n",
      "    <a href=\"http://legacy.python.org/doc/essays/\">\n",
      "     essays\n",
      "    </a>\n",
      "    relating to Python\n",
      "that I've written, including the foreword I wrote for Mark Lutz' book\n",
      "\"Programming Python\".\n",
      "    <p>\n",
      "    </p>\n",
      "   </li>\n",
      "   <li>\n",
      "    I own the official\n",
      "    <a href=\"images/license.jpg\">\n",
      "     <img align=\"center\" border=\"0\" height=\"75\" src=\"images/license_thumb.jpg\" width=\"100\"/>\n",
      "     Python license.\n",
      "    </a>\n",
      "    <p>\n",
      "    </p>\n",
      "   </li>\n",
      "  </ul>\n",
      "  <h3>\n",
      "   The Audio File Formats FAQ\n",
      "  </h3>\n",
      "  <p>\n",
      "   I was the original creator and maintainer of the Audio File Formats\n",
      "FAQ.  It is now maintained by Chris Bagwell\n",
      "at\n",
      "   <a href=\"http://www.cnpbagwell.com/audio-faq\">\n",
      "    http://www.cnpbagwell.com/audio-faq\n",
      "   </a>\n",
      "   .  And here is a link to\n",
      "   <a href=\"http://sox.sourceforge.net/\">\n",
      "    SOX\n",
      "   </a>\n",
      "   , to which I contributed\n",
      "some early code.\n",
      "  </p>\n",
      "  <hr/>\n",
      "  <a href=\"images/internetdog.gif\">\n",
      "   \"On the Internet, nobody knows you're\n",
      "a dog.\"\n",
      "  </a>\n",
      "  <hr/>\n",
      " </body>\n",
      "</html>\n"
     ]
    },
    {
     "name": "stderr",
     "output_type": "stream",
     "text": [
      "C:\\tools\\Anaconda3\\lib\\site-packages\\bs4\\__init__.py:181: UserWarning: No parser was explicitly specified, so I'm using the best available HTML parser for this system (\"lxml\"). This usually isn't a problem, but if you run this code on another system, or in a different virtual environment, it may use a different parser and behave differently.\n",
      "\n",
      "The code that caused this warning is on line 184 of the file C:\\tools\\Anaconda3\\lib\\runpy.py. To get rid of this warning, change code that looks like this:\n",
      "\n",
      " BeautifulSoup([your markup])\n",
      "\n",
      "to this:\n",
      "\n",
      " BeautifulSoup([your markup], \"lxml\")\n",
      "\n",
      "  markup_type=markup_type))\n"
     ]
    }
   ],
   "source": [
    "# Import packages\n",
    "import requests\n",
    "from bs4 import BeautifulSoup\n",
    "\n",
    "# Specify url: url\n",
    "url = 'https://www.python.org/~guido/'\n",
    "\n",
    "# Package the request, send the request and catch the response: r\n",
    "r = requests.get(url)\n",
    "\n",
    "# Extracts the response as html: html_doc\n",
    "html_doc = r.text\n",
    "\n",
    "# Create a BeautifulSoup object from the HTML: soup\n",
    "soup = BeautifulSoup(html_doc)\n",
    "\n",
    "# Prettify the BeautifulSoup object: pretty_soup\n",
    "pretty_soup = soup.prettify()\n",
    "\n",
    "# Print the response\n",
    "print(pretty_soup)"
   ]
  },
  {
   "cell_type": "code",
   "execution_count": 17,
   "metadata": {
    "collapsed": false
   },
   "outputs": [
    {
     "name": "stdout",
     "output_type": "stream",
     "text": [
      "<title>Guido's Personal Home Page</title>\n"
     ]
    }
   ],
   "source": [
    "# Get the title of Guido's webpage: guido_title\n",
    "guido_title = soup.title\n",
    "\n",
    "# Print the title of Guido's webpage to the shell\n",
    "print(guido_title)"
   ]
  },
  {
   "cell_type": "code",
   "execution_count": 18,
   "metadata": {
    "collapsed": false
   },
   "outputs": [
    {
     "name": "stdout",
     "output_type": "stream",
     "text": [
      "\n",
      "\n",
      "Guido's Personal Home Page\n",
      "\n",
      "\n",
      "\n",
      "\n",
      "Guido van Rossum - Personal Home Page\n",
      "\"Gawky and proud of it.\"\n",
      "Who\n",
      "I Am\n",
      "Read\n",
      "my \"King's\n",
      "Day Speech\" for some inspiration.\n",
      "\n",
      "I am the author of the Python\n",
      "programming language.  See also my resume\n",
      "and my publications list, a brief bio, assorted writings, presentations and interviews (all about Python), some\n",
      "pictures of me,\n",
      "my new blog, and\n",
      "my old\n",
      "blog on Artima.com.  I am\n",
      "@gvanrossum on Twitter.  I\n",
      "also have\n",
      "a G+\n",
      "profile.\n",
      "\n",
      "In January 2013 I joined\n",
      "Dropbox.  I work on various Dropbox\n",
      "products and have 50% for my Python work, no strings attached.\n",
      "Previously, I have worked for Google, Elemental Security, Zope\n",
      "Corporation, BeOpen.com, CNRI, CWI, and SARA.  (See\n",
      "my resume.)  I created Python while at CWI.\n",
      "\n",
      "How to Reach Me\n",
      "You can send email for me to guido (at) python.org.\n",
      "I read everything sent there, but if you ask\n",
      "me a question about using Python, it's likely that I won't have time\n",
      "to answer it, and will instead refer you to\n",
      "help (at) python.org,\n",
      "comp.lang.python or\n",
      "StackOverflow.  If you need to\n",
      "talk to me on the phone or send me something by snail mail, send me an\n",
      "email and I'll gladly email you instructions on how to reach me.\n",
      "\n",
      "My Name\n",
      "My name often poses difficulties for Americans.\n",
      "\n",
      "Pronunciation: in Dutch, the \"G\" in Guido is a hard G,\n",
      "pronounced roughly like the \"ch\" in Scottish \"loch\".  (Listen to the\n",
      "sound clip.)  However, if you're\n",
      "American, you may also pronounce it as the Italian \"Guido\".  I'm not\n",
      "too worried about the associations with mob assassins that some people\n",
      "have. :-)\n",
      "\n",
      "Spelling: my last name is two words, and I'd like keep it\n",
      "that way, the spelling on some of my credit cards notwithstanding.\n",
      "Dutch spelling rules dictate that when used in combination with my\n",
      "first name, \"van\" is not capitalized: \"Guido van Rossum\".  But when my\n",
      "last name is used alone to refer to me, it is capitalized, for\n",
      "example: \"As usual, Van Rossum was right.\"\n",
      "\n",
      "Alphabetization: in America, I show up in the alphabet under\n",
      "\"V\".  But in Europe, I show up under \"R\".  And some of my friends put\n",
      "me under \"G\" in their address book...\n",
      "\n",
      "\n",
      "More Hyperlinks\n",
      "\n",
      "Here's a collection of essays relating to Python\n",
      "that I've written, including the foreword I wrote for Mark Lutz' book\n",
      "\"Programming Python\".\n",
      "I own the official \n",
      "Python license.\n",
      "\n",
      "The Audio File Formats FAQ\n",
      "I was the original creator and maintainer of the Audio File Formats\n",
      "FAQ.  It is now maintained by Chris Bagwell\n",
      "at http://www.cnpbagwell.com/audio-faq.  And here is a link to\n",
      "SOX, to which I contributed\n",
      "some early code.\n",
      "\n",
      "\n",
      "\n",
      "\n",
      "\"On the Internet, nobody knows you're\n",
      "a dog.\"\n",
      "\n",
      "\n",
      "\n"
     ]
    }
   ],
   "source": [
    "# Get Guido's text: guido_text\n",
    "guido_text = soup.get_text()\n",
    "\n",
    "# Print Guido's text to the shell\n",
    "print(guido_text)"
   ]
  },
  {
   "cell_type": "code",
   "execution_count": 19,
   "metadata": {
    "collapsed": false
   },
   "outputs": [
    {
     "name": "stdout",
     "output_type": "stream",
     "text": [
      "pics.html\n",
      "http://www.washingtonpost.com/wp-srv/business/longterm/microsoft/stories/1998/raymond120398.htm\n",
      "http://metalab.unc.edu/Dave/Dr-Fun/df200004/df20000406.jpg\n",
      "http://neopythonic.blogspot.com/2016/04/kings-day-speech.html\n",
      "http://www.python.org\n",
      "Resume.html\n",
      "Publications.html\n",
      "bio.html\n",
      "http://legacy.python.org/doc/essays/\n",
      "http://legacy.python.org/doc/essays/ppt/\n",
      "interviews.html\n",
      "pics.html\n",
      "http://neopythonic.blogspot.com\n",
      "http://www.artima.com/weblogs/index.jsp?blogger=12088\n",
      "https://twitter.com/gvanrossum\n",
      "https://plus.google.com/u/0/115212051037621986145/posts\n",
      "http://www.dropbox.com\n",
      "Resume.html\n",
      "http://groups.google.com/groups?q=comp.lang.python\n",
      "http://stackoverflow.com\n",
      "guido.au\n",
      "http://legacy.python.org/doc/essays/\n",
      "images/license.jpg\n",
      "http://www.cnpbagwell.com/audio-faq\n",
      "http://sox.sourceforge.net/\n",
      "images/internetdog.gif\n"
     ]
    }
   ],
   "source": [
    "# Find all 'a' tags (which define hyperlinks): a_tags\n",
    "a_tags = soup.find_all('a')\n",
    "\n",
    "# Print the URLs to the shell\n",
    "for link in a_tags:\n",
    "    print(link.get('href'))"
   ]
  },
  {
   "cell_type": "code",
   "execution_count": null,
   "metadata": {
    "collapsed": true
   },
   "outputs": [],
   "source": []
  },
  {
   "cell_type": "code",
   "execution_count": null,
   "metadata": {
    "collapsed": true
   },
   "outputs": [],
   "source": []
  },
  {
   "cell_type": "code",
   "execution_count": null,
   "metadata": {
    "collapsed": true
   },
   "outputs": [],
   "source": [
    "############################################################\n",
    "## Atul Singh  | www.datagenx.net | lnked.in/atulsingh\n",
    "############################################################"
   ]
  }
 ],
 "metadata": {
  "anaconda-cloud": {},
  "kernelspec": {
   "display_name": "Python [default]",
   "language": "python",
   "name": "python3"
  },
  "language_info": {
   "codemirror_mode": {
    "name": "ipython",
    "version": 3
   },
   "file_extension": ".py",
   "mimetype": "text/x-python",
   "name": "python",
   "nbconvert_exporter": "python",
   "pygments_lexer": "ipython3",
   "version": "3.5.2"
  }
 },
 "nbformat": 4,
 "nbformat_minor": 0
}
