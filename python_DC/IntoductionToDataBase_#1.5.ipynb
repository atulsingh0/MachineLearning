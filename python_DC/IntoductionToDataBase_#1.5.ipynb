{
 "cells": [
  {
   "cell_type": "markdown",
   "metadata": {},
   "source": [
    "### Case Study"
   ]
  },
  {
   "cell_type": "markdown",
   "metadata": {},
   "source": [
    "```\n",
    "Import create_engine and MetaData from sqlalchemy.\n",
    "Create an engine to the chapter 5 database by using 'sqlite:///chapter5.sqlite' as the connection string.\n",
    "Create a MetaData object as metadata.\n",
    "```"
   ]
  },
  {
   "cell_type": "code",
   "execution_count": 1,
   "metadata": {
    "collapsed": true
   },
   "outputs": [],
   "source": [
    "# Import create_engine, MetaData\n",
    "from sqlalchemy import create_engine , MetaData\n",
    "\n",
    "# Define an engine to connect to chapter5.sqlite: engine\n",
    "engine = create_engine('sqlite:///chapter5.sqlite')\n",
    "\n",
    "# Initialize MetaData: metadata\n",
    "metadata = MetaData()"
   ]
  },
  {
   "cell_type": "markdown",
   "metadata": {},
   "source": [
    "```\n",
    "Import Table, Column, String, and Integer from sqlalchemy.\n",
    "Define a census table with the following columns:\n",
    "'state' - String - length of 30\n",
    "'sex' - String - length of 1\n",
    "'age' - Integer\n",
    "'pop2000' - Integer\n",
    "'pop2008' - Integer\n",
    "Create the table in the database using the metadata and engine.\n",
    "```"
   ]
  },
  {
   "cell_type": "code",
   "execution_count": 2,
   "metadata": {
    "collapsed": true
   },
   "outputs": [],
   "source": [
    "# Import Table, Column, String, and Integer\n",
    "from sqlalchemy import Table, Column, String, Integer\n",
    "\n",
    "# Build a census table: census\n",
    "census = Table('census', metadata,\n",
    "               Column('state', String(30)),\n",
    "               Column('sex', String(1)),\n",
    "               Column('age', Integer()),\n",
    "               Column('pop2000', Integer()),\n",
    "               Column('pop2008', Integer()))\n",
    "\n",
    "# Create the table in the database\n",
    "metadata.create_all(engine)"
   ]
  },
  {
   "cell_type": "markdown",
   "metadata": {},
   "source": [
    "```\n",
    "Create an empty list called values_list.\n",
    "Iterate over the rows of csv_reader with a for loop, creating a dictionary called data for each row and append it to values_list.\n",
    "\n",
    "    Within the for loop, row will be a list whose entries are 'state' , 'sex', 'age', 'pop2000' and 'pop2008' (in that order)\n",
    "```"
   ]
  },
  {
   "cell_type": "code",
   "execution_count": 4,
   "metadata": {
    "collapsed": false
   },
   "outputs": [],
   "source": [
    "# # reading csv file\n",
    "\n",
    "# # Create an empty list: values_list\n",
    "# values_list = []\n",
    "\n",
    "# # Iterate over the rows\n",
    "# for row in csv_reader:\n",
    "#     # Create a dictionary with the values\n",
    "#     data = {'state': row[0], 'sex': row[1], 'age':row[2], 'pop2000': row[3],\n",
    "#             'pop2008': row[4]}\n",
    "#     # Append the dictionary to the values list\n",
    "#     values_list.append(data)"
   ]
  },
  {
   "cell_type": "markdown",
   "metadata": {},
   "source": [
    "```\n",
    "    Import insert from sqlalchemy.\n",
    "    Build an insert statement for the census table.\n",
    "    Execute the insert statement along with values_list.\n",
    "    Print the rowcount attribute of results.\n",
    "```"
   ]
  },
  {
   "cell_type": "code",
   "execution_count": 5,
   "metadata": {
    "collapsed": true
   },
   "outputs": [],
   "source": [
    "# # Import insert\n",
    "# from sqlalchemy import insert\n",
    "\n",
    "# # Build insert statement: stmt\n",
    "# stmt = insert(census)\n",
    "\n",
    "# # Use values_list to insert data: results\n",
    "# results=connection.execute(stmt, values_list)\n",
    "\n",
    "# # Print rowcount\n",
    "# print(results.rowcount)"
   ]
  },
  {
   "cell_type": "markdown",
   "metadata": {},
   "source": [
    "```\n",
    "    Import select from sqlalchemy.\n",
    "    Build a statement to:\n",
    "        Select sex.\n",
    "        Select the average age weighted by the population in 2008 (pop_2008).\n",
    "        Label the average age calculation as average_age.\n",
    "    Group the query by sex.\n",
    "    Execute the query and store it as results.\n",
    "    Loop over results and print the sex and average_age for each record.\n",
    "```"
   ]
  },
  {
   "cell_type": "code",
   "execution_count": 6,
   "metadata": {
    "collapsed": true
   },
   "outputs": [],
   "source": [
    "# # Import select\n",
    "# from sqlalchemy import select\n",
    "\n",
    "# # Calculate weighted average age: stmt\n",
    "# stmt = select([census.columns.sex,\n",
    "#                (func.sum(census.columns.pop2008 * census.columns.age) /\n",
    "#                 func.sum(census.columns.pop2008)).label('average_age')\n",
    "#                ])\n",
    "\n",
    "# # Group by sex\n",
    "# stmt = stmt.group_by(census.columns.sex)\n",
    "\n",
    "# # Execute the query and store the results: results\n",
    "# results = connection.execute(stmt).fetchall()\n",
    "\n",
    "# # Print the average age by sex\n",
    "# for row in results:\n",
    "#     print(row[0], row[1])"
   ]
  },
  {
   "cell_type": "markdown",
   "metadata": {},
   "source": [
    "```\n",
    "    Import case, cast and Float from sqlalchemy.\n",
    "    Define a statement to select state and the percentage of females in 2000.\n",
    "        Inside func.sum(), use case() to select females from pop2000.\n",
    "        To get the percentage, divide the number of females in the year 2000 by the overall population in 2000.\n",
    "        Cast the divisor to Float before multiplying by 100.\n",
    "    Group the query by state.\n",
    "    Execute the query and store it as results.\n",
    "    Print state and percent_female for each record. This has been done for you, so hit 'Submit Answer' to see the result.\n",
    "```"
   ]
  },
  {
   "cell_type": "code",
   "execution_count": 7,
   "metadata": {
    "collapsed": true
   },
   "outputs": [],
   "source": [
    "# # import case, cast and Float from sqlalchemy\n",
    "# from sqlalchemy import case, cast, Float\n",
    "\n",
    "# # Build a query to calculate the percentage of females in 2000: stmt\n",
    "# stmt = select([census.columns.state,\n",
    "#     (func.sum(\n",
    "#         case([\n",
    "#             (census.columns.sex == 'F', census.columns.pop2000)\n",
    "#         ], else_=0)) /\n",
    "#      cast(func.sum(census.columns.pop2000), Float) * 100).label('percent_female')\n",
    "# ])\n",
    "\n",
    "# # Group By state\n",
    "# stmt = stmt.group_by(census.columns.state)\n",
    "\n",
    "# # Execute the query and store the results: results\n",
    "# results = connection.execute(stmt).fetchall()\n",
    "\n",
    "# # Print the percentage\n",
    "# for result in results:\n",
    "#     print(result.state, result.percent_female)"
   ]
  },
  {
   "cell_type": "markdown",
   "metadata": {},
   "source": [
    "```\n",
    "    Build a statement to:\n",
    "        Select state.\n",
    "        Calculate the difference in population between 2008 (pop_2008) and 2000 (pop2000).\n",
    "    Group the query by state.\n",
    "    Order by 'pop_change' in descending order.\n",
    "    Limit the query to the top 10 states.\n",
    "    Execute the query and store it as results.\n",
    "    Print the state and the population change for each result. This has been done for you, so hit 'Submit Answer' to see the result!\n",
    "```"
   ]
  },
  {
   "cell_type": "code",
   "execution_count": 8,
   "metadata": {
    "collapsed": true
   },
   "outputs": [],
   "source": [
    "# # Build query to return state name and population difference from 2008 to 2000\n",
    "# stmt = select([census.columns.state,\n",
    "#      (census.columns.pop2008-census.columns.pop2000).label('pop_change')\n",
    "# ])\n",
    "\n",
    "# # Group by State\n",
    "# stmt = stmt.group_by(census.columns.state)\n",
    "\n",
    "# # Order by Population Change\n",
    "# stmt = stmt.order_by(desc('pop_change'))\n",
    "\n",
    "# # Limit to top 10\n",
    "# stmt = stmt.limit(10)\n",
    "\n",
    "# # Use connection to execute the statement and fetch all results\n",
    "# results = connection.execute(stmt).fetchall()\n",
    "\n",
    "# # Print the state and population change for each record\n",
    "# for result in results:\n",
    "#     print('{}-{}'.format(result.state, result.pop_change))"
   ]
  },
  {
   "cell_type": "code",
   "execution_count": null,
   "metadata": {
    "collapsed": true
   },
   "outputs": [],
   "source": []
  }
 ],
 "metadata": {
  "anaconda-cloud": {},
  "kernelspec": {
   "display_name": "Python [default]",
   "language": "python",
   "name": "python3"
  },
  "language_info": {
   "codemirror_mode": {
    "name": "ipython",
    "version": 3
   },
   "file_extension": ".py",
   "mimetype": "text/x-python",
   "name": "python",
   "nbconvert_exporter": "python",
   "pygments_lexer": "ipython3",
   "version": "3.5.2"
  }
 },
 "nbformat": 4,
 "nbformat_minor": 0
}
