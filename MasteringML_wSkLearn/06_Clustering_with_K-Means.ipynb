{
 "cells": [
  {
   "cell_type": "markdown",
   "metadata": {},
   "source": [
    "## 6: Clustering with K-Means  \n",
    "\n",
    "The goal of unsupervised learning is to discover hidden structure or patterns in unlabeled training\n",
    "data. Clustering, or cluster analysis, is the task of grouping observations such that\n",
    "members of the same group, or cluster, are more similar to each other by a given\n",
    "metric than they are to the members of the other clusters.  \n",
    "\n",
    "**Clustering with the K-Means algorithm**  \n",
    "\n",
    "K-Means is an iterative process of moving the centers of the clusters, or the\n",
    "centroids, to the mean position of their constituent points, and re-assigning instances\n",
    "to their closest clusters. The titular K is a hyperparameter that specifies the number of\n",
    "clusters that should be created; K-Means automatically assigns observations to clusters\n",
    "but cannot determine the appropriate number of clusters. K must be a positive integer\n",
    "that is less than the number of instances in the training set.  \n",
    "\n",
    "The parameters of K-Means are the positions of the clusters' centroids and the\n",
    "observations that are assigned to each cluster. Like generalized linear models and\n",
    "decision trees, the optimal values of K-Means' parameters are found by minimizing\n",
    "a cost function. The cost function for K-Means is given by the following equation:  \n",
    "\n",
    "$$ J = \\sum_{k=1}^{K} \\sum_{i \\epsilon C_k} || x_i - \\mu_k || ^2 $$ \n",
    "\n",
    "In the preceding equation, k μ is the centroid for the cluster k . The cost function sums\n",
    "the distortions of the clusters. Each cluster's distortion is equal to the sum of the\n",
    "squared distances between its centroid and its constituent instances. The distortion is\n",
    "small for compact clusters and large for clusters that contain scattered instances.  \n",
    "\n",
    "The parameters that minimize the cost function are learned through an iterative process\n",
    "of assigning observations to clusters and then moving the clusters.  \n",
    "\n",
    "In practice, setting the centroids' positions equal to the positions of randomly selected observations yields the best\n",
    "results. During each iteration, K-Means assigns observations to the cluster that they\n",
    "are closest to, and then moves the centroids to their assigned observations' mean\n",
    "location.  "
   ]
  },
  {
   "cell_type": "markdown",
   "metadata": {},
   "source": [
    "### The elbow method  \n",
    "\n",
    "If K is not specified by the problem's context, the optimal number of clusters can\n",
    "be estimated using a technique called the elbow method. The elbow method plots\n",
    "the value of the cost function produced by different values of K. As K increases,\n",
    "the average distortion will decrease; each cluster will have fewer constituent\n",
    "instances, and the instances will be closer to their respective centroids.  \n",
    "..................However, the improvements to the average distortion will decline as K increases. The value\n",
    "of K at which the improvement to the distortion declines the most is called the\n",
    "elbow."
   ]
  },
  {
   "cell_type": "code",
   "execution_count": 1,
   "metadata": {
    "collapsed": true
   },
   "outputs": [],
   "source": [
    "# import\n",
    "from sklearn.cluster import KMeans\n",
    "import numpy as np\n",
    "import matplotlib.pyplot as plt\n",
    "from scipy.spatial.distance import cdist\n",
    "\n",
    "%matplotlib inline"
   ]
  },
  {
   "cell_type": "code",
   "execution_count": 11,
   "metadata": {
    "collapsed": false
   },
   "outputs": [
    {
     "data": {
      "image/png": "[encoded data removed]",
      "text/plain": [
       "<matplotlib.figure.Figure at 0x9edcd30>"
      ]
     },
     "metadata": {},
     "output_type": "display_data"
    }
   ],
   "source": [
    "cluster1 = np.random.uniform(0.5, 1.5, (2, 10))\n",
    "cluster2 = np.random.uniform(3.5, 4.5, (2, 10))\n",
    "\n",
    "x = np.array([1, 2, 3, 1, 5, 6, 5, 5, 6, 7, 8, 9, 7, 9])\n",
    "y = np.array([1, 3, 2, 2, 8, 6, 7, 6, 7, 1, 2, 1, 1, 3])\n",
    "\n",
    "\n",
    "plt.plot(x,y, 'ob')\n",
    "plt.margins(0.2)"
   ]
  },
  {
   "cell_type": "code",
   "execution_count": 12,
   "metadata": {
    "collapsed": false
   },
   "outputs": [
    {
     "data": {
      "image/png": "[encoded data removed]",
      "text/plain": [
       "<matplotlib.figure.Figure at 0x9fcc400>"
      ]
     },
     "metadata": {},
     "output_type": "display_data"
    }
   ],
   "source": [
    "X = np.hstack((cluster1, cluster2)).T\n",
    "X = np.vstack((x, y)).T\n",
    "\n",
    "K = range(1, 10)\n",
    "meandistortions = []\n",
    "for k in K:\n",
    "\tkmeans = KMeans(n_clusters=k)\n",
    "\tkmeans.fit(X)\n",
    "\tmeandistortions.append(sum(np.min(cdist(X, kmeans.cluster_centers_, 'euclidean'), axis=1)) / X.shape[0])\n",
    "\n",
    "plt.plot(K, meandistortions, 'bx-')\n",
    "plt.xlabel('k')\n",
    "plt.ylabel('Average distortion')\n",
    "plt.title('Selecting k with the Elbow Method')\n",
    "plt.show()"
   ]
  },
  {
   "cell_type": "markdown",
   "metadata": {},
   "source": [
    "** Evaluating clusters **   \n",
    "\n",
    "The **silhouette coefficient** is a measure of\n",
    "the compactness and separation of the clusters. It increases as the quality of the clusters\n",
    "increase; it is large for compact clusters that are far from each other and small for large,\n",
    "overlapping clusters. The silhouette coefficient is calculated per instance; for a set of\n",
    "instances, it is calculated as the mean of the individual samples' scores. The silhouette\n",
    "coefficient for an instance is calculated with the following equation:  \n",
    "\n",
    "$$ s = \\frac{ba}{max(a,b)} $$  \n",
    "\n",
    "a is the mean distance between the instances in the cluster. b is the mean distance\n",
    "between the instance and the instances in the next closest cluster."
   ]
  },
  {
   "cell_type": "code",
   "execution_count": null,
   "metadata": {
    "collapsed": true
   },
   "outputs": [],
   "source": []
  }
 ],
 "metadata": {
  "kernelspec": {
   "display_name": "Python 3",
   "language": "python",
   "name": "python3"
  },
  "language_info": {
   "codemirror_mode": {
    "name": "ipython",
    "version": 3
   },
   "file_extension": ".py",
   "mimetype": "text/x-python",
   "name": "python",
   "nbconvert_exporter": "python",
   "pygments_lexer": "ipython3",
   "version": "3.5.2"
  }
 },
 "nbformat": 4,
 "nbformat_minor": 0
}
