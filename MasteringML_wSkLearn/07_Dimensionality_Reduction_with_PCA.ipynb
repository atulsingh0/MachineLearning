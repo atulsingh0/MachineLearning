{
 "cells": [
  {
   "cell_type": "markdown",
   "metadata": {},
   "source": [
    "**Principal Component Analysis**, also known as the **Karhunen-Loeve Transform**, is a\n",
    "technique used to search for patterns in high-dimensional data. PCA is commonly\n",
    "used to explore and visualize high-dimensional data sets. It can also be used to\n",
    "compress data, and process data before it is used by another estimator. PCA reduces\n",
    "a set of possibly-correlated, high-dimensional variables to a lower-dimensional\n",
    "set of linearly uncorrelated synthetic variables called principal components. The\n",
    "lower-dimensional data will preserve as much of the variance of the original data\n",
    "as possible.  \n",
    "\n",
    "In general, an n-dimensional dataset can be reduced by projecting the dataset onto a\n",
    "k-dimensional subspace, where k is less than n. More formally, PCA can be used to\n",
    "find a set of vectors that span a subspace, which minimizes the sum of the squared\n",
    "errors of the projected data. This projection will retain the greatest proportion of the\n",
    "original data set's variance.  \n",
    "\n",
    "PCA rotates the data set to align with its principal components to maximize the variance\n",
    "contained within the first several principal components.  \n",
    "\n",
    "PCA is most useful when the variance in a data set is distributed unevenly across the\n",
    "dimensions. Consider a three-dimensional data set with a spherical convex hull. PCA\n",
    "cannot be used effectively with this data set because there is equal variance in each\n",
    "dimension; none of the dimensions can be discarded without losing a significant\n",
    "amount of information.\n",
    "It is easy to visually identify the principal components of data sets with only two or\n",
    "three dimensions."
   ]
  },
  {
   "cell_type": "markdown",
   "metadata": {},
   "source": [
    "### Performing Principal Component Analysis   \n",
    "\n",
    "#### Variance, Covariance, and Covariance Matrices  \n",
    "\n",
    "variance is a measure of how a set of values are spread out. Variance is\n",
    "calculated as the average of the squared differences of the values and mean of the\n",
    "values -\n",
    "$$ var(s^2) = \\frac{\\sum_{i=1}^{n}(x_i - \\bar x)^2}{n-1} $$ \n",
    "\n",
    "\n",
    "Covariance is a measure of how much two variables change together; it is a measure\n",
    "of the strength of the correlation between two sets of variables. If the covariance of two\n",
    "variables is zero, the variables are uncorrelated.  \n",
    "....................Note that uncorrelated variables are\n",
    "not necessarily independent, as correlation is only a measure of linear dependence. The\n",
    "covariance of two variables is calculated using the following equation:\n",
    "$$ coVar(X,y) = \\frac{\\sum_{i=1}^{n}(x_i - \\bar x)(y_i - \\bar y)}{n-1} $$ \n",
    "\n",
    "A covariance\n",
    "matrix describes the covariance values between each pair of dimensions in a data\n",
    "set. The element (i, j) indicates the covariance of the ith and jth dimensions of the\n",
    "data."
   ]
  },
  {
   "cell_type": "code",
   "execution_count": 34,
   "metadata": {
    "collapsed": false
   },
   "outputs": [],
   "source": [
    "# import\n",
    "import numpy as np\n",
    "import matplotlib.pyplot as plt\n",
    "from sklearn.decomposition import PCA\n",
    "from sklearn.datasets import load_iris\n",
    "\n",
    "%matplotlib inline"
   ]
  },
  {
   "cell_type": "code",
   "execution_count": 8,
   "metadata": {
    "collapsed": false
   },
   "outputs": [
    {
     "name": "stdout",
     "output_type": "stream",
     "text": [
      "[[ 2.   0.  -1.4]\n",
      " [ 2.2  0.2 -1.5]\n",
      " [ 2.4  0.1 -1. ]\n",
      " [ 1.9  0.  -1.2]]\n",
      "[[ 2.   2.2  2.4  1.9]\n",
      " [ 0.   0.2  0.1  0. ]\n",
      " [-1.4 -1.5 -1.  -1.2]]\n",
      "[[ 0.04916667  0.01416667  0.01916667]\n",
      " [ 0.01416667  0.00916667 -0.00583333]\n",
      " [ 0.01916667 -0.00583333  0.04916667]]\n",
      "[[ 2.92        3.16        2.95        2.67      ]\n",
      " [ 3.16        3.43        3.175       2.885     ]\n",
      " [ 2.95        3.175       3.01        2.705     ]\n",
      " [ 2.67        2.885       2.705       2.44333333]]\n"
     ]
    }
   ],
   "source": [
    "X = [[2, 0, -1.4],\n",
    "\t [2.2, 0.2, -1.5],\n",
    "\t [2.4, 0.1, -1],\n",
    "\t [1.9, 0, -1.2]]\n",
    "\n",
    "print(np.array(X))\n",
    "print(np.array(X).T)\n",
    "\n",
    "\n",
    "print(np.cov(np.array(X).T))\n",
    "print(np.cov(np.array(X)))"
   ]
  },
  {
   "cell_type": "markdown",
   "metadata": {},
   "source": [
    "#### Eigenvectors and eigenvalues  \n",
    "\n",
    "An eigenvector of a matrix is a non-zero vector that satisfies the following equation:  \n",
    "\n",
    "$$ A \\overrightarrow{v} = \\lambda\\overrightarrow{v} $$"
   ]
  },
  {
   "cell_type": "code",
   "execution_count": 11,
   "metadata": {
    "collapsed": false
   },
   "outputs": [
    {
     "name": "stdout",
     "output_type": "stream",
     "text": [
      "eigen vector :  [-0.99999998 -1.00000002]\n",
      "eigen values :  [[ 0.70710678  0.70710678]\n",
      " [ 0.70710678  0.70710678]]\n"
     ]
    }
   ],
   "source": [
    "w, v = np.linalg.eig(np.array([[1, -2], [2, -3]]))\n",
    "print(\"eigen vector : \", w)\n",
    "print(\"eigen values : \",v)"
   ]
  },
  {
   "cell_type": "markdown",
   "metadata": {},
   "source": [
    "#### Dimensionality reduction with Principal Component Analysis"
   ]
  },
  {
   "cell_type": "code",
   "execution_count": 12,
   "metadata": {
    "collapsed": true
   },
   "outputs": [],
   "source": [
    "x1 = [ 0.9, 2.4, 1.2, 0.5, 0.3, 1.8, 0.5, 0.3, 2.5, 1.3 ]\n",
    "x2 = [ 1, 2.6, 1.7, 0.7, 0.7, 1.4, 0.6, 0.6, 2.6, 1.1 ]"
   ]
  },
  {
   "cell_type": "code",
   "execution_count": 13,
   "metadata": {
    "collapsed": true
   },
   "outputs": [],
   "source": [
    "# deducting mean\n",
    "\n",
    "x11 = x1 - np.mean(x1)\n",
    "x21 = x2 - np.mean(x2)"
   ]
  },
  {
   "cell_type": "markdown",
   "metadata": {},
   "source": [
    "principal components are the eigenvectors of the data's covariance matrix ordered\n",
    "by their eigenvalues.  \n",
    "\n",
    "**Way1:** The first technique requires calculating the covariance matrix of the\n",
    "data. Since the covariance matrix will be square, we can calculate the eigenvectors\n",
    "and eigenvalues\n",
    "\n",
    "**Way2:** The\n",
    "second technique uses singular value decomposition of the data matrix to find the\n",
    "eigenvectors and square roots of the eigenvalues of the covariance matrix."
   ]
  },
  {
   "cell_type": "code",
   "execution_count": 15,
   "metadata": {
    "collapsed": false
   },
   "outputs": [
    {
     "name": "stdout",
     "output_type": "stream",
     "text": [
      "[[ 0.68677778  0.60666667]\n",
      " [ 0.60666667  0.59777778]]\n"
     ]
    }
   ],
   "source": [
    "cov = np.cov(x11, x21)\n",
    "print(cov)"
   ]
  },
  {
   "cell_type": "code",
   "execution_count": 16,
   "metadata": {
    "collapsed": false
   },
   "outputs": [
    {
     "name": "stdout",
     "output_type": "stream",
     "text": [
      "eigen vector :  [ 1.25057433  0.03398123]\n",
      "eigen values :  [[ 0.73251454 -0.68075138]\n",
      " [ 0.68075138  0.73251454]]\n"
     ]
    }
   ],
   "source": [
    "w, v = np.linalg.eig(cov)\n",
    "\n",
    "print(\"eigen vector : \", w)\n",
    "print(\"eigen values : \",v)"
   ]
  },
  {
   "cell_type": "markdown",
   "metadata": {},
   "source": [
    "The first eigenvector\n",
    "has the greatest eigenvalue and is the first principal component. We will build a\n",
    "transformation matrix in which each column of the matrix is the eigenvector for\n",
    "a principal component. If we were reducing a five-dimensional data set to three\n",
    "dimensions, we would build a matrix with three columns"
   ]
  },
  {
   "cell_type": "code",
   "execution_count": 27,
   "metadata": {
    "collapsed": false
   },
   "outputs": [
    {
     "data": {
      "text/plain": [
       "array([[-0.40200434],\n",
       "       [ 1.78596968],\n",
       "       [ 0.29427599],\n",
       "       [-0.89923557],\n",
       "       [-1.04573848],\n",
       "       [ 0.5295593 ],\n",
       "       [-0.96731071],\n",
       "       [-1.11381362],\n",
       "       [ 1.85922113],\n",
       "       [-0.04092339]])"
      ]
     },
     "execution_count": 27,
     "metadata": {},
     "output_type": "execute_result"
    }
   ],
   "source": [
    "A = np.array([x11, x21]).T\n",
    "l = np.array([[0.73251454], \n",
    "             [0.68075138]])\n",
    "\n",
    "np.dot(A, l)"
   ]
  },
  {
   "cell_type": "markdown",
   "metadata": {},
   "source": [
    "Many implementations of PCA, including the one of scikit-learn, use singular value\n",
    "decomposition to calculate the eigenvectors and eigenvalues. SVD is given by the\n",
    "following equation:  \n",
    "    \n",
    "$$ X = U \\sum V^T $$  \n",
    "\n",
    "The columns of U are called left singular vectors of the data matrix, the columns of\n",
    "V are its right singular vectors, and the diagonal entries of are its singular values."
   ]
  },
  {
   "cell_type": "markdown",
   "metadata": {},
   "source": [
    "####  Using PCA to visualize high-dimensional data"
   ]
  },
  {
   "cell_type": "code",
   "execution_count": 36,
   "metadata": {
    "collapsed": false
   },
   "outputs": [
    {
     "data": {
      "image/png": "[encoded data removed]",
      "text/plain": [
       "<matplotlib.figure.Figure at 0x9ea40b8>"
      ]
     },
     "metadata": {},
     "output_type": "display_data"
    }
   ],
   "source": [
    "data = load_iris()\n",
    "y = data.target\n",
    "X = data.data\n",
    "\n",
    "pca = PCA(n_components=2)\n",
    "reduced_X = pca.fit_transform(X)\n",
    "\n",
    "red_x, red_y = [], []\n",
    "blue_x, blue_y = [], []\n",
    "green_x, green_y = [], []\n",
    "for i in range(len(reduced_X)):\n",
    "\tif y[i] == 0:\n",
    "\t\tred_x.append(reduced_X[i][0])\n",
    "\t\tred_y.append(reduced_X[i][1])\n",
    "\telif y[i] == 1:\n",
    "\t\tblue_x.append(reduced_X[i][0])\n",
    "\t\tblue_y.append(reduced_X[i][1])\n",
    "\telse:\n",
    "\t\tgreen_x.append(reduced_X[i][0])\n",
    "\t\tgreen_y.append(reduced_X[i][1])\n",
    "\n",
    "plt.figure(figsize=(12,9))        \n",
    "plt.scatter(red_x, red_y, c='r', marker='x')\n",
    "plt.scatter(blue_x, blue_y, c='b', marker='D')\n",
    "plt.scatter(green_x, green_y, c='g', marker='.')\n",
    "plt.show()"
   ]
  },
  {
   "cell_type": "code",
   "execution_count": null,
   "metadata": {
    "collapsed": true
   },
   "outputs": [],
   "source": []
  }
 ],
 "metadata": {
  "kernelspec": {
   "display_name": "Python 3",
   "language": "python",
   "name": "python3"
  },
  "language_info": {
   "codemirror_mode": {
    "name": "ipython",
    "version": 3
   },
   "file_extension": ".py",
   "mimetype": "text/x-python",
   "name": "python",
   "nbconvert_exporter": "python",
   "pygments_lexer": "ipython3",
   "version": "3.5.2"
  }
 },
 "nbformat": 4,
 "nbformat_minor": 0
}
