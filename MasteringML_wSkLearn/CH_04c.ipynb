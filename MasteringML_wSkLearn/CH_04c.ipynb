{
 "cells": [
  {
   "cell_type": "markdown",
   "metadata": {},
   "source": [
    "### Multi-label classification and problem transformation  \n",
    "\n",
    "binary classification, in which each instance\n",
    "must be assigned to one of the two classes, and multi-class classification, in which each\n",
    "instance must be assigned to one of the set of classes. The final type of classification\n",
    "problem that is multi-label classification, in which each instance can\n",
    "be assigned a subset of the set of classes. Examples of multi-label classification include\n",
    "assigning tags to messages posted on a forum, and classifying the objects present in an\n",
    "image. There are two groups of approaches for multi-label classification."
   ]
  },
  {
   "cell_type": "markdown",
   "metadata": {},
   "source": [
    "**Problem transformation** methods are techniques that cast the original multi-label\n",
    "problem as a set of single-label classification problems. The first problem\n",
    "transformation method that we will review converts each set of labels encountered\n",
    "in the training data to a single label. For example, consider a multi-label classification\n",
    "problem in which news articles must be assigned to one or more categories from\n",
    "a set. The following training data contains seven articles that can pertain to one or\n",
    "more of the five categories.   \n",
    "Transforming the problem into a single-label classification task using the power set of\n",
    "labels seen in the training data results in the following training data."
   ]
  },
  {
   "cell_type": "markdown",
   "metadata": {},
   "source": [
    "![data\\multiLable_clss1.png](data\\multiLable_clss1.png)"
   ]
  },
  {
   "cell_type": "markdown",
   "metadata": {},
   "source": [
    "Transforming the problem into a **single-label classification** task using the power set of\n",
    "labels seen in the training data results in the following training data. Previously, the\n",
    "first instance was classified as Local and US. Now it has a single label, Local \u001f US.\n",
    "\n",
    "![](data\\multiLable_clss2.png)\n",
    "\n",
    "The multi-label classification problem that had five classes is now a multi-class\n",
    "classification problem with seven classes. While the power set problem\n",
    "transformation is intuitive, increasing the number of classes is frequently impractical;\n",
    "this transformation can produce many new labels that correspond to only a few\n",
    "training instances. Furthermore, the classifier can only predict combinations of labels\n",
    "that were seen in the training data.\n",
    "\n",
    "\n",
    "A second problem transformation is to train **one binary classifier for each of the\n",
    "labels** in the training set. Each classifier predicts whether or not the instance belongs\n",
    "to one label. Our example would require five binary classifiers; the first classifier\n",
    "would predict whether or not an instance should be classified as Local, the second\n",
    "classifier would predict whether or not an instance should be classified as US, and\n",
    "so on. The final prediction is the union of the predictions from all of the binary\n",
    "classifiers.\n",
    "\n",
    "![](data\\multiLable_clss3.png)\n",
    "\n",
    "\n",
    "This problem transformation ensures that the single-label problems will have the same\n",
    "number of training examples as the multilabel problem, but ignores relationships\n",
    "between the labels.\n",
    "\n",
    "**Multi-label classification performance metrics**  \n",
    "\n",
    "Multi-label classification problems must be assessed using different performance\n",
    "measures than single-label classification problems. Two of the most common\n",
    "performance metrics are Hamming loss and Jaccard similarity. Hamming loss is\n",
    "the average fraction of incorrect labels. Note that Hamming loss is a loss function,\n",
    "and that the perfect score is zero. Jaccard similarity, or the Jaccard index, is the size\n",
    "of the intersection of the predicted labels and the true labels divided by the size of\n",
    "the union of the predicted and true labels. It ranges from zero to one, and one is the\n",
    "perfect score. Jaccard similarity is calculated by the following equation:\n",
    "\n",
    "\n",
    "$$ J(Predicted, True) = \\frac{|Predicted \\bigcup True |}{|Predicted \\bigcap True|} $$"
   ]
  },
  {
   "cell_type": "code",
   "execution_count": 6,
   "metadata": {
    "collapsed": false
   },
   "outputs": [
    {
     "name": "stdout",
     "output_type": "stream",
     "text": [
      "0.0\n",
      "0.25\n",
      "0.5\n",
      "1.0\n",
      "0.75\n",
      "0.5\n"
     ]
    }
   ],
   "source": [
    "import numpy as np\n",
    "from sklearn.metrics import hamming_loss, jaccard_similarity_score\n",
    "\n",
    "print (hamming_loss(np.array([[0.0, 1.0], [1.0, 1.0]]), np.array([[0.0, 1.0], [1.0, 1.0]])))\n",
    "      \n",
    "print (hamming_loss(np.array([[0.0, 1.0], [1.0, 1.0]]), np.array([[1.0, 1.0], [1.0, 1.0]])))\n",
    "      \n",
    "print (hamming_loss(np.array([[0.0, 1.0], [1.0, 1.0]]), np.array([[1.0, 1.0], [0.0, 1.0]])))\n",
    "      \n",
    "print (jaccard_similarity_score(np.array([[0.0, 1.0], [1.0, 1.0]]), np.array([[0.0, 1.0], [1.0, 1.0]])))\n",
    "      \n",
    "print (jaccard_similarity_score(np.array([[0.0, 1.0], [1.0, 1.0]]), np.array([[1.0, 1.0], [1.0, 1.0]])))\n",
    "      \n",
    "print (jaccard_similarity_score(np.array([[0.0, 1.0], [1.0, 1.0]]), np.array([[1.0, 1.0], [0.0, 1.0]])))\n"
   ]
  },
  {
   "cell_type": "code",
   "execution_count": null,
   "metadata": {
    "collapsed": true
   },
   "outputs": [],
   "source": []
  }
 ],
 "metadata": {
  "kernelspec": {
   "display_name": "Python 3",
   "language": "python",
   "name": "python3"
  },
  "language_info": {
   "codemirror_mode": {
    "name": "ipython",
    "version": 3
   },
   "file_extension": ".py",
   "mimetype": "text/x-python",
   "name": "python",
   "nbconvert_exporter": "python",
   "pygments_lexer": "ipython3",
   "version": "3.5.2"
  }
 },
 "nbformat": 4,
 "nbformat_minor": 0
}
