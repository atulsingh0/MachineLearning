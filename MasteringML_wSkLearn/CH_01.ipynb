{
 "cells": [
  {
   "cell_type": "markdown",
   "metadata": {
    "collapsed": true
   },
   "source": [
    "** Plotting a Randome Plot **"
   ]
  },
  {
   "cell_type": "code",
   "execution_count": 1,
   "metadata": {
    "collapsed": true
   },
   "outputs": [],
   "source": [
    "import matplotlib.pyplot as plt\n",
    "import numpy as np\n",
    "\n",
    "%matplotlib inline"
   ]
  },
  {
   "cell_type": "code",
   "execution_count": 2,
   "metadata": {
    "collapsed": false
   },
   "outputs": [],
   "source": [
    "x = np.random.randint(0, 30, 10)\n",
    "y = np.random.randint(0, 55, 10)"
   ]
  },
  {
   "cell_type": "code",
   "execution_count": 3,
   "metadata": {
    "collapsed": false
   },
   "outputs": [
    {
     "data": {
      "image/png": "[encoded data removed]",
      "text/plain": [
       "<matplotlib.figure.Figure at 0x7781e48>"
      ]
     },
     "metadata": {},
     "output_type": "display_data"
    }
   ],
   "source": [
    "plt.figure()\n",
    "plt.title(\"Scatter Plot\")\n",
    "plt.xlabel(\"X\")\n",
    "plt.ylabel(\"Y\")\n",
    "plt.scatter(x,y, color='red')\n",
    "plt.grid(True, color='0')\n",
    "plt.autoscale(True)\n",
    "plt.show()"
   ]
  },
  {
   "cell_type": "code",
   "execution_count": 4,
   "metadata": {
    "collapsed": false
   },
   "outputs": [],
   "source": [
    "# import\n",
    "import numpy as np\n",
    "import matplotlib.pyplot as plt\n",
    "\n",
    "%matplotlib inline"
   ]
  },
  {
   "cell_type": "code",
   "execution_count": 5,
   "metadata": {
    "collapsed": false
   },
   "outputs": [],
   "source": [
    "# generating some nos\n",
    "X = [[6], [8], [10], [14], [18]]\n",
    "y = [[7], [9], [13], [17.5], [18]]"
   ]
  },
  {
   "cell_type": "markdown",
   "metadata": {},
   "source": [
    "** Plotting**"
   ]
  },
  {
   "cell_type": "code",
   "execution_count": 6,
   "metadata": {
    "collapsed": false
   },
   "outputs": [
    {
     "data": {
      "image/png": "[encoded data removed]",
      "text/plain": [
       "<matplotlib.figure.Figure at 0x7865828>"
      ]
     },
     "metadata": {},
     "output_type": "display_data"
    }
   ],
   "source": [
    "# creating figure\n",
    "plt.figure(figsize=(6, 4), dpi=120)\n",
    "#plt.plot(x, Y, color='blue')\n",
    "plt.scatter(X, y, color='blue')\n",
    "plt.xlabel(\"Pizza diameter\")\n",
    "plt.ylabel(\"Pizza price $\")\n",
    "plt.title(\"Pizza price analysis\")\n",
    "#plt.xlim(0, 30)\n",
    "#plt.ylim(0, 30)\n",
    "plt.grid(True, color='0.2')\n",
    "plt.autoscale(True)"
   ]
  },
  {
   "cell_type": "markdown",
   "metadata": {},
   "source": [
    "** Using linear Regression to predict the pizza price **"
   ]
  },
  {
   "cell_type": "code",
   "execution_count": 7,
   "metadata": {
    "collapsed": false
   },
   "outputs": [
    {
     "name": "stdout",
     "output_type": "stream",
     "text": [
      "16' pizza price :  [ 17.5862069]\n",
      "Coeff :  [[ 0.9762931]] \n",
      "Intercept :  [ 1.96551724]\n"
     ]
    },
    {
     "name": "stderr",
     "output_type": "stream",
     "text": [
      "C:\\Anaconda3\\lib\\site-packages\\sklearn\\utils\\validation.py:395: DeprecationWarning: Passing 1d arrays as data is deprecated in 0.17 and will raise ValueError in 0.19. Reshape your data either using X.reshape(-1, 1) if your data has a single feature or X.reshape(1, -1) if it contains a single sample.\n",
      "  DeprecationWarning)\n"
     ]
    }
   ],
   "source": [
    "from sklearn.linear_model import LinearRegression\n",
    "\n",
    "lReg = LinearRegression()\n",
    "lReg.fit(X, y)\n",
    "\n",
    "# predict the price of 16\" pizza\n",
    "print(\"16' pizza price : \", lReg.predict([16])[0])\n",
    "\n",
    "# getting coefficeint & intercept\n",
    "print(\"Coeff : \", lReg.coef_, \n",
    "     \"\\nIntercept : \", lReg.intercept_)\n"
   ]
  },
  {
   "cell_type": "markdown",
   "metadata": {},
   "source": [
    "**Checking RSS -** $$ mean([y-f(x)]^2) $$"
   ]
  },
  {
   "cell_type": "code",
   "execution_count": 8,
   "metadata": {
    "collapsed": false
   },
   "outputs": [
    {
     "data": {
      "text/plain": [
       "1.7495689655172406"
      ]
     },
     "execution_count": 8,
     "metadata": {},
     "output_type": "execute_result"
    }
   ],
   "source": [
    "rss = np.mean((y-lReg.predict(X))**2)\n",
    "rss  # also called cost func"
   ]
  },
  {
   "cell_type": "markdown",
   "metadata": {},
   "source": [
    "** Calculating variance of X and co-variance of X and y **"
   ]
  },
  {
   "cell_type": "code",
   "execution_count": 9,
   "metadata": {
    "collapsed": false
   },
   "outputs": [
    {
     "name": "stdout",
     "output_type": "stream",
     "text": [
      "11.2\n",
      "23.2\n",
      "23.2\n"
     ]
    }
   ],
   "source": [
    "xm = np.mean(X)\n",
    "print(xm)\n",
    "\n",
    "variance = (np.sum((X - xm)**2))/4\n",
    "print(variance)\n",
    "\n",
    "# numpy func np.var\n",
    "print(np.var(X, ddof=1))  #ddof - bessels corelation"
   ]
  },
  {
   "cell_type": "code",
   "execution_count": 10,
   "metadata": {
    "collapsed": false
   },
   "outputs": [
    {
     "name": "stdout",
     "output_type": "stream",
     "text": [
      "12.9\n",
      "22.65\n",
      "22.65\n"
     ]
    }
   ],
   "source": [
    "ym = np.mean(y)\n",
    "print(ym)\n",
    "\n",
    "covar = np.sum((X-xm)*(y-ym))/4\n",
    "print(covar)\n",
    "\n",
    "# numpy func np.cov\n",
    "print(np.cov([6,8,10,14,18], [7,9,13,17.5,18])[0][1])"
   ]
  },
  {
   "cell_type": "markdown",
   "metadata": {},
   "source": [
    "** now, calculating coeff - $$ \\frac{cov(X,y)}{var(X)} $$ **"
   ]
  },
  {
   "cell_type": "code",
   "execution_count": 11,
   "metadata": {
    "collapsed": false
   },
   "outputs": [
    {
     "data": {
      "text/plain": [
       "0.9762931034482758"
      ]
     },
     "execution_count": 11,
     "metadata": {},
     "output_type": "execute_result"
    }
   ],
   "source": [
    "coeff = covar / variance\n",
    "coeff"
   ]
  },
  {
   "cell_type": "code",
   "execution_count": 12,
   "metadata": {
    "collapsed": false
   },
   "outputs": [
    {
     "data": {
      "text/plain": [
       "1.9655172413793114"
      ]
     },
     "execution_count": 12,
     "metadata": {},
     "output_type": "execute_result"
    }
   ],
   "source": [
    "# based on coeff we can calc intercept which is y - coeff*x\n",
    "\n",
    "intercept = ym - coeff*xm\n",
    "intercept"
   ]
  },
  {
   "cell_type": "code",
   "execution_count": 13,
   "metadata": {
    "collapsed": false
   },
   "outputs": [
    {
     "name": "stdout",
     "output_type": "stream",
     "text": [
      "0.976293103448 1.96551724138\n",
      "[[ 0.9762931]] [ 1.96551724]\n"
     ]
    }
   ],
   "source": [
    "print(coeff, intercept)\n",
    "print(lReg.coef_, lReg.intercept_)"
   ]
  },
  {
   "cell_type": "code",
   "execution_count": 14,
   "metadata": {
    "collapsed": false
   },
   "outputs": [
    {
     "name": "stdout",
     "output_type": "stream",
     "text": [
      "17.586206896548\n",
      "[[ 17.5862069]]\n"
     ]
    }
   ],
   "source": [
    "# checking out the 16\" pizza  price \n",
    "price = 1.96551724138 + (0.976293103448 * 16)\n",
    "print(price)\n",
    "print(lReg.predict([[16]]))"
   ]
  },
  {
   "cell_type": "code",
   "execution_count": 15,
   "metadata": {
    "collapsed": false
   },
   "outputs": [
    {
     "data": {
      "text/plain": [
       "array([[  9.77586207],\n",
       "       [ 10.75215517],\n",
       "       [ 12.70474138],\n",
       "       [ 17.5862069 ],\n",
       "       [ 13.68103448]])"
      ]
     },
     "execution_count": 15,
     "metadata": {},
     "output_type": "execute_result"
    }
   ],
   "source": [
    "# let's test this model on test data\n",
    "X_test = [[8],[9],[11],[16], [12]]\n",
    "y_test = [[11],[8.5],[15], [18],[11]]\n",
    "\n",
    "y_predict = lReg.predict(X_test)\n",
    "y_predict"
   ]
  },
  {
   "cell_type": "markdown",
   "metadata": {},
   "source": [
    "### Performance measures, bias, and variance   \n",
    "\n",
    "    There are two fundamental causes of prediction error: a model's bias and its variance.\n",
    "    \n",
    "**Bias** A model with a high bias will produce similar errors for an input regardless of the training set it was trained with; the model biases its own assumptions about the real relationship over the relationship demonstrated in the training data.\n",
    "    \n",
    "**variance**    A model with high variance, conversely, will produce different errors for an input depending on the training set that it was trained with. A model with high bias is inflexible, but a model with high variance may be so flexible that it models the noise in the training set. That is, a model with high variance over-fits the training data, while a model with high bias under-fits the training data.\n",
    "    \n",
    "    It can be helpful to visualize bias and variance as darts thrown at a dartboard. Each dart is analogous to a prediction from a different dataset.   \n",
    "**high bias but low variance** -   A model with high bias but low variance will throw darts that are far from the bull's eye, but tightly clustered.    \n",
    "** high bias and high variance** -    A model with high bias and high variance will throw darts all over the board; the darts are far from the bull's eye and each other.    \n",
    "**low bias and high variance** -    A model with low bias and high variance will throw darts that are closer to the bull's eye, but poorly clustered. Finally, a model with low bias and low variance will throw darts that are tightly clustered around the bull's eye,\n",
    "    \n",
    "Ideally, a model will have both **low bias and variance**, but efforts to decrease one will frequently increase the other. This is known as the **bias-variance trade-off**.\n",
    "    "
   ]
  },
  {
   "cell_type": "markdown",
   "metadata": {},
   "source": [
    "### accuracy, precision, and recall  \n",
    "\n",
    "$$ ACC = \\frac{TP + TN}{TP + TN + FP + FN} $$\n",
    "\n",
    "$$ P = \\frac{TP}{TP + FP} $$\n",
    "\n",
    "$$ R = \\frac{TP}{TP + FN} $$"
   ]
  },
  {
   "cell_type": "code",
   "execution_count": 16,
   "metadata": {
    "collapsed": false
   },
   "outputs": [
    {
     "name": "stdout",
     "output_type": "stream",
     "text": [
      "Mean Abs Error 1.77327586207\n",
      "Sqred Abs Error 3.83961987218\n",
      " 0.662005292942\n"
     ]
    }
   ],
   "source": [
    "# RSS \n",
    "from sklearn import metrics \n",
    "\n",
    "print(\"Mean Abs Error\", metrics.mean_absolute_error(y_test, y_predict))\n",
    "print(\"Sqred Abs Error\", metrics.mean_squared_error(y_test, y_predict))\n",
    "print(\"\", lReg.score(X_test, y_test))"
   ]
  },
  {
   "cell_type": "code",
   "execution_count": null,
   "metadata": {
    "collapsed": true
   },
   "outputs": [],
   "source": []
  }
 ],
 "metadata": {
  "anaconda-cloud": {},
  "kernelspec": {
   "display_name": "Python 3",
   "language": "python",
   "name": "python3"
  },
  "language_info": {
   "codemirror_mode": {
    "name": "ipython",
    "version": 3
   },
   "file_extension": ".py",
   "mimetype": "text/x-python",
   "name": "python",
   "nbconvert_exporter": "python",
   "pygments_lexer": "ipython3",
   "version": "3.5.2"
  }
 },
 "nbformat": 4,
 "nbformat_minor": 1
}
