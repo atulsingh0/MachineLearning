{
 "cells": [
  {
   "cell_type": "markdown",
   "metadata": {},
   "source": [
    "### From Linear Regression to Logistic Regression  \n",
    "\n",
    "Unlike the regression, Logistic regression is use to Classification problem  \n",
    "\n",
    "** Binary classification with logistic regression **  \n",
    "\n",
    "Ordinary linear regression assumes that the response variable is normally distributed. \n",
    "The normal distribution, also known as the **Gaussian distribution** or **bell curve**, is a \n",
    "function that describes the probability that an observation will have a value between \n",
    "any two real numbers.   \n",
    "Normally distributed data is symmetrical. That is, half of the \n",
    "values are greater than the mean and the other half of the values are less than the \n",
    "mean. The mean, median, and mode of normally distributed data are also equal. Many natural phenomena approximately follow normal distributions.\n",
    "\n",
    "** The Bernoulli distribution ** \n",
    "describes the probability distribution of a random variable that can take the positive \n",
    "case with probability P or the negative case with probability 1-P. If the response \n",
    "variable represents a probability, it must be constrained to the range {0,1}. \n",
    "\n",
    "Linear regression assumes that a constant change in the value of an explanatory variable \n",
    "results in a constant change in the value of the response variable, an assumption \n",
    "that does not hold if the value of the response variable represents a probability. \n",
    "Generalized linear models remove this assumption by relating a linear combination \n",
    "of the explanatory variables to the response variable using a link function.\n",
    "\n",
    "In **logistic regression**, the response variable describes the probability that the outcome \n",
    "is the positive case. If the response variable is equal to or exceeds a discrimination \n",
    "threshold, the positive class is predicted; otherwise, the negative class is predicted. The \n",
    "response variable is modeled as a function of a linear combination of the explanatory \n",
    "variables using the logistic function. Given by the following equation, the logistic \n",
    "function always returns a value between zero and one:\n",
    "\n",
    "$$ F(t) = \\frac{1}{1+e^{-1}} $$\n",
    "\n",
    "For logistic regression, t  is equal to a linear combination of explanatory variables,  \n",
    "as follows:\n",
    "\n",
    "$$ F(t) = \\frac{1}{1+e^{(\\beta_0+\\beta_x)}}  $$\n",
    "\n",
    "The logit function is the inverse of the logistic function. It links F(x) back to a linear \n",
    "combination of the explanatory variables:\n",
    "\n",
    "$$ g(x) = ln\\frac{F(x)}{1-F(x)} = \\beta_0+\\beta_x   $$\n",
    "\n",
    "\n",
    "### Spam and Ham filtering"
   ]
  },
  {
   "cell_type": "code",
   "execution_count": 27,
   "metadata": {
    "collapsed": false
   },
   "outputs": [],
   "source": [
    "# import\n",
    "import pandas as pd\n",
    "import numpy as np\n",
    "\n",
    "import matplotlib.pyplot as plt\n",
    "\n",
    "from sklearn.feature_extraction.text import TfidfVectorizer\n",
    "from sklearn.linear_model.logistic import LogisticRegression\n",
    "from sklearn.grid_search import GridSearchCV\n",
    "from sklearn.pipeline import Pipeline\n",
    "from sklearn.model_selection import train_test_split, cross_val_score\n",
    "from sklearn.metrics import  confusion_matrix, accuracy_score, recall_score, f1_score, roc_curve, precision_score, auc\n",
    "\n",
    "%matplotlib inline"
   ]
  },
  {
   "cell_type": "code",
   "execution_count": 2,
   "metadata": {
    "collapsed": false
   },
   "outputs": [
    {
     "data": {
      "text/plain": [
       "5572"
      ]
     },
     "execution_count": 2,
     "metadata": {},
     "output_type": "execute_result"
    }
   ],
   "source": [
    "# reading sms file\n",
    "sms = pd.read_csv(\"data/SMSSpamCollection\", delimiter=\"\\t\", header=None)\n",
    "len(sms)"
   ]
  },
  {
   "cell_type": "code",
   "execution_count": 3,
   "metadata": {
    "collapsed": false
   },
   "outputs": [
    {
     "name": "stdout",
     "output_type": "stream",
     "text": [
      "      0                                                  1\n",
      "0   ham  Go until jurong point, crazy.. Available only ...\n",
      "1   ham                      Ok lar... Joking wif u oni...\n",
      "2  spam  Free entry in 2 a wkly comp to win FA Cup fina...\n",
      "3   ham  U dun say so early hor... U c already then say...\n",
      "4   ham  Nah I don't think he goes to usf, he lives aro...\n"
     ]
    }
   ],
   "source": [
    "print(sms.head())"
   ]
  },
  {
   "cell_type": "code",
   "execution_count": 4,
   "metadata": {
    "collapsed": false
   },
   "outputs": [
    {
     "name": "stdout",
     "output_type": "stream",
     "text": [
      "No of ham msg :  4825\n",
      "No of spam msg :  747\n"
     ]
    }
   ],
   "source": [
    "print(\"No of ham msg : \", sms[sms[0]=='ham'][0].count())\n",
    "print(\"No of spam msg : \", sms[sms[0]=='spam'][0].count())"
   ]
  },
  {
   "cell_type": "code",
   "execution_count": 5,
   "metadata": {
    "collapsed": false
   },
   "outputs": [
    {
     "name": "stdout",
     "output_type": "stream",
     "text": [
      "(4179,) (1393,)\n",
      "(4179, 7441) (1393, 7441)\n",
      "(1393,)\n",
      "ham   Many more happy returns of the day. I wish you happy birthday.\n",
      "spam   You have 1 new message. Please call 08712400200.\n",
      "ham   You made my day. Do have a great day too.\n",
      "ham   My exam is for february 4. Wish you a great day.\n",
      "ham   Hiya. How was last night? I've been naughty and bought myself clothes and very little ... Ready for more shopping tho! What kind of time do you wanna meet?\n",
      "ham   Get the door, I'm here\n",
      "ham   Will you come online today night\n",
      "ham   Raviyog Peripherals bhayandar east\n",
      "ham   When should I come over?\n",
      "ham   Ah, well that confuses things, doesn‘t it?\n"
     ]
    }
   ],
   "source": [
    "# splitting the data into train n test\n",
    "X_train_raw, X_test_raw, y_train, y_test = train_test_split(sms[1], sms[0], test_size=0.25)\n",
    "print(X_train_raw.shape, X_test_raw.shape)\n",
    "\n",
    "# training the vector\n",
    "vector = TfidfVectorizer()\n",
    "# fit and transform the X_train\n",
    "X_train = vector.fit_transform(X_train_raw)\n",
    "# transform the X_test\n",
    "X_test = vector.transform(X_test_raw)\n",
    "print(X_train.shape, X_test.shape)\n",
    "\n",
    "# implemeting the classification\n",
    "classifier = LogisticRegression()\n",
    "# fitting the data\n",
    "classifier.fit(X_train, y_train)\n",
    "# predicting the data\n",
    "y_pred = classifier.predict(X_test)\n",
    "print(y_pred.shape)\n",
    "\n",
    "for i, test in enumerate(X_test_raw[:10]):\n",
    "    print(y_pred[i],\" \",  test)"
   ]
  },
  {
   "cell_type": "markdown",
   "metadata": {},
   "source": [
    "** Binary classification performance metrics **  \n",
    "\n",
    "A variety of metrics exist to evaluate the performance of binary classifiers against trusted labels. The most common metrics are **accuracy, precision, recall, F1 measure, and ROC AUC score**. All of these measures depend on the concepts of true positives, \n",
    "true negatives, false positives, and false negatives.  \n",
    "\n",
    "A **confusion matrix, or contingency table**, can be used to \n",
    "visualize true and false positives and negatives. The rows of the matrix are the true \n",
    "classes of the instances, and the columns are the predicted classes of the instances:"
   ]
  },
  {
   "cell_type": "code",
   "execution_count": 6,
   "metadata": {
    "collapsed": false
   },
   "outputs": [
    {
     "name": "stdout",
     "output_type": "stream",
     "text": [
      "[[1229    0]\n",
      " [  29  135]]\n"
     ]
    },
    {
     "data": {
      "image/png": "[encoded data removed]",
      "text/plain": [
       "<matplotlib.figure.Figure at 0x2a0d1ed36d8>"
      ]
     },
     "metadata": {},
     "output_type": "display_data"
    }
   ],
   "source": [
    "y_test = [0 if i=='ham' else 1 for i in y_test]\n",
    "y_pred = [0 if i=='ham' else 1 for i in y_pred]\n",
    "\n",
    "confusion_matrix = confusion_matrix(y_test, y_pred)\n",
    "print(confusion_matrix)\n",
    "plt.matshow(confusion_matrix)\n",
    "plt.title('Confusion matrix')\n",
    "plt.colorbar()\n",
    "plt.ylabel('True label')\n",
    "plt.xlabel('Predicted label')\n",
    "plt.show()"
   ]
  },
  {
   "cell_type": "markdown",
   "metadata": {},
   "source": [
    "**Accuracy**  \n",
    "Accuracy measures a fraction of the classifier's predictions that are correct.  "
   ]
  },
  {
   "cell_type": "code",
   "execution_count": 10,
   "metadata": {
    "collapsed": false
   },
   "outputs": [
    {
     "name": "stdout",
     "output_type": "stream",
     "text": [
      "0.979181622398\n"
     ]
    }
   ],
   "source": [
    "print(accuracy_score(y_test, y_pred))"
   ]
  },
  {
   "cell_type": "markdown",
   "metadata": {},
   "source": [
    "Note that your accuracy may differ as the training and test sets are assigned \n",
    "randomly. While accuracy measures the overall correctness of the classifier, it \n",
    "does not distinguish between false positive errors and false negative errors. Some \n",
    "applications may be more sensitive to false negatives than false positives, or vice \n",
    "versa. Furthermore, accuracy is not an informative metric if the proportions of \n",
    "the classes are skewed in the population.   \n",
    "\n",
    "For example, a classifier that predicts \n",
    "whether or not credit card transactions are fraudulent may be more sensitive to \n",
    "false negatives than to false positives. To promote customer satisfaction, the credit \n",
    "card company may prefer to risk verifying legitimate transactions than risk ignoring \n",
    "a fraudulent transaction. Because most transactions are legitimate, accuracy is \n",
    "not an appropriate metric for this problem. A classifier that always predicts that \n",
    "transactions are legitimate could have a high accuracy score, but would not be \n",
    "useful. For these reasons, classifiers are often evaluated using two additional \n",
    "measures called precision and recall."
   ]
  },
  {
   "cell_type": "markdown",
   "metadata": {},
   "source": [
    "**Precision and recall**  \n",
    "\n",
    "$$ P = \\frac{TP}{TP+FP} $$\n",
    "\n",
    "$$ R = \\frac{TP}{TP+FN} $$\n",
    "\n",
    "Individually, precision and recall are seldom informative; they are both incomplete \n",
    "views of a classifier's performance. Both precision and recall can fail to distinguish \n",
    "classifiers that perform well from certain types of classifiers that perform poorly. A \n",
    "trivial classifier could easily achieve a perfect recall score by predicting positive for \n",
    "every instance. "
   ]
  },
  {
   "cell_type": "code",
   "execution_count": 15,
   "metadata": {
    "collapsed": false
   },
   "outputs": [
    {
     "name": "stdout",
     "output_type": "stream",
     "text": [
      "1.0\n",
      "0.823170731707\n"
     ]
    }
   ],
   "source": [
    "print(precision_score(y_test, y_pred))\n",
    "print(recall_score(y_test, y_pred))"
   ]
  },
  {
   "cell_type": "markdown",
   "metadata": {},
   "source": [
    "** Calculating the F1 measure **  \n",
    "\n",
    "$$ F1 = 2\\frac{PR}{P + R} $$\n",
    "\n",
    "The F1 measure penalizes classifiers with imbalanced precision and recall scores, \n",
    "like the trivial classifier that always predicts the positive class. A model with perfect \n",
    "precision and recall scores will achieve an F1 score of one. A model with a perfect \n",
    "precision score and a recall score of zero will achieve an F1 score of zero. As for \n",
    "precision and recall, scikit-learn provides a function to calculate the F1 score for \n",
    "a set of predictions."
   ]
  },
  {
   "cell_type": "code",
   "execution_count": 16,
   "metadata": {
    "collapsed": false
   },
   "outputs": [
    {
     "name": "stdout",
     "output_type": "stream",
     "text": [
      "0.903010033445\n"
     ]
    }
   ],
   "source": [
    "print(f1_score(y_test, y_pred))"
   ]
  },
  {
   "cell_type": "markdown",
   "metadata": {},
   "source": [
    "** ROC AUC **  \n",
    "\n",
    "A Receiver Operating Characteristic, or ROC curve, visualizes a classifier's \n",
    "performance. Unlike accuracy, the ROC curve is insensitive to data sets with \n",
    "unbalanced class proportions; unlike precision and recall, the ROC curve illustrates \n",
    "the classifier's performance for all values of the discrimination threshold. ROC \n",
    "curves plot the classifier's recall against its fall-out. Fall-out, or the false positive \n",
    "rate, is the number of false positives divided by the total number of negatives. It is \n",
    "calculated using the following formula:\n",
    "\n",
    "$$ F = \\frac{FP}{TN+FP}  $$\n",
    "\n",
    "AUC is the area under the ROC curve; it reduces the ROC curve to a single value, \n",
    "which represents the expected performance of the classifier. "
   ]
  },
  {
   "cell_type": "code",
   "execution_count": 25,
   "metadata": {
    "collapsed": false
   },
   "outputs": [
    {
     "name": "stdout",
     "output_type": "stream",
     "text": [
      "[ 0.  1.]\n"
     ]
    },
    {
     "data": {
      "image/png": "[encoded data removed]",
      "text/plain": [
       "<matplotlib.figure.Figure at 0x2a0d1d0c1d0>"
      ]
     },
     "metadata": {},
     "output_type": "display_data"
    }
   ],
   "source": [
    "false_positive_rate, recall, thresholds = roc_curve(y_test, y_pred)\n",
    "print(false_positive_rate)\n",
    "roc_auc = auc(false_positive_rate, recall)\n",
    "\n",
    "plt.title('Receiver Operating Characteristic')\n",
    "plt.plot(false_positive_rate, recall, 'b', label='AUC = %0.2f' %roc_auc)\n",
    "plt.legend(loc='lower right')\n",
    "plt.plot([0, 1], [0, 1], 'r--')\n",
    "plt.xlim([0.0, 1.0])\n",
    "plt.ylim([0.0, 1.0])\n",
    "plt.ylabel('Recall')\n",
    "plt.xlabel('Fall-out')\n",
    "plt.show()"
   ]
  },
  {
   "cell_type": "markdown",
   "metadata": {},
   "source": [
    "From the ROC AUC plot, it is apparent that our classifier outperforms random \n",
    "guessing; most of the plot area lies under its curve"
   ]
  },
  {
   "cell_type": "markdown",
   "metadata": {},
   "source": [
    "### Tuning models with grid search  \n",
    "\n",
    "Hyperparameters are parameters of the model that are not learned. For example, \n",
    "hyperparameters of our logistic regression SMS classifier include the value of \n",
    "the regularization term and thresholds used to remove words that appear too \n",
    "frequently or infrequently. In scikit-learn, hyperparameters are set through the \n",
    "model's constructor. In the previous examples, we did not set any arguments for \n",
    "LogisticRegression(); we used the default values for all of the hyperparameters. \n",
    "These default values are often a good start, but they may not produce the optimal \n",
    "model.\n",
    "\n",
    " Grid search is a common method to select the hyperparameter values \n",
    "that produce the best model. Grid search takes a set of possible values for each \n",
    "hyperparameter that should be tuned, and evaluates a model trained on each \n",
    "element of the Cartesian product of the sets. That is, grid search is an exhaustive \n",
    "search that trains and evaluates a model for each possible combination of the \n",
    "hyperparameter values supplied by the developer. A disadvantage of grid search \n",
    "is that it is computationally costly for even small sets of hyperparameter values. \n",
    "Fortunately, it is an embarrassingly parallel problem; many models can easily be \n",
    "trained and evaluated concurrently since no synchronization is required between \n",
    "the processes. Let's use scikit-learn's GridSearchCV() function to find better \n",
    "hyperparameter values:"
   ]
  },
  {
   "cell_type": "code",
   "execution_count": 30,
   "metadata": {
    "collapsed": false
   },
   "outputs": [
    {
     "name": "stdout",
     "output_type": "stream",
     "text": [
      "Fitting 3 folds for each of 1536 candidates, totalling 4608 fits\n"
     ]
    },
    {
     "name": "stderr",
     "output_type": "stream",
     "text": [
      "[Parallel(n_jobs=-1)]: Done  42 tasks      | elapsed:    9.2s\n",
      "[Parallel(n_jobs=-1)]: Done 192 tasks      | elapsed:   27.6s\n",
      "[Parallel(n_jobs=-1)]: Done 442 tasks      | elapsed:   56.3s\n",
      "[Parallel(n_jobs=-1)]: Done 792 tasks      | elapsed:  1.6min\n",
      "[Parallel(n_jobs=-1)]: Done 1242 tasks      | elapsed:  2.5min\n",
      "[Parallel(n_jobs=-1)]: Done 1792 tasks      | elapsed:  3.6min\n",
      "[Parallel(n_jobs=-1)]: Done 2442 tasks      | elapsed:  4.9min\n",
      "[Parallel(n_jobs=-1)]: Done 3192 tasks      | elapsed:  6.3min\n",
      "[Parallel(n_jobs=-1)]: Done 4042 tasks      | elapsed: 11.4min\n",
      "[Parallel(n_jobs=-1)]: Done 4608 out of 4608 | elapsed: 12.6min finished\n"
     ]
    },
    {
     "data": {
      "text/plain": [
       "\"\\nprint( 'Best score: %0.3f' % grid_search.best_score_)\\nprint( 'Best parameters set:')\\nbest_parameters = grid_search.best_estimator_.get_params()\\nfor param_name in sorted(parameters.keys()):\\n    print( '\\t%s: %r' % (param_name, best_parameters[param_name]))\\npredictions = grid_search.predict(X_test)\\nprint( 'Accuracy:', accuracy_score(y_test, predictions))\\nprint( 'Precision:', precision_score(y_test, predictions))\\nprint( 'Recall:', recall_score(y_test, predictions))\\n\""
      ]
     },
     "execution_count": 30,
     "metadata": {},
     "output_type": "execute_result"
    }
   ],
   "source": [
    "pipeline = Pipeline([\n",
    "    ('vect', TfidfVectorizer(stop_words='english')),\n",
    "    ('clf', LogisticRegression())\n",
    "])\n",
    "\n",
    "parameters = {\n",
    "    'vect__max_df': (0.25, 0.5, 0.75),\n",
    "    'vect__stop_words': ('english', None),\n",
    "    'vect__max_features': (2500, 5000, 10000, None),\n",
    "    'vect__ngram_range': ((1, 1), (1, 2)),\n",
    "    'vect__use_idf': (True, False),\n",
    "    'vect__norm': ('l1', 'l2'),\n",
    "    'clf__penalty': ('l1', 'l2'),\n",
    "    'clf__C': (0.01, 0.1, 1, 10),\n",
    "}\n",
    "\n",
    "grid_search = GridSearchCV(pipeline, parameters, n_jobs=-1, verbose=1, scoring='accuracy', cv=3)\n",
    "grid_search.fit(X_train_raw, y_train)"
   ]
  },
  {
   "cell_type": "code",
   "execution_count": 38,
   "metadata": {
    "collapsed": false
   },
   "outputs": [
    {
     "name": "stdout",
     "output_type": "stream",
     "text": [
      "Best score: 0.983\n",
      "Best parameters set:\n",
      "\tclf__C: 10\n",
      "\tclf__penalty: 'l2'\n",
      "\tvect__max_df: 0.5\n",
      "\tvect__max_features: 5000\n",
      "\tvect__ngram_range: (1, 2)\n",
      "\tvect__norm: 'l2'\n",
      "\tvect__stop_words: None\n",
      "\tvect__use_idf: True\n",
      "Accuracy: 0.988513998564\n",
      "Precision: 0.993333333333\n",
      "Recall: 0.908536585366\n"
     ]
    }
   ],
   "source": [
    "print( 'Best score: %0.3f' % grid_search.best_score_)\n",
    "print( 'Best parameters set:')\n",
    "\n",
    "best_parameters = grid_search.best_estimator_.get_params()\n",
    "\n",
    "for param_name in sorted(parameters.keys()):\n",
    "    print( '\\t%s: %r' % (param_name, best_parameters[param_name]))\n",
    "\n",
    "predictions = grid_search.predict(X_test_raw)\n",
    "predictions = [0 if i == 'ham' else 1 for i in predictions]\n",
    "\n",
    "\n",
    "print( 'Accuracy:', accuracy_score(y_test, predictions))\n",
    "print( 'Precision:', precision_score(y_test, predictions))\n",
    "print( 'Recall:', recall_score(y_test, predictions))"
   ]
  },
  {
   "cell_type": "code",
   "execution_count": null,
   "metadata": {
    "collapsed": true
   },
   "outputs": [],
   "source": []
  }
 ],
 "metadata": {
  "anaconda-cloud": {},
  "kernelspec": {
   "display_name": "Python [conda root]",
   "language": "python",
   "name": "conda-root-py"
  },
  "language_info": {
   "codemirror_mode": {
    "name": "ipython",
    "version": 3
   },
   "file_extension": ".py",
   "mimetype": "text/x-python",
   "name": "python",
   "nbconvert_exporter": "python",
   "pygments_lexer": "ipython3",
   "version": "3.5.2"
  }
 },
 "nbformat": 4,
 "nbformat_minor": 1
}
