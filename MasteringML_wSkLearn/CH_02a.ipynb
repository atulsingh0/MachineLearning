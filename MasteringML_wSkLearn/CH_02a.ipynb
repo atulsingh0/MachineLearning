{
 "cells": [
  {
   "cell_type": "markdown",
   "metadata": {},
   "source": [
    "## Linear Regression"
   ]
  },
  {
   "cell_type": "code",
   "execution_count": 1,
   "metadata": {
    "collapsed": true
   },
   "outputs": [],
   "source": [
    "# import\n",
    "import matplotlib.pyplot as plt\n",
    "import numpy as np\n",
    "\n",
    "from sklearn.linear_model import LinearRegression\n",
    "from sklearn.preprocessing import PolynomialFeatures\n",
    "\n",
    "%matplotlib inline"
   ]
  },
  {
   "cell_type": "code",
   "execution_count": 2,
   "metadata": {
    "collapsed": false
   },
   "outputs": [
    {
     "data": {
      "image/png": "[encoded data removed]",
      "text/plain": [
       "<matplotlib.figure.Figure at 0x87a5160>"
      ]
     },
     "metadata": {},
     "output_type": "display_data"
    }
   ],
   "source": [
    "X = [[6], [8], [10], [14], [18]]\n",
    "y = [[7], [9], [13], [17.5], [18]]\n",
    "\n",
    "plt.figure()\n",
    "plt.title('Pizza price plotted against diameter')\n",
    "plt.xlabel('Diameter in inches')\n",
    "plt.ylabel('Price in dollars')\n",
    "plt.plot(X, y, 'k.')\n",
    "plt.axis([0, 25, 0, 25])\n",
    "plt.grid(True)\n",
    "plt.show()"
   ]
  },
  {
   "cell_type": "markdown",
   "metadata": {},
   "source": [
    "** Simple Linear Regression **"
   ]
  },
  {
   "cell_type": "code",
   "execution_count": 3,
   "metadata": {
    "collapsed": false
   },
   "outputs": [],
   "source": [
    "lReg = LinearRegression()\n",
    "\n",
    "# fitting the data\n",
    "lReg.fit(X, y)\n",
    "\n",
    "# predicting the data for 12\" pizza\n",
    "lReg.predict([[12]])\n",
    "\n",
    "y_pred = lReg.predict(X)"
   ]
  },
  {
   "cell_type": "code",
   "execution_count": 4,
   "metadata": {
    "collapsed": false
   },
   "outputs": [
    {
     "data": {
      "image/png": "[encoded data removed]",
      "text/plain": [
       "<matplotlib.figure.Figure at 0x87bc828>"
      ]
     },
     "metadata": {},
     "output_type": "display_data"
    }
   ],
   "source": [
    "# plotting the new point in the plot\n",
    "\n",
    "\n",
    "X = [[6], [8], [10], [14], [18]]\n",
    "y = [[7], [9], [13], [17.5], [18]]\n",
    "\n",
    "plt.figure()\n",
    "plt.title('Pizza price plotted against diameter')\n",
    "plt.xlabel('Diameter in inches')\n",
    "plt.ylabel('Price in dollars')\n",
    "plt.plot(X, y, 'k.')\n",
    "plt.plot([12], lReg.predict([[12]]), c='r', marker='.')\n",
    "plt.axis([0, 25, 0, 25])\n",
    "plt.grid(True)\n",
    "\n",
    "x1 = [[0], [25]]\n",
    "y1 = lReg.predict(x1)\n",
    "plt.plot(x1, y1, 'g')\n",
    "plt.show()\n"
   ]
  },
  {
   "cell_type": "code",
   "execution_count": 5,
   "metadata": {
    "collapsed": false
   },
   "outputs": [
    {
     "name": "stdout",
     "output_type": "stream",
     "text": [
      "Co-efficient :  [[ 0.9762931]]\n",
      "Intercept :  [ 1.96551724]\n"
     ]
    }
   ],
   "source": [
    "# priting model coeff and intercept\n",
    "print(\"Co-efficient : \", lReg.coef_)\n",
    "print(\"Intercept : \", lReg.intercept_)"
   ]
  },
  {
   "cell_type": "markdown",
   "metadata": {},
   "source": [
    "#### Evaluating the fitness of a model with a cost function  \n",
    "\n",
    "    A cost function, also called a loss function, is used to define and measure the error of a mode  \n",
    "    The differences between the predicted and observed values in the test data are called prediction errors or test errors.  \n",
    "    \n",
    "We are going to use Residual Sum of Square cost function to evaluate our model \n",
    "\n",
    "$$ RSS = \\sum_{i=1}^{n} (y_i - f(x))^2 $$"
   ]
  },
  {
   "cell_type": "code",
   "execution_count": 6,
   "metadata": {
    "collapsed": false
   },
   "outputs": [
    {
     "name": "stdout",
     "output_type": "stream",
     "text": [
      "RSS :  1.74956896552\n"
     ]
    }
   ],
   "source": [
    "# RSS(\n",
    "#print(y, lReg.predict(X))\n",
    "#print(\"RSS : \", np.sum(np.square(y-y_pred)))\n",
    "print(\"RSS : \", np.mean(np.square(y-lReg.predict(X))))"
   ]
  },
  {
   "cell_type": "markdown",
   "metadata": {},
   "source": [
    "** Variance **  \n",
    "Variance is a measure of how far a set of values is spread out. If all of the numbers \n",
    "in the set are equal, the variance of the set is zero. A small variance indicates that the \n",
    "numbers are near the mean of the set, while a set containing numbers that are far \n",
    "from the mean and each other will have a large variance. Variance can be calculated \n",
    "using the following equation:\n",
    "\n",
    "$$ VAR = \\frac{\\sum_{i=1}^{n} (x_i - \\overline{x})^2 }{n-1} $$"
   ]
  },
  {
   "cell_type": "code",
   "execution_count": 7,
   "metadata": {
    "collapsed": false
   },
   "outputs": [
    {
     "name": "stdout",
     "output_type": "stream",
     "text": [
      "X:  [[6], [8], [10], [14], [18]]\n",
      "mean X:  11.2\n",
      "Variance:  23.2\n",
      "Variance:  23.2\n"
     ]
    }
   ],
   "source": [
    "print(\"X: \", X)\n",
    "print (\"mean X: \", np.mean(X))\n",
    "\n",
    "var = np.sum(np.square(X - np.mean(X)))/(len(X)-1)\n",
    "print(\"Variance: \", var)\n",
    "\n",
    "print(\"Variance: \",np.var(X, ddof=1))"
   ]
  },
  {
   "cell_type": "markdown",
   "metadata": {},
   "source": [
    "** Covariance **   \n",
    "Covariance is a measure of how much two variables change together. If the value of \n",
    "the variables increase together, their covariance is positive. If one variable tends to \n",
    "increase while the other decreases, their covariance is negative. If there is no linear \n",
    "relationship between the two variables, their covariance will be equal to zero; the \n",
    "variables are linearly uncorrelated but not necessarily independent. Covariance can \n",
    "be calculated using the following formula:\n",
    "\n",
    "$$ CoVar(x,y) = \\frac{\\sum_{i=1}^{n} (x_i - \\overline{x})(y_i - \\overline{y}) }{n-1} $$"
   ]
  },
  {
   "cell_type": "code",
   "execution_count": 8,
   "metadata": {
    "collapsed": false
   },
   "outputs": [
    {
     "name": "stdout",
     "output_type": "stream",
     "text": [
      "CoVariance:  22.65\n",
      "CoVariance:  22.65\n"
     ]
    }
   ],
   "source": [
    "X1 = [6, 8, 10, 14, 18]\n",
    "y1 = [7, 9, 13, 17.5, 18]\n",
    "xbar = np.mean(X1)\n",
    "ybar = np.mean(y1)\n",
    "\n",
    "covar = np.sum((X1 - xbar)*(y1 - ybar))/(len(X1)-1)\n",
    "print(\"CoVariance: \", covar)\n",
    "\n",
    "print(\"CoVariance: \",np.cov(X1, y1)[0,1])"
   ]
  },
  {
   "cell_type": "markdown",
   "metadata": {},
   "source": [
    "We know that simple linear regression follows the below equation :\n",
    " $$ y = \\alpha + \\beta{x} $$  \n",
    " \n",
    "where $$ \\beta = \\frac{cov(X,y)}{var(x)}  $$"
   ]
  },
  {
   "cell_type": "code",
   "execution_count": 9,
   "metadata": {
    "collapsed": false
   },
   "outputs": [
    {
     "name": "stdout",
     "output_type": "stream",
     "text": [
      "beta b (co-efficient)=  0.976293103448\n",
      "alpha a (intercept)=  1.96551724138\n"
     ]
    }
   ],
   "source": [
    "# let's get the beta\n",
    "beta = covar/var\n",
    "alpha = np.mean(y) - beta*np.mean(X)\n",
    "print(\"beta b (co-efficient)= \", beta)\n",
    "print(\"alpha a (intercept)= \", alpha)"
   ]
  },
  {
   "cell_type": "code",
   "execution_count": 10,
   "metadata": {
    "collapsed": false
   },
   "outputs": [
    {
     "name": "stdout",
     "output_type": "stream",
     "text": [
      "[[ 12.70474138]\n",
      " [ 19.5387931 ]]\n"
     ]
    }
   ],
   "source": [
    "x2 = [[11], [18]]\n",
    "print(lReg.predict(x2))"
   ]
  },
  {
   "cell_type": "markdown",
   "metadata": {},
   "source": [
    "### Evaluating the model  \n",
    "\n",
    "**R-squared measures** how well \n",
    "the observed values of the response variables are predicted by the model. More \n",
    "concretely, r-squared is the proportion of the variance in the response variable that \n",
    "is explained by the model. An r-squared score of one indicates that the response \n",
    "variable can be predicted without any error using the model. An r-squared score of \n",
    "one half indicates that half of the variance in the response variable can be predicted \n",
    "using the model. There are several methods to calculate r-squared. In the case of \n",
    "simple linear regression, r-squared is equal to the square of the Pearson product \n",
    "moment correlation coefficient, or Pearson's r. \n",
    "\n",
    "$$ R^2 = 1 - \\frac{SS_{res}}{SS_{tot}} $$\n",
    "where\n",
    "$$ SS_{res} = \\sum_{i=1}^{n} (y_i - f(x_i))^2  $$ \n",
    "\n",
    "$$ SS_{tot} = \\sum_{i=1}^{n} (y_i - \\overline{y})^2  $$ \n",
    "\n",
    "Using this method, r-squared must be a positive number between zero and one. \n",
    "This method is intuitive; if r-squared describes the proportion of variance in the \n",
    "response variable explained by the model, it cannot be greater than one or less than \n",
    "zero. Other methods, including the method used by scikit-learn, do not calculate \n",
    "r-squared as the square of Pearson's r, and can return a negative r-squared if the \n",
    "model performs extremely poorly."
   ]
  },
  {
   "cell_type": "code",
   "execution_count": 11,
   "metadata": {
    "collapsed": false
   },
   "outputs": [
    {
     "name": "stdout",
     "output_type": "stream",
     "text": [
      "1.74956896552\n",
      "19.44\n",
      "R sqare score: 0.910001596424\n",
      "R sqare score: 0.910001596424\n"
     ]
    }
   ],
   "source": [
    "SSres = np.mean(np.square(y-lReg.predict(X)))\n",
    "print(SSres)\n",
    "SStot = np.mean(np.square(y-np.mean(y)))\n",
    "print(SStot)\n",
    "\n",
    "Rsqr = 1 - (SSres/SStot)\n",
    "print(\"R sqare score:\", Rsqr)\n",
    "print(\"R sqare score:\",lReg.score(X, y))"
   ]
  },
  {
   "cell_type": "markdown",
   "metadata": {},
   "source": [
    "R squre Score is quite high which says there is a large proportion of the variance in the data\n",
    "\n",
    "### Multiple Linear Regression"
   ]
  },
  {
   "cell_type": "code",
   "execution_count": 12,
   "metadata": {
    "collapsed": false
   },
   "outputs": [],
   "source": [
    "# in this there are two features of pizza - diameter and no of toppings\n",
    "\n",
    "X = [[6,2],[8,1],[10, 0],[14,2],[18, 0]]\n",
    "y = [[7],[9],[13],[17.5],[18]]\n",
    "X_test = [[8,2],[9,0],[11,2],[16,2],[12, 0]]\n",
    "y_test = [[11],[8.5],[15],[18],[11]]"
   ]
  },
  {
   "cell_type": "code",
   "execution_count": 13,
   "metadata": {
    "collapsed": false
   },
   "outputs": [
    {
     "name": "stdout",
     "output_type": "stream",
     "text": [
      "Training Score: 0.770167773132\n",
      "Test Score: 0.770167773132\n",
      "predicted :  [ 10.0625]  Actual :  [11]\n",
      "predicted :  [ 10.28125]  Actual :  [8.5]\n",
      "predicted :  [ 13.09375]  Actual :  [15]\n",
      "predicted :  [ 18.14583333]  Actual :  [18]\n",
      "predicted :  [ 13.3125]  Actual :  [11]\n"
     ]
    }
   ],
   "source": [
    "lReg2 = LinearRegression()\n",
    "lReg2.fit(X, y)\n",
    "\n",
    "y_pred = lReg2.predict(X_test)\n",
    "\n",
    "print(\"Training Score:\", lReg2.score(X_test, y_test))\n",
    "print(\"Test Score:\", lReg2.score(X_test, y_test))\n",
    "\n",
    "for i, yp in enumerate(y_pred):\n",
    "    print(\"predicted : \",yp, \" Actual : \", y_test[i])"
   ]
  },
  {
   "cell_type": "markdown",
   "metadata": {},
   "source": [
    "### Polynomial Regression"
   ]
  },
  {
   "cell_type": "code",
   "execution_count": 29,
   "metadata": {
    "collapsed": false
   },
   "outputs": [],
   "source": [
    "X = [[6], [8], [10], [14], [18]]\n",
    "y = [[7], [9], [13], [17.5], [18]]\n",
    "X_test = [[6],[8],[11],[16]]\n",
    "y_test = [[8],[12],[15],[18]]"
   ]
  },
  {
   "cell_type": "code",
   "execution_count": 79,
   "metadata": {
    "collapsed": false
   },
   "outputs": [
    {
     "name": "stdout",
     "output_type": "stream",
     "text": [
      "[[ 0.9762931]] [ 1.96551724]\n"
     ]
    },
    {
     "data": {
      "text/plain": [
       "<matplotlib.legend.Legend at 0xb519518>"
      ]
     },
     "execution_count": 79,
     "metadata": {},
     "output_type": "execute_result"
    },
    {
     "data": {
      "image/png": "[encoded data removed]",
      "text/plain": [
       "<matplotlib.figure.Figure at 0xb1ca2b0>"
      ]
     },
     "metadata": {},
     "output_type": "display_data"
    }
   ],
   "source": [
    "lReg3 = LinearRegression()\n",
    "lReg3.fit(X, y)\n",
    "\n",
    "print(lReg3.coef_, lReg3.intercept_)\n",
    "\n",
    "xx = np.linspace(0, 20, 100)\n",
    "yy = lReg3.predict(xx.reshape(xx.shape[0],1))\n",
    "\n",
    "fig, ax = plt.subplots(figsize=(12,8))\n",
    "ax.plot(xx, yy)\n",
    "ax.legend(['Linear 1 degree'])"
   ]
  },
  {
   "cell_type": "code",
   "execution_count": 83,
   "metadata": {
    "collapsed": false
   },
   "outputs": [
    {
     "name": "stdout",
     "output_type": "stream",
     "text": [
      "R squared for polynomial fit :  0.867544365635\n"
     ]
    },
    {
     "data": {
      "image/png": "[encoded data removed]",
      "text/plain": [
       "<matplotlib.figure.Figure at 0xb1ca2b0>"
      ]
     },
     "execution_count": 83,
     "metadata": {},
     "output_type": "execute_result"
    }
   ],
   "source": [
    "# doing feature preprocessing\n",
    "quad = PolynomialFeatures(degree=2)\n",
    "X_quad_train = quad.fit_transform(X)\n",
    "X_quad_test = quad.fit_transform(X_test)\n",
    "\n",
    "lReg4 = LinearRegression()\n",
    "lReg4.fit(X_quad_train, y)\n",
    "\n",
    "xx = np.linspace(0, 20, 100)\n",
    "xx_quad = quad.fit_transform(xx.reshape(xx.shape[0],1))\n",
    "yy = lReg4.predict(xx_quad)\n",
    "print(\"R squared for polynomial fit : \", lReg4.score(X_quad_test, y_test))\n",
    "ax.plot(xx, yy, linestyle='--')\n",
    "ax.plot(X, y, 'r.')\n",
    "ax.legend([ 'Linear ', 'Poly 2 degree'])\n",
    "ax.grid(True)\n",
    "fig"
   ]
  },
  {
   "cell_type": "markdown",
   "metadata": {},
   "source": [
    "Let's try with 9 degree polinomial"
   ]
  },
  {
   "cell_type": "code",
   "execution_count": 87,
   "metadata": {
    "collapsed": false
   },
   "outputs": [
    {
     "name": "stdout",
     "output_type": "stream",
     "text": [
      "R squared for 9 degree polynomial fit :  -0.094356667043\n"
     ]
    },
    {
     "data": {
      "image/png": "[encoded data removed]",
      "text/plain": [
       "<matplotlib.figure.Figure at 0xb1ca2b0>"
      ]
     },
     "execution_count": 87,
     "metadata": {},
     "output_type": "execute_result"
    }
   ],
   "source": [
    "lReg9 = LinearRegression()\n",
    "\n",
    "# feature processing\n",
    "nine = PolynomialFeatures(degree=9)\n",
    "X_nine_train = nine.fit_transform(X)\n",
    "X_nine_test = nine.fit_transform(X_test)\n",
    "\n",
    "\n",
    "#fitting the model\n",
    "lReg9.fit(X_nine_train, y)\n",
    "\n",
    "xx_nine = nine.fit_transform(xx.reshape(xx.shape[0],1))\n",
    "yy = lReg9.predict(xx_nine)\n",
    "#print(xx_nine)\n",
    "\n",
    "print(\"R squared for 9 degree polynomial fit : \", lReg9.score(X_nine_test, y_test))\n",
    "\n",
    "\n",
    "ax.plot(xx, yy, linestyle='-', c='r', )\n",
    "ax.legend([ 'Linear ', 'Poly 2 degree', 'Poly 9 degree'], loc='upper center')\n",
    "\n",
    "fig\n",
    "\n",
    "# R square value is negative which indicates the poor performance"
   ]
  },
  {
   "cell_type": "code",
   "execution_count": null,
   "metadata": {
    "collapsed": true
   },
   "outputs": [],
   "source": []
  }
 ],
 "metadata": {
  "anaconda-cloud": {},
  "kernelspec": {
   "display_name": "Python 3",
   "language": "python",
   "name": "python3"
  },
  "language_info": {
   "codemirror_mode": {
    "name": "ipython",
    "version": 3
   },
   "file_extension": ".py",
   "mimetype": "text/x-python",
   "name": "python",
   "nbconvert_exporter": "python",
   "pygments_lexer": "ipython3",
   "version": "3.5.2"
  }
 },
 "nbformat": 4,
 "nbformat_minor": 0
}
