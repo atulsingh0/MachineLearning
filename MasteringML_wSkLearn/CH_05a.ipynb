{
 "cells": [
  {
   "cell_type": "markdown",
   "metadata": {},
   "source": [
    "### Nonlinear Classification and Regression with Decision Trees  \n",
    "\n",
    "#### Decision trees  \n",
    "\n",
    "Decision trees are commonly learned by recursively splitting the set of training\n",
    "instances into subsets based on the instances' values for the explanatory variables.  \n",
    "\n",
    "In classification tasks, the leaf nodes\n",
    "of the decision tree represent classes. In regression tasks, the values of the response\n",
    "variable for the instances contained in a leaf node may be averaged to produce the\n",
    "estimate for the response variable. After the decision tree has been constructed,\n",
    "making a prediction for a test instance requires only following the edges until a\n",
    "leaf node is reached.  \n",
    "\n",
    "Let's create a decision tree using an algorithm called Iterative Dichotomiser 3 (ID3).\n",
    "Invented by Ross Quinlan, ID3 was one of the first algorithms used to train decision\n",
    "trees.  \n",
    "\n",
    "But how to choose the first variable on which we have to divide the data so that we can have smaller tree.  \n",
    "\n",
    "Measured in bits, entropy quantifies the amount of uncertainty in a variable. Entropy\n",
    "is given by the following equation, where n is the number of outcomes and ( ) i P x is\n",
    "the probability of the outcome i. Common values for b are 2, e, and 10. Because the\n",
    "log of a number less than one will be negative, the entire sum is negated to return a\n",
    "positive value. \n",
    "\n",
    "$$ H(X) =  -\\sum_{i=1}^{n} P(x_i)log_b P(x_i) $$"
   ]
  },
  {
   "cell_type": "code",
   "execution_count": null,
   "metadata": {
    "collapsed": true
   },
   "outputs": [],
   "source": []
  }
 ],
 "metadata": {
  "kernelspec": {
   "display_name": "Python 3",
   "language": "python",
   "name": "python3"
  },
  "language_info": {
   "codemirror_mode": {
    "name": "ipython",
    "version": 3
   },
   "file_extension": ".py",
   "mimetype": "text/x-python",
   "name": "python",
   "nbconvert_exporter": "python",
   "pygments_lexer": "ipython3",
   "version": "3.5.2"
  }
 },
 "nbformat": 4,
 "nbformat_minor": 0
}
